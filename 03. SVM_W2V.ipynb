{
 "cells": [
  {
   "cell_type": "code",
   "execution_count": 1,
   "metadata": {},
   "outputs": [],
   "source": [
    "# Study: Natural Language Processing with Deep Learning\n",
    "# Dataset: Dead By Daylight Steam Reviews\n",
    "# Author: Willian Oliveira and Julierme Silva\n",
    "# Start: 10/04/2023\n",
    "# Study Motivation: Train a machine to classify products based on user reviews\n",
    "# Notebook Motivation: The purpose of this notebook is to train a Support Vector Machine model to classify the reviews using word2vec.\n",
    "# Study Status: In Progress"
   ]
  },
  {
   "cell_type": "code",
   "execution_count": 2,
   "metadata": {},
   "outputs": [],
   "source": [
    "# Importing the libraries and setting up the environment\n",
    "\n",
    "import os\n",
    "import random\n",
    "import pandas as pd\n",
    "import numpy as np\n",
    "from sklearn.svm import SVC\n",
    "from gensim.models import Word2Vec\n",
    "from sklearn.pipeline import Pipeline\n",
    "from sklearn.metrics import classification_report, confusion_matrix, accuracy_score\n",
    "\n",
    "SEED = 0\n",
    "\n",
    "def set_seeds(seed=SEED):\n",
    "    os.environ['PYTHONHASHSEED'] = str(seed)\n",
    "    random.seed(seed)\n",
    "    np.random.seed(seed)\n",
    "\n",
    "set_seeds() # Setting seed for reproducible code"
   ]
  },
  {
   "cell_type": "code",
   "execution_count": 3,
   "metadata": {},
   "outputs": [],
   "source": [
    "# Creating useful functions for this notebook\n",
    "\n",
    "def review_to_vector(review, model):\n",
    "    \"\"\"\n",
    "    This function takes a preprocessed review text as input and performs the following steps:\n",
    "    1. Split the review text into words\n",
    "    2. Retrieve word vectors for each word from the trained Word2Vec model\n",
    "    3. If no word vectors are found, return a zero vector with the same dimensions as the Word2Vec model's vectors\n",
    "    4. Otherwise, return the mean of the word vectors as a single vector representation of the review\n",
    "    \n",
    "    :param review: str\n",
    "    :return: review_vector: numpy.ndarray\n",
    "    \"\"\"\n",
    "    words = review.split()\n",
    "    word_vectors = [model.wv[word] for word in words if word in model.wv.key_to_index]\n",
    "    \n",
    "    if len(word_vectors) == 0:\n",
    "        return np.zeros(model.vector_size)\n",
    "    else:\n",
    "        return np.mean(word_vectors, axis=0)"
   ]
  },
  {
   "cell_type": "code",
   "execution_count": 4,
   "metadata": {},
   "outputs": [],
   "source": [
    "# Importing the dataset\n",
    "\n",
    "X_train = np.load('data\\processed\\dbd_proc_train.npz', allow_pickle=True)['X_train']\n",
    "y_train = np.load('data\\processed\\dbd_proc_train.npz', allow_pickle=True)['y_train']\n",
    "X_val = np.load('data\\processed\\dbd_proc_val.npz', allow_pickle=True)['X_val']\n",
    "y_val = np.load('data\\processed\\dbd_proc_val.npz', allow_pickle=True)['y_val']\n",
    "X_test = np.load('data\\processed\\dbd_proc_test.npz', allow_pickle=True)['X_test']\n",
    "y_test = np.load('data\\processed\\dbd_proc_test.npz', allow_pickle=True)['y_test']\n"
   ]
  },
  {
   "cell_type": "code",
   "execution_count": 5,
   "metadata": {},
   "outputs": [
    {
     "name": "stdout",
     "output_type": "stream",
     "text": [
      "X_train shape:  (138588,) y_train shape:  (138588,)\n",
      "X_val shape:  (17324,) y_val shape:  (17324,)\n",
      "X_test shape:  (17324,) y_test shape:  (17324,)\n"
     ]
    }
   ],
   "source": [
    "# Verifying the shape of the dataset\n",
    "\n",
    "print('X_train shape: ', X_train.shape, 'y_train shape: ', y_train.shape)\n",
    "print('X_val shape: ', X_val.shape, 'y_val shape: ', y_val.shape)\n",
    "print('X_test shape: ', X_test.shape, 'y_test shape: ', y_test.shape)"
   ]
  },
  {
   "cell_type": "code",
   "execution_count": 6,
   "metadata": {},
   "outputs": [
    {
     "name": "stdout",
     "output_type": "stream",
     "text": [
      "Review:  played many game life none left feeling horrible large chunk playerbase play torment others way transcending game anything match sole purpose making miserable throw insult mock match abide rule play nice likely loose flame anyway survivor killer player stuck gameplay loop inherently unfun side higher level play optimal also boring frustrating everyone many perk greatly unbalanced dominating game killer feel absolutely powerless helpless survivor dance front mock survivor get targetted frustrated killer tunneled game early vicious cycle hatred u v mentality frustration many people call toxic wear badge honour acting accordingly devs history acknowledging state community leaving feature exploit game specifically bully player nothing actual gameplay even told people issue play another game one past stream therefore unlikely ever get better issue extends accessibility issue macroes people use purely annoy others cause rapidly flashing light persisting drilling sound may cause severe headache even seizure photosensitive people poor understanding high level play devs result highly questionable balance combined aforementioned overwhelming toxicity caused game hemorrhage player last year another issue game year overwhelming amount hacker getting hack easy many people use many hack subtle enough know sure hacking lucky good especially since always see caught redhanded gaslight tell problem instead hack range simple thing like faster movement repair speed automated perfect dodge wild thing like teleports instant repair totem cleanse freezing killer action cancel preventing match ever end even timer forcing disconnect remove point challenge progress applies timed matchmaking ban also shown capable digging ip address game streamer even swatted due issue addressed devs continue exist untouched core gameplay addicting way keep bringing back horrible experience leave game come back forgetting bad defended game year even recommended friend cause fun thing character incredibly well designed art department general phenomenal also many horror icon cool experience game core gameplay fun reach high level play many killer unique gameplay style lore expanded time rich well written real treat care however toxicity gameplay getting worse worse year point state fundamentally rotten even associated content creator game struggle fun playing especially killer main sum game really entertaining early fall end horrible time get involved game hard stop playing good always come back bad time going downhill term balance community health even security issue properly addressed proper step taken recommend game anyone sadly long going see addressed neither near far future\n",
      "Label:   False \n",
      "\n",
      "Review:  killer perk vary nothing extremely overpowered chance winning killer unless shell money get best perk\n",
      "Label:   False \n",
      "\n",
      "Review:  great coop game good game loop\n",
      "Label:   True \n",
      "\n",
      "Review:  eu tento gostar desse jogo por sou desincentivado pelo jogo comunidade bug pela empresa e suas escolhas basicamente tudo que gira em torno desse jogo foda behaviour ma acho que eu deveria ter jogado melhor\n",
      "Label:   True \n",
      "\n",
      "Review:  trash game would play\n",
      "Label:   True \n",
      "\n"
     ]
    }
   ],
   "source": [
    "# Verifying the first 5 reviews and their labels\n",
    "\n",
    "for i in range(5):\n",
    "    print('Review: ', X_train[i])\n",
    "    print('Label:  ', y_train[i],'\\n')\n"
   ]
  },
  {
   "cell_type": "code",
   "execution_count": 7,
   "metadata": {},
   "outputs": [],
   "source": [
    "# Training the Word2Vec model\n",
    "\n",
    "tokenized_train_reviews = [review.split() for review in X_train]\n",
    "word2vec_model = Word2Vec(tokenized_train_reviews, window=5, min_count=2, workers=4, sg=1)"
   ]
  },
  {
   "cell_type": "code",
   "execution_count": 8,
   "metadata": {},
   "outputs": [],
   "source": [
    "# Vectorizing all preprocessed datasets\n",
    "\n",
    "X_train_vectors = np.vstack([review_to_vector(review, word2vec_model) for review in X_train])\n",
    "X_test_vectors = np.vstack([review_to_vector(review, word2vec_model) for review in X_test])\n",
    "X_val_vectors = np.vstack([review_to_vector(review, word2vec_model) for review in X_val])"
   ]
  },
  {
   "cell_type": "code",
   "execution_count": 9,
   "metadata": {},
   "outputs": [
    {
     "name": "stdout",
     "output_type": "stream",
     "text": [
      "Vectorized Review: [-0.11937132  0.02813475  0.02784893 -0.03650415  0.07002902 -0.3202045\n",
      "  0.28634495  0.56452775 -0.23548026 -0.34144157  0.02482489 -0.26737189\n",
      "  0.07036278  0.11755116  0.18514377 -0.15203267  0.20474285 -0.23744814\n",
      " -0.00765318 -0.37633148  0.17365935  0.11473239  0.10359175 -0.05636572\n",
      "  0.00326007 -0.06139879 -0.2322841   0.05987832 -0.20943126 -0.05327559\n",
      "  0.29092532  0.03262205  0.14835322 -0.30664673 -0.06608938  0.28154269\n",
      "  0.09727833 -0.09791467 -0.0960035  -0.16280629  0.10677461 -0.1471927\n",
      " -0.06468121  0.05507277  0.22330019 -0.20338844 -0.10090797 -0.00578005\n",
      "  0.19479306  0.16803268  0.09098385 -0.1530385  -0.03914877 -0.02920726\n",
      " -0.00336284  0.09817076  0.18606591  0.07089808 -0.07527822  0.18075196\n",
      "  0.09734793 -0.02270308  0.05672899  0.06289259 -0.26193926  0.26059395\n",
      "  0.07441698  0.3301622  -0.26471892  0.22633351  0.09501598  0.1125366\n",
      "  0.23544538  0.05687068  0.3217434   0.09747277  0.10794196  0.02190048\n",
      " -0.02241277  0.04657407 -0.20824096  0.00437412 -0.27292785  0.46269172\n",
      " -0.12369778 -0.01797353  0.2160369   0.24481902  0.04648364 -0.01185164\n",
      "  0.11123412  0.08839712  0.19753058  0.04733257  0.34973505  0.08064809\n",
      "  0.01294789 -0.27845711  0.11880294 -0.0062431 ] -> Label False.\n",
      "\n",
      "Vectorized Review: [-0.09816726 -0.01570584 -0.10382083 -0.01814744  0.13006528 -0.3136737\n",
      "  0.30328929  0.70662189 -0.21507485 -0.18165393 -0.1141002  -0.31514549\n",
      " -0.04275809  0.12625585  0.11084919 -0.11046062  0.21125647 -0.37847537\n",
      "  0.02348378 -0.41056079  0.20425826  0.1828468   0.19892059 -0.09930468\n",
      "  0.03903382  0.01224635 -0.24235143  0.09224619 -0.32834238 -0.06831947\n",
      "  0.37503609  0.07564812  0.04910599 -0.34647465 -0.07044222  0.21649565\n",
      "  0.05027036 -0.06257013 -0.12025139 -0.28962713  0.25307405 -0.23679279\n",
      " -0.23361863  0.01091944  0.19733869 -0.16630834 -0.05681824 -0.02325151\n",
      "  0.21654384  0.10448827  0.00829963 -0.28437445  0.08389104 -0.1166724\n",
      "  0.00745256  0.01644878  0.2848407   0.09225596 -0.05040578  0.19356254\n",
      "  0.06845466 -0.0159642   0.06767578  0.13649525 -0.23386961  0.3229273\n",
      "  0.05885781  0.27647629 -0.21184391  0.1690288   0.05687749  0.10144901\n",
      "  0.14578693  0.12732308  0.13939337 -0.06583975  0.15562409 -0.10021798\n",
      " -0.06934036 -0.0642292  -0.29877546 -0.01110938 -0.28197098  0.47220266\n",
      " -0.22110806 -0.21111122  0.26916513  0.12344818 -0.05265625 -0.07801344\n",
      "  0.10430084  0.11541647  0.38153422  0.06561957  0.36875048  0.23892704\n",
      "  0.08331195 -0.39558017  0.05820573  0.03294354] -> Label False.\n",
      "\n",
      "Vectorized Review: [-0.20538746  0.07134525  0.10584051 -0.11672135  0.10150894 -0.06063672\n",
      "  0.37333336  0.62262267 -0.38937977 -0.31258821  0.14948332 -0.3223972\n",
      "  0.08464277  0.04606411  0.15371923 -0.04563753  0.19786711 -0.29624295\n",
      " -0.10405122 -0.32886159  0.14630076  0.08602632  0.28542283 -0.0096461\n",
      "  0.01100878 -0.1190294  -0.12548788  0.07983243 -0.06796145 -0.1247007\n",
      "  0.19331664 -0.19763376  0.13352065 -0.27493963  0.05405125  0.20344059\n",
      "  0.14967896 -0.15906064 -0.04479642 -0.18726595  0.02610565 -0.11461765\n",
      " -0.0747636   0.08008252  0.09578338 -0.17283757 -0.18730159 -0.10007409\n",
      "  0.05678859  0.23433614  0.08605992 -0.01834209 -0.10650101  0.05071433\n",
      " -0.13134663 -0.1185374   0.38079545  0.01948793 -0.34387946  0.10920388\n",
      " -0.06214376  0.05655077  0.049312    0.09756155 -0.24168885  0.24509867\n",
      "  0.04641442  0.34626576 -0.64585561  0.31886303  0.27877656  0.14458533\n",
      "  0.43935859  0.12454137  0.16611707 -0.00920841 -0.00806761  0.01537313\n",
      "  0.1046499  -0.0502324  -0.26747915 -0.16233653 -0.22926384  0.44041422\n",
      " -0.11501212 -0.05976498  0.20510256  0.29763767 -0.04766773  0.18029387\n",
      "  0.23464848  0.20511667  0.26336575  0.03929677  0.42979631  0.01904863\n",
      "  0.18637855 -0.40073276  0.23046248  0.00970473] -> Label True.\n",
      "\n",
      "Vectorized Review: [-0.53865433  0.17180841  0.24047346 -0.06015011 -0.00349056 -0.43010613\n",
      "  0.0318821   0.29817864 -0.1331421  -0.00862765 -0.02794903 -0.21544375\n",
      " -0.12984458 -0.22457667  0.29694667 -0.28574589 -0.03763824 -0.50112712\n",
      "  0.17248364 -0.10892467  0.06828582  0.25137886  0.03702303 -0.08736198\n",
      "  0.17784058 -0.32214627  0.13978244 -0.1255569  -0.32296678 -0.16158037\n",
      "  0.22522019  0.07035113 -0.19247647  0.03002995  0.13286398  0.07366984\n",
      "  0.01032371 -0.17539203  0.15680851 -0.32010347 -0.23631051 -0.33596539\n",
      "  0.00986477  0.12050791  0.10838584 -0.23005585 -0.30926341  0.22230965\n",
      " -0.08571761  0.32835552 -0.04398545 -0.06676535 -0.14653274  0.06346457\n",
      " -0.4529289   0.29861918  0.21887405 -0.12886062 -0.14805683 -0.03155403\n",
      "  0.05145874 -0.16242598 -0.44786555  0.11904348 -0.13324535 -0.02517009\n",
      "  0.08277727 -0.3222259  -0.25888875  0.23900101 -0.03508483 -0.13468033\n",
      "  0.20539017 -0.15083604 -0.10024577 -0.0208845   0.02292792 -0.15036684\n",
      "  0.01160337  0.23139127  0.21033075 -0.17152768  0.07864085  0.17911558\n",
      "  0.19587672  0.1755053  -0.45429838  0.26246074  0.08247726 -0.06691819\n",
      " -0.18080124 -0.05517708  0.01308177 -0.19615307  0.02957707  0.16470623\n",
      " -0.26295349 -0.47530735  0.34699035  0.01816784] -> Label True.\n",
      "\n",
      "Vectorized Review: [-2.11822793e-01  1.68991417e-01  6.99879155e-02 -1.44364154e-02\n",
      "  1.17993593e-01 -2.36832783e-01  4.34401631e-01  7.07316935e-01\n",
      " -2.41826773e-02 -1.05402797e-01  9.85040665e-02 -2.81275064e-01\n",
      "  3.09786558e-01  1.30146071e-01  1.69618189e-01 -1.95630789e-01\n",
      "  1.45661935e-01 -2.61174083e-01 -2.49148875e-01 -3.36557686e-01\n",
      "  1.26782700e-01  2.43519410e-01  1.02760732e-01  2.30876878e-02\n",
      "  8.72940421e-02 -4.48441654e-02 -1.82064980e-01 -5.40441833e-02\n",
      " -2.38253802e-01 -8.80380347e-02  2.90505767e-01 -8.92343074e-02\n",
      "  2.82801896e-01 -2.16802925e-01 -1.49614707e-01  2.75690705e-01\n",
      "  5.54659367e-02  1.06296130e-02 -1.25611603e-01 -2.37884670e-01\n",
      "  1.24186650e-01 -1.74737930e-01 -6.31482974e-02  1.10587984e-01\n",
      "  1.24474928e-01 -1.12972602e-01 -1.10141858e-01 -6.36296347e-04\n",
      "  1.89718679e-01  2.01054767e-01  1.11127496e-01 -1.11567222e-01\n",
      " -1.07803531e-01  1.45873368e-01 -1.59516424e-01 -6.02735505e-02\n",
      "  4.20351237e-01 -1.61422476e-01 -3.40795517e-01 -7.06873834e-07\n",
      "  1.93982758e-02 -1.33895427e-02  2.15772256e-01  4.63424027e-02\n",
      " -2.21988633e-01  3.86459678e-01 -9.16812383e-03  1.06107309e-01\n",
      " -4.69755948e-01  2.96471119e-01  2.90124893e-01  3.69708911e-02\n",
      "  2.29913563e-01 -1.49573386e-03  4.29308355e-01 -3.55545245e-02\n",
      "  2.21884027e-01  1.22928694e-02 -6.10933229e-02  2.09021479e-01\n",
      " -2.74374276e-01  3.73934396e-02 -2.64149219e-01  3.95977676e-01\n",
      " -1.87584355e-01 -1.35074213e-01  3.47377479e-01  3.71977061e-01\n",
      " -2.35387571e-02  2.87854131e-02  1.81735590e-01  3.97071205e-02\n",
      "  2.19784886e-01  1.97347164e-01  4.56120670e-01  1.06692791e-01\n",
      "  4.58689556e-02 -2.26866081e-01 -4.67831120e-02 -1.57834768e-01] -> Label True.\n",
      "\n"
     ]
    }
   ],
   "source": [
    "# Verifying the first 5 vectorized reviews and their labels\n",
    "\n",
    "for i in range(5):\n",
    "    print(f'Vectorized Review: {X_train_vectors[i]} -> Label {y_train[i]}.\\n')"
   ]
  }
 ],
 "metadata": {
  "kernelspec": {
   "display_name": "nlp",
   "language": "python",
   "name": "python3"
  },
  "language_info": {
   "codemirror_mode": {
    "name": "ipython",
    "version": 3
   },
   "file_extension": ".py",
   "mimetype": "text/x-python",
   "name": "python",
   "nbconvert_exporter": "python",
   "pygments_lexer": "ipython3",
   "version": "3.9.13"
  },
  "orig_nbformat": 4
 },
 "nbformat": 4,
 "nbformat_minor": 2
}
