{
 "cells": [
  {
   "cell_type": "code",
   "execution_count": 1,
   "metadata": {},
   "outputs": [],
   "source": [
    "# Study: Natural Language Processing with Deep Learning\n",
    "# Dataset: Dead By Daylight Steam Reviews\n",
    "# Author: Willian Oliveira and Julierme Silva\n",
    "# Start: 10/04/2023\n",
    "# Study Motivation: Train a machine to classify products based on user reviews\n",
    "# Notebook Motivation: The purpose of this notebook is to train a BERT Transformer to classify the reviews of the Dead By Daylight game on Steam\n",
    "# Study Status: Finished"
   ]
  },
  {
   "cell_type": "code",
   "execution_count": 2,
   "metadata": {},
   "outputs": [],
   "source": [
    "# Importing the libraries and setting up the environment\n",
    "\n",
    "import random\n",
    "import numpy as np\n",
    "import pandas as pd\n",
    "import tensorflow as tf\n",
    "import matplotlib.pyplot as plt\n",
    "from sklearn.model_selection import train_test_split\n",
    "from imblearn.under_sampling import RandomUnderSampler\n",
    "from transformers import BertTokenizer, TFBertForSequenceClassification, BertConfig\n",
    "from sklearn.metrics import (\n",
    "    precision_score,\n",
    "    recall_score,\n",
    "    f1_score,\n",
    "    roc_auc_score,\n",
    "    accuracy_score,\n",
    ")\n",
    "\n",
    "\n",
    "def set_seed(seed):\n",
    "    random.seed(seed)\n",
    "    np.random.seed(seed)\n",
    "    tf.random.set_seed(seed)\n",
    "\n",
    "\n",
    "SEED = 0\n",
    "set_seed(SEED)  # Setting seed for reproducibility"
   ]
  },
  {
   "cell_type": "code",
   "execution_count": 3,
   "metadata": {},
   "outputs": [
    {
     "data": {
      "text/html": [
       "<div>\n",
       "<style scoped>\n",
       "    .dataframe tbody tr th:only-of-type {\n",
       "        vertical-align: middle;\n",
       "    }\n",
       "\n",
       "    .dataframe tbody tr th {\n",
       "        vertical-align: top;\n",
       "    }\n",
       "\n",
       "    .dataframe thead th {\n",
       "        text-align: right;\n",
       "    }\n",
       "</style>\n",
       "<table border=\"1\" class=\"dataframe\">\n",
       "  <thead>\n",
       "    <tr style=\"text-align: right;\">\n",
       "      <th></th>\n",
       "      <th>review_id</th>\n",
       "      <th>review_text</th>\n",
       "      <th>recommended</th>\n",
       "    </tr>\n",
       "  </thead>\n",
       "  <tbody>\n",
       "    <tr>\n",
       "      <th>0</th>\n",
       "      <td>136024101</td>\n",
       "      <td>good game\\n</td>\n",
       "      <td>True</td>\n",
       "    </tr>\n",
       "    <tr>\n",
       "      <th>1</th>\n",
       "      <td>136022433</td>\n",
       "      <td>BHVR implemented dc penalty cos they apparentl...</td>\n",
       "      <td>False</td>\n",
       "    </tr>\n",
       "    <tr>\n",
       "      <th>2</th>\n",
       "      <td>136022116</td>\n",
       "      <td>เกมหมาๆ คิลเก่งก็เก่งไปเลย กากก็กากสัส กดโซโล่...</td>\n",
       "      <td>False</td>\n",
       "    </tr>\n",
       "    <tr>\n",
       "      <th>3</th>\n",
       "      <td>136019421</td>\n",
       "      <td>This game is very fun unless you get fucked by...</td>\n",
       "      <td>True</td>\n",
       "    </tr>\n",
       "    <tr>\n",
       "      <th>4</th>\n",
       "      <td>136019209</td>\n",
       "      <td>Why?</td>\n",
       "      <td>False</td>\n",
       "    </tr>\n",
       "  </tbody>\n",
       "</table>\n",
       "</div>"
      ],
      "text/plain": [
       "   review_id                                        review_text  recommended\n",
       "0  136024101                                        good game\\n         True\n",
       "1  136022433  BHVR implemented dc penalty cos they apparentl...        False\n",
       "2  136022116  เกมหมาๆ คิลเก่งก็เก่งไปเลย กากก็กากสัส กดโซโล่...        False\n",
       "3  136019421  This game is very fun unless you get fucked by...         True\n",
       "4  136019209                                               Why?        False"
      ]
     },
     "execution_count": 3,
     "metadata": {},
     "output_type": "execute_result"
    }
   ],
   "source": [
    "# Importing the dataset and dropping the null values from the dataset\n",
    "\n",
    "df = pd.read_csv('data/raw/dbd_english_reviews.csv')\n",
    "df = df.dropna()\n",
    "df.head()"
   ]
  },
  {
   "cell_type": "code",
   "execution_count": 4,
   "metadata": {},
   "outputs": [],
   "source": [
    "# Splitting the dataset into the Training, Validation and Test set with imbalanced-learn, splitting first and then undersampling to avoid data leakage\n",
    "\n",
    "X = df[\"review_text\"]\n",
    "y = df[\"recommended\"]\n",
    "\n",
    "X_train, X_temp, y_train, y_temp = train_test_split(\n",
    "    X, y, test_size=0.3, random_state=SEED\n",
    ")\n",
    "X_val, X_test, y_val, y_test = train_test_split(\n",
    "    X_temp, y_temp, test_size=0.5, random_state=SEED\n",
    ")\n",
    "\n",
    "# Undersampling the training set\n",
    "\n",
    "rus = RandomUnderSampler(random_state=SEED)\n",
    "X_train, y_train = rus.fit_resample(X_train.values.reshape(-1, 1), y_train)\n",
    "\n",
    "# Converting X_train resampled back to a string to be used by the tokenizer\n",
    "\n",
    "X_train = np.ravel(X_train)"
   ]
  },
  {
   "cell_type": "code",
   "execution_count": 5,
   "metadata": {},
   "outputs": [
    {
     "data": {
      "text/plain": [
       "((46178,), (25985,), (25986,))"
      ]
     },
     "execution_count": 5,
     "metadata": {},
     "output_type": "execute_result"
    }
   ],
   "source": [
    "X_train.shape, X_val.shape, X_test.shape"
   ]
  },
  {
   "cell_type": "code",
   "execution_count": 5,
   "metadata": {},
   "outputs": [],
   "source": [
    "# Tokenizing the reviews with the BERT tokenizer\n",
    "\n",
    "tokenizer = BertTokenizer.from_pretrained(\"bert-base-cased\")\n",
    "\n",
    "def tokenize_data(texts, labels):\n",
    "    input_ids, attention_masks, target_labels = [], [], []\n",
    "    \n",
    "    for text, label in zip(texts, labels):\n",
    "        tokenized = tokenizer.encode_plus(\n",
    "            text,\n",
    "            add_special_tokens=True,\n",
    "            max_length=128,\n",
    "            padding='max_length',\n",
    "            truncation=True,\n",
    "            return_attention_mask=True,\n",
    "            return_tensors='tf'\n",
    "        )\n",
    "        input_ids.append(tokenized['input_ids'][0])\n",
    "        attention_masks.append(tokenized['attention_mask'][0])\n",
    "        target_labels.append(label)\n",
    "    \n",
    "    return np.array(input_ids), np.array(attention_masks), np.array(target_labels)\n",
    "\n",
    "X_train_ids, X_train_masks, y_train_labels = tokenize_data(X_train, y_train)\n",
    "X_val_ids, X_val_masks, y_val_labels = tokenize_data(X_val, y_val)\n",
    "X_test_ids, X_test_masks, y_test_labels = tokenize_data(X_test, y_test)\n"
   ]
  },
  {
   "cell_type": "code",
   "execution_count": 6,
   "metadata": {},
   "outputs": [
    {
     "data": {
      "application/vnd.jupyter.widget-view+json": {
       "model_id": "eb0d88c8d0894f11b7bfd924ef71cf62",
       "version_major": 2,
       "version_minor": 0
      },
      "text/plain": [
       "Downloading tf_model.h5:   0%|          | 0.00/527M [00:00<?, ?B/s]"
      ]
     },
     "metadata": {},
     "output_type": "display_data"
    },
    {
     "name": "stderr",
     "output_type": "stream",
     "text": [
      "c:\\Users\\willi\\anaconda3\\envs\\tf_2.10\\lib\\site-packages\\huggingface_hub\\file_download.py:133: UserWarning: `huggingface_hub` cache-system uses symlinks by default to efficiently store duplicated files but your machine does not support them in C:\\Users\\willi\\.cache\\huggingface\\hub. Caching files will still work but in a degraded version that might require more space on your disk. This warning can be disabled by setting the `HF_HUB_DISABLE_SYMLINKS_WARNING` environment variable. For more details, see https://huggingface.co/docs/huggingface_hub/how-to-cache#limitations.\n",
      "To support symlinks on Windows, you either need to activate Developer Mode or to run Python as an administrator. In order to see activate developer mode, see this article: https://docs.microsoft.com/en-us/windows/apps/get-started/enable-your-device-for-development\n",
      "  warnings.warn(message)\n",
      "All model checkpoint layers were used when initializing TFBertForSequenceClassification.\n",
      "\n",
      "Some layers of TFBertForSequenceClassification were not initialized from the model checkpoint at bert-base-cased and are newly initialized: ['classifier']\n",
      "You should probably TRAIN this model on a down-stream task to be able to use it for predictions and inference.\n"
     ]
    }
   ],
   "source": [
    "# Creating the BERT model\n",
    "\n",
    "config = BertConfig.from_pretrained(\"bert-base-cased\", num_labels=2)\n",
    "model = TFBertForSequenceClassification.from_pretrained(\n",
    "    \"bert-base-cased\", config=config\n",
    ")\n",
    "\n",
    "# Compiling the model\n",
    "\n",
    "optimizer = tf.keras.optimizers.Adam(learning_rate=2e-5)\n",
    "loss = tf.keras.losses.SparseCategoricalCrossentropy(from_logits=True)\n",
    "metrics = [\"accuracy\"]\n",
    "model.compile(optimizer=optimizer, loss=loss, metrics=metrics)"
   ]
  },
  {
   "cell_type": "code",
   "execution_count": 7,
   "metadata": {},
   "outputs": [
    {
     "name": "stdout",
     "output_type": "stream",
     "text": [
      "Epoch 1/3\n",
      "2887/2887 [==============================] - 1292s 442ms/step - loss: 0.3551 - accuracy: 0.8440 - val_loss: 0.3134 - val_accuracy: 0.8711\n",
      "Epoch 2/3\n",
      "2887/2887 [==============================] - 1269s 439ms/step - loss: 0.2545 - accuracy: 0.8966 - val_loss: 0.3315 - val_accuracy: 0.8553\n",
      "Epoch 3/3\n",
      "2887/2887 [==============================] - 1270s 440ms/step - loss: 0.1772 - accuracy: 0.9318 - val_loss: 0.3709 - val_accuracy: 0.8588\n"
     ]
    }
   ],
   "source": [
    "# Training the model\n",
    "\n",
    "history = model.fit(\n",
    "    [X_train_ids, X_train_masks],\n",
    "    y_train_labels,\n",
    "    validation_data=([X_val_ids, X_val_masks], y_val_labels),\n",
    "    epochs=3,\n",
    "    batch_size=16,\n",
    ")"
   ]
  },
  {
   "cell_type": "code",
   "execution_count": 20,
   "metadata": {},
   "outputs": [
    {
     "data": {
      "text/plain": [
       "('models/dbd_reviews_bert_tokenizer\\\\tokenizer_config.json',\n",
       " 'models/dbd_reviews_bert_tokenizer\\\\special_tokens_map.json',\n",
       " 'models/dbd_reviews_bert_tokenizer\\\\vocab.txt',\n",
       " 'models/dbd_reviews_bert_tokenizer\\\\added_tokens.json')"
      ]
     },
     "execution_count": 20,
     "metadata": {},
     "output_type": "execute_result"
    }
   ],
   "source": [
    "# Saving the model\n",
    "\n",
    "model.save_pretrained(\"models/dbd_reviews_bert\")\n",
    "tokenizer.save_pretrained(\"models/dbd_reviews_bert_tokenizer\")"
   ]
  },
  {
   "cell_type": "code",
   "execution_count": 21,
   "metadata": {},
   "outputs": [
    {
     "name": "stdout",
     "output_type": "stream",
     "text": [
      "813/813 [==============================] - 238s 293ms/step\n",
      "Accuracy: 0.86\n",
      "Precision: 0.96\n",
      "Recall: 0.86\n",
      "F1 Score: 0.91\n",
      "ROC AUC Score: 0.93\n"
     ]
    }
   ],
   "source": [
    "# Evaluating the model\n",
    "\n",
    "y_pred_probs = model.predict([X_test_ids, X_test_masks])\n",
    "y_pred_probs = y_pred_probs.logits\n",
    "y_pred_labels = np.argmax(y_pred_probs, axis=-1)\n",
    "y_pred_labels = y_pred_labels.squeeze()\n",
    "\n",
    "accuracy = accuracy_score(y_test_labels, y_pred_labels)\n",
    "precision = precision_score(y_test_labels, y_pred_labels)\n",
    "recall = recall_score(y_test_labels, y_pred_labels)\n",
    "f1 = f1_score(y_test_labels, y_pred_labels)\n",
    "roc_auc = roc_auc_score(y_test_labels, y_pred_probs[:, 1])\n",
    "\n",
    "print(f\"Accuracy: {accuracy:.2f}\")\n",
    "print(f\"Precision: {precision:.2f}\")\n",
    "print(f\"Recall: {recall:.2f}\")\n",
    "print(f\"F1 Score: {f1:.2f}\")\n",
    "print(f\"ROC AUC Score: {roc_auc:.2f}\")\n",
    "\n"
   ]
  }
 ],
 "metadata": {
  "kernelspec": {
   "display_name": "nlp",
   "language": "python",
   "name": "python3"
  },
  "language_info": {
   "codemirror_mode": {
    "name": "ipython",
    "version": 3
   },
   "file_extension": ".py",
   "mimetype": "text/x-python",
   "name": "python",
   "nbconvert_exporter": "python",
   "pygments_lexer": "ipython3",
   "version": "3.9.16"
  },
  "orig_nbformat": 4
 },
 "nbformat": 4,
 "nbformat_minor": 2
}
