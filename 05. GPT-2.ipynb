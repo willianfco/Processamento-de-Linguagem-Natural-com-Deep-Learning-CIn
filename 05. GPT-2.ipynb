{
 "cells": [
  {
   "cell_type": "code",
   "execution_count": 20,
   "metadata": {},
   "outputs": [],
   "source": [
    "# Study: Natural Language Processing with Deep Learning\n",
    "# Dataset: Dead By Daylight Steam Reviews\n",
    "# Author: Willian Oliveira and Julierme Silva\n",
    "# Start: 10/04/2023\n",
    "# Study Motivation: Train a machine to classify products based on user reviews\n",
    "# Notebook Motivation: The purpose of this notebook is to fine-tune a in-context language model to perform classification reviews for Dead By Daylight\n",
    "# Study Status: Finished"
   ]
  },
  {
   "cell_type": "code",
   "execution_count": 21,
   "metadata": {},
   "outputs": [
    {
     "name": "stdout",
     "output_type": "stream",
     "text": [
      "Using Device: NVIDIA GeForce RTX 3060\n"
     ]
    }
   ],
   "source": [
    "# Importing the libraries\n",
    "\n",
    "import pandas as pd\n",
    "import time\n",
    "import datetime\n",
    "from transformers import GPT2LMHeadModel, GPT2Tokenizer\n",
    "import numpy as np\n",
    "import random\n",
    "import torch\n",
    "from sklearn.model_selection import train_test_split\n",
    "from imblearn.under_sampling import RandomUnderSampler\n",
    "from torch.utils.data import Dataset, DataLoader, RandomSampler, SequentialSampler\n",
    "from transformers import GPT2Tokenizer, GPT2Config, GPT2LMHeadModel, AdamW, get_linear_schedule_with_warmup\n",
    "from tqdm import tqdm, trange\n",
    "import torch.nn.functional as F\n",
    "import csv\n",
    "\n",
    "def set_seed(seed):\n",
    "    random.seed(seed)\n",
    "    np.random.seed(seed)\n",
    "    torch.manual_seed(seed)\n",
    "\n",
    "    if torch.cuda.is_available():\n",
    "        torch.cuda.manual_seed(seed)\n",
    "        torch.cuda.manual_seed_all(seed)\n",
    "        torch.backends.cudnn.deterministic = True\n",
    "        torch.backends.cudnn.benchmark = False\n",
    "        torch.backends.cudnn.enabled = True\n",
    "\n",
    "\n",
    "SEED = 0\n",
    "set_seed(SEED)  # Setting seed for reproducibility\n",
    "\n",
    "# Setting device to GPU if available, else CPU\n",
    "\n",
    "device = torch.device(\"cuda\" if torch.cuda.is_available() else \"cpu\")\n",
    "print(\n",
    "    f'Using Device: {torch.cuda.get_device_name(0) if torch.cuda.is_available() else \"CPU\"}'\n",
    ")"
   ]
  },
  {
   "cell_type": "code",
   "execution_count": 22,
   "metadata": {},
   "outputs": [
    {
     "data": {
      "text/html": [
       "<div>\n",
       "<style scoped>\n",
       "    .dataframe tbody tr th:only-of-type {\n",
       "        vertical-align: middle;\n",
       "    }\n",
       "\n",
       "    .dataframe tbody tr th {\n",
       "        vertical-align: top;\n",
       "    }\n",
       "\n",
       "    .dataframe thead th {\n",
       "        text-align: right;\n",
       "    }\n",
       "</style>\n",
       "<table border=\"1\" class=\"dataframe\">\n",
       "  <thead>\n",
       "    <tr style=\"text-align: right;\">\n",
       "      <th></th>\n",
       "      <th>review_id</th>\n",
       "      <th>review_text</th>\n",
       "      <th>recommended</th>\n",
       "    </tr>\n",
       "  </thead>\n",
       "  <tbody>\n",
       "    <tr>\n",
       "      <th>0</th>\n",
       "      <td>136024101</td>\n",
       "      <td>good game\\n</td>\n",
       "      <td>True</td>\n",
       "    </tr>\n",
       "    <tr>\n",
       "      <th>1</th>\n",
       "      <td>136022433</td>\n",
       "      <td>BHVR implemented dc penalty cos they apparentl...</td>\n",
       "      <td>False</td>\n",
       "    </tr>\n",
       "    <tr>\n",
       "      <th>2</th>\n",
       "      <td>136022116</td>\n",
       "      <td>เกมหมาๆ คิลเก่งก็เก่งไปเลย กากก็กากสัส กดโซโล่...</td>\n",
       "      <td>False</td>\n",
       "    </tr>\n",
       "    <tr>\n",
       "      <th>3</th>\n",
       "      <td>136019421</td>\n",
       "      <td>This game is very fun unless you get fucked by...</td>\n",
       "      <td>True</td>\n",
       "    </tr>\n",
       "    <tr>\n",
       "      <th>4</th>\n",
       "      <td>136019209</td>\n",
       "      <td>Why?</td>\n",
       "      <td>False</td>\n",
       "    </tr>\n",
       "  </tbody>\n",
       "</table>\n",
       "</div>"
      ],
      "text/plain": [
       "   review_id                                        review_text  recommended\n",
       "0  136024101                                        good game\\n         True\n",
       "1  136022433  BHVR implemented dc penalty cos they apparentl...        False\n",
       "2  136022116  เกมหมาๆ คิลเก่งก็เก่งไปเลย กากก็กากสัส กดโซโล่...        False\n",
       "3  136019421  This game is very fun unless you get fucked by...         True\n",
       "4  136019209                                               Why?        False"
      ]
     },
     "execution_count": 22,
     "metadata": {},
     "output_type": "execute_result"
    }
   ],
   "source": [
    "# Loading the dataset\n",
    "\n",
    "df = pd.read_csv('data/raw/dbd_english_reviews.csv')\n",
    "df = df.dropna()\n",
    "df.head()"
   ]
  },
  {
   "cell_type": "code",
   "execution_count": 23,
   "metadata": {},
   "outputs": [],
   "source": [
    "# Splitting the dataset into the Training, Validation and Test set with imbalanced-learn, splitting first and then undersampling to avoid data leakage\n",
    "\n",
    "X = df[\"review_text\"]\n",
    "y = df[\"recommended\"]\n",
    "\n",
    "X_train, X_temp, y_train, y_temp = train_test_split(\n",
    "    X, y, test_size=0.3, random_state=SEED\n",
    ")\n",
    "X_val, X_test, y_val, y_test = train_test_split(\n",
    "    X_temp, y_temp, test_size=0.5, random_state=SEED\n",
    ")\n",
    "\n",
    "# Undersampling the training set\n",
    "\n",
    "rus = RandomUnderSampler(random_state=SEED)\n",
    "X_train, y_train = rus.fit_resample(X_train.values.reshape(-1, 1), y_train)\n",
    "\n",
    "# Converting X_train resampled back to a string to be used by the tokenizer\n",
    "\n",
    "X_train = np.ravel(X_train)"
   ]
  },
  {
   "cell_type": "code",
   "execution_count": 24,
   "metadata": {},
   "outputs": [],
   "source": [
    "# Creating the context dataset\n",
    "\n",
    "def create_context_dataset(reviews, labels, prepend_text=\"Review:\"):\n",
    "    context_data = []\n",
    "    for review, label in zip(reviews, labels):\n",
    "        context_data.append(f\"{prepend_text} {review} {'Recommended' if label else 'Not recommended'}\")\n",
    "    return context_data\n",
    "\n",
    "X_train_context = create_context_dataset(X_train, y_train)\n",
    "X_val_context = create_context_dataset(X_val, y_val)\n",
    "X_test_context = create_context_dataset(X_test, y_test)"
   ]
  },
  {
   "cell_type": "code",
   "execution_count": 25,
   "metadata": {},
   "outputs": [
    {
     "name": "stderr",
     "output_type": "stream",
     "text": [
      "Special tokens have been added in the vocabulary, make sure the associated word embeddings are fine-tuned or trained.\n"
     ]
    }
   ],
   "source": [
    "# Load the GPT tokenizer.\n",
    "tokenizer = GPT2Tokenizer.from_pretrained('gpt2', bos_token='<|startoftext|>', eos_token='<|endoftext|>', pad_token='<|pad|>') #gpt2-medium\n"
   ]
  },
  {
   "cell_type": "code",
   "execution_count": 26,
   "metadata": {},
   "outputs": [
    {
     "name": "stdout",
     "output_type": "stream",
     "text": [
      "The max model length is 1024 for this model, although the actual embedding size for GPT small is 768\n",
      "The beginning of sequence token <|startoftext|> token has the id 50257\n",
      "The end of sequence token <|endoftext|> has the id 50256\n",
      "The padding token <|pad|> has the id 50258\n"
     ]
    }
   ],
   "source": [
    "# Verify tokenizer metrics\n",
    "\n",
    "print(\"The max model length is {} for this model, although the actual embedding size for GPT small is 768\".format(tokenizer.model_max_length))\n",
    "print(\"The beginning of sequence token {} token has the id {}\".format(tokenizer.convert_ids_to_tokens(tokenizer.bos_token_id), tokenizer.bos_token_id))\n",
    "print(\"The end of sequence token {} has the id {}\".format(tokenizer.convert_ids_to_tokens(tokenizer.eos_token_id), tokenizer.eos_token_id))\n",
    "print(\"The padding token {} has the id {}\".format(tokenizer.convert_ids_to_tokens(tokenizer.pad_token_id), tokenizer.pad_token_id))"
   ]
  },
  {
   "cell_type": "code",
   "execution_count": 27,
   "metadata": {},
   "outputs": [],
   "source": [
    "batch_size = 2"
   ]
  },
  {
   "cell_type": "code",
   "execution_count": 28,
   "metadata": {},
   "outputs": [],
   "source": [
    "# Creating the dataset for the neural network\n",
    "\n",
    "class GPT2Dataset(Dataset):\n",
    "\n",
    "  def __init__(self, txt_list, tokenizer, gpt2_type=\"gpt2\", max_length=768):\n",
    "\n",
    "    self.tokenizer = tokenizer\n",
    "    self.input_ids = []\n",
    "    self.attn_masks = []\n",
    "\n",
    "    for txt in txt_list:\n",
    "\n",
    "      encodings_dict = tokenizer('<|startoftext|>'+ txt + '<|endoftext|>', truncation=True, max_length=max_length, padding=\"max_length\")\n",
    "\n",
    "      self.input_ids.append(torch.tensor(encodings_dict['input_ids']))\n",
    "      self.attn_masks.append(torch.tensor(encodings_dict['attention_mask']))\n",
    "    \n",
    "  def __len__(self):\n",
    "    return len(self.input_ids)\n",
    "\n",
    "  def __getitem__(self, idx):\n",
    "    return self.input_ids[idx], self.attn_masks[idx] "
   ]
  },
  {
   "cell_type": "code",
   "execution_count": 18,
   "metadata": {},
   "outputs": [
    {
     "name": "stdout",
     "output_type": "stream",
     "text": [
      "46,178 training samples\n",
      "25,985 validation samples\n",
      "25,986 test samples\n"
     ]
    }
   ],
   "source": [
    "train_dataset = GPT2Dataset(X_train_context, tokenizer, max_length=768)\n",
    "val_dataset = GPT2Dataset(X_val_context, tokenizer, max_length=768)\n",
    "test_dataset = GPT2Dataset(X_test_context, tokenizer, max_length=768)\n",
    "\n",
    "print('{:>5,} training samples'.format(len(train_dataset)))\n",
    "print('{:>5,} validation samples'.format(len(val_dataset)))\n",
    "print('{:>5,} test samples'.format(len(test_dataset)))"
   ]
  },
  {
   "cell_type": "code",
   "execution_count": 19,
   "metadata": {},
   "outputs": [],
   "source": [
    "# Create the DataLoaders for our training, validation and test datasets.\n",
    "\n",
    "train_dataloader = DataLoader(\n",
    "            train_dataset,  # The training samples.\n",
    "            sampler = RandomSampler(train_dataset), # Select batches randomly\n",
    "            batch_size = batch_size # Trains with this batch size.\n",
    "        )\n",
    "\n",
    "\n",
    "validation_dataloader = DataLoader(\n",
    "            val_dataset, # The validation samples.\n",
    "            sampler = SequentialSampler(val_dataset), # Pull out batches sequentially.\n",
    "            batch_size = batch_size # Evaluate with this batch size.\n",
    "        )\n",
    "\n",
    "test_dataloader = DataLoader(\n",
    "            test_dataset, # The test samples.\n",
    "            sampler = SequentialSampler(test_dataset), # Pull out batches sequentially.\n",
    "            batch_size = batch_size # Evaluate with this batch size.\n",
    "        )\n",
    "\n",
    "\n"
   ]
  },
  {
   "cell_type": "code",
   "execution_count": 29,
   "metadata": {},
   "outputs": [
    {
     "name": "stderr",
     "output_type": "stream",
     "text": [
      "c:\\Users\\willi\\anaconda3\\envs\\torch_1.13\\lib\\site-packages\\transformers\\optimization.py:391: FutureWarning: This implementation of AdamW is deprecated and will be removed in a future version. Use the PyTorch implementation torch.optim.AdamW instead, or set `no_deprecation_warning=True` to disable this warning\n",
      "  warnings.warn(\n"
     ]
    }
   ],
   "source": [
    "configuration = GPT2Config.from_pretrained('gpt2', output_hidden_states=False)\n",
    "\n",
    "# instantiate the model\n",
    "model = GPT2LMHeadModel.from_pretrained(\"gpt2\", config=configuration)\n",
    "\n",
    "# resize the token embeddings to match the new vocabulary size\n",
    "\n",
    "model.resize_token_embeddings(len(tokenizer))\n",
    "\n",
    "# move the model to the GPU\n",
    "\n",
    "device = torch.device(\"cuda\")\n",
    "model.cuda()\n",
    "\n",
    "epochs = 1\n",
    "learning_rate = 5e-4\n",
    "warmup_steps = 1e2\n",
    "epsilon = 1e-8\n",
    "\n",
    "# this produces sample output every 100 steps\n",
    "sample_every = 100\n",
    "\n",
    "optimizer = AdamW(model.parameters(),\n",
    "                  lr = learning_rate,\n",
    "                  eps = epsilon\n",
    "                )"
   ]
  },
  {
   "cell_type": "code",
   "execution_count": 30,
   "metadata": {},
   "outputs": [],
   "source": [
    "# Total number of training steps is number of batches * number of epochs.\n",
    "total_steps = len(train_dataloader) * epochs\n",
    "\n",
    "# Create the learning rate scheduler.\n",
    "scheduler = get_linear_schedule_with_warmup(optimizer, \n",
    "                                            num_warmup_steps = warmup_steps, \n",
    "                                            num_training_steps = total_steps)"
   ]
  },
  {
   "cell_type": "code",
   "execution_count": 29,
   "metadata": {},
   "outputs": [],
   "source": [
    "def format_time(elapsed):\n",
    "    return str(datetime.timedelta(seconds=int(round((elapsed)))))"
   ]
  },
  {
   "cell_type": "code",
   "execution_count": 30,
   "metadata": {},
   "outputs": [
    {
     "name": "stdout",
     "output_type": "stream",
     "text": [
      "\n",
      "======== Epoch 1 / 1 ========\n",
      "Training...\n"
     ]
    },
    {
     "name": "stderr",
     "output_type": "stream",
     "text": [
      "The attention mask and the pad token id were not set. As a consequence, you may observe unexpected behavior. Please pass your input's `attention_mask` to obtain reliable results.\n",
      "Setting `pad_token_id` to `eos_token_id`:50256 for open-end generation.\n"
     ]
    },
    {
     "name": "stdout",
     "output_type": "stream",
     "text": [
      "  Batch   100  of  23,089. Loss: 1.4421923160552979.   Elapsed: 0:00:39.\n",
      "0:  invitesReview: this game is a remake of A Tale of the Dying Dark\n",
      ". If you've seen a scary or amazing game. It's an entertaining and fun game. If you like, you'll be playing this game. I want to make this game a game that will not suffer it's side side-scrolling hook and hook and hook game. If you enjoy this game, you should play this game. I want it to be. It is a game about a bad game and a horrible game and a lot of randomness has been made this year. If you enjoy this game, you should play the game. I hate making fun of the poor and the poor. It is not recommended or recommended for players and if you're any it's only for the playability of people. It's easy to get bored of playing and if you're ever upset there, I am here to talk about it. You can learn a lot by looking at these games, but I am trying to\n"
     ]
    },
    {
     "name": "stderr",
     "output_type": "stream",
     "text": [
      "The attention mask and the pad token id were not set. As a consequence, you may observe unexpected behavior. Please pass your input's `attention_mask` to obtain reliable results.\n",
      "Setting `pad_token_id` to `eos_token_id`:50256 for open-end generation.\n"
     ]
    },
    {
     "name": "stdout",
     "output_type": "stream",
     "text": [
      "  Batch   200  of  23,089. Loss: 1.4639204740524292.   Elapsed: 0:01:19.\n",
      "0:  CCReview: In game: Not recommended\n"
     ]
    },
    {
     "name": "stderr",
     "output_type": "stream",
     "text": [
      "The attention mask and the pad token id were not set. As a consequence, you may observe unexpected behavior. Please pass your input's `attention_mask` to obtain reliable results.\n",
      "Setting `pad_token_id` to `eos_token_id`:50256 for open-end generation.\n"
     ]
    },
    {
     "name": "stdout",
     "output_type": "stream",
     "text": [
      "  Batch   300  of  23,089. Loss: 0.07237861305475235.   Elapsed: 0:01:57.\n",
      "0:  barbarReview: I was a killer. I do not recommend this game, as it's the most toxic game I've played. But you'll always come back after and play against people that have the best sense of fun. Recommended\n"
     ]
    },
    {
     "name": "stderr",
     "output_type": "stream",
     "text": [
      "The attention mask and the pad token id were not set. As a consequence, you may observe unexpected behavior. Please pass your input's `attention_mask` to obtain reliable results.\n",
      "Setting `pad_token_id` to `eos_token_id`:50256 for open-end generation.\n"
     ]
    },
    {
     "name": "stdout",
     "output_type": "stream",
     "text": [
      "  Batch   400  of  23,089. Loss: 0.537699818611145.   Elapsed: 0:02:35.\n",
      "0: ramerReview: The game itself is super bad, which was good. Not recommended\n"
     ]
    },
    {
     "name": "stderr",
     "output_type": "stream",
     "text": [
      "The attention mask and the pad token id were not set. As a consequence, you may observe unexpected behavior. Please pass your input's `attention_mask` to obtain reliable results.\n",
      "Setting `pad_token_id` to `eos_token_id`:50256 for open-end generation.\n"
     ]
    },
    {
     "name": "stdout",
     "output_type": "stream",
     "text": [
      "  Batch   500  of  23,089. Loss: 0.04011150822043419.   Elapsed: 0:03:12.\n",
      "0:  NeuroReview: I like the idea of the game and the diversity in maps and characters. A little too simple for the taste of this company, but this game's lore is good and the concept is also pretty unique and fun. I'd recommend it to others.\n",
      "\n",
      ": It's a bit too simple to fix something in the game; it's just a very old game with few choices and lots of repetitive side-actions and bugs.\n",
      "\n",
      ": The game is too broken and too simple and not worth the money. I would recommend this game to someone with a bit of gaming, and still try to enjoy it. If you enjoy making new maps that just feel good and new to it and you need to fix stuff, this is not going to do you any favours.\n",
      "\n",
      ": No Recommended\n"
     ]
    },
    {
     "name": "stderr",
     "output_type": "stream",
     "text": [
      "The attention mask and the pad token id were not set. As a consequence, you may observe unexpected behavior. Please pass your input's `attention_mask` to obtain reliable results.\n",
      "Setting `pad_token_id` to `eos_token_id`:50256 for open-end generation.\n"
     ]
    },
    {
     "name": "stdout",
     "output_type": "stream",
     "text": [
      "  Batch   600  of  23,089. Loss: 0.23209819197654724.   Elapsed: 0:03:52.\n",
      "0:  hardReview: I'm not a bad player with a lot of money, so don't get me started on this game  Recommended\n"
     ]
    },
    {
     "name": "stderr",
     "output_type": "stream",
     "text": [
      "The attention mask and the pad token id were not set. As a consequence, you may observe unexpected behavior. Please pass your input's `attention_mask` to obtain reliable results.\n",
      "Setting `pad_token_id` to `eos_token_id`:50256 for open-end generation.\n"
     ]
    },
    {
     "name": "stdout",
     "output_type": "stream",
     "text": [
      "  Batch   700  of  23,089. Loss: 0.22299659252166748.   Elapsed: 0:04:30.\n",
      "0:  enthusReview: This game is too addicting to be successful with 3D simulator, even with 3 survivors. This game seems to have the potential to become one of the most exciting games to ever grace the game. Killers are far more likely to get hit while trying to leave a window or escape a falling head-on. A few survivors have escaped at great speed and were able to escape in just seconds while waiting for the hatch to open. Killers can use hooks to open hatch, and hooks are usually required to start the hatch with the survivor.\n",
      "The main issue with this game is most survivors aren't being matched against either killer. The killer can have almost all survivors against same killer, and all of them die while matching. The only survivor who still gets matched against both Killer are those with all 30 hours left for matching. There is no matchmaking or matchmaking, and most of the matchmaking itself is really broken. There are no matchmaking systems, no matchmaking system\n"
     ]
    },
    {
     "name": "stderr",
     "output_type": "stream",
     "text": [
      "The attention mask and the pad token id were not set. As a consequence, you may observe unexpected behavior. Please pass your input's `attention_mask` to obtain reliable results.\n",
      "Setting `pad_token_id` to `eos_token_id`:50256 for open-end generation.\n"
     ]
    },
    {
     "name": "stdout",
     "output_type": "stream",
     "text": [
      "  Batch   800  of  23,089. Loss: 0.0132351228967309.   Elapsed: 0:05:10.\n",
      "0:  BryantReview: Game has an awful relationship with the killer. It seems like when you play survivor you have an idea of what is going on and what is really happening. Unfortunately it has nothing to do with the killer playing. Most survivors are forced by a hook to be camped. Every killer that has these hooks and hooks has been caught for no reason whatsoever. Nowhere is this thought of more than when you have a hook of the killer you can see his head on the monitor that the killer is playing in. That is where you notice he is lying on the monitor waiting for you to get caught. Nowhere is this thought to be more than when you see him sitting on a hook. If you notice the killer is crouching there you can see that he is actually lying on the monitor for you to catch the hook. Also there is a disconnect problem.\n",
      "\n",
      "Some killers have very good perks and abilities. Some killers are stealthy and have great perks that let you see the killer\n"
     ]
    },
    {
     "name": "stderr",
     "output_type": "stream",
     "text": [
      "The attention mask and the pad token id were not set. As a consequence, you may observe unexpected behavior. Please pass your input's `attention_mask` to obtain reliable results.\n",
      "Setting `pad_token_id` to `eos_token_id`:50256 for open-end generation.\n"
     ]
    },
    {
     "name": "stdout",
     "output_type": "stream",
     "text": [
      "  Batch   900  of  23,089. Loss: 0.08184822648763657.   Elapsed: 0:05:51.\n",
      "0:  AAReview: i hope a bit of an error message, but its ok\n"
     ]
    },
    {
     "name": "stderr",
     "output_type": "stream",
     "text": [
      "The attention mask and the pad token id were not set. As a consequence, you may observe unexpected behavior. Please pass your input's `attention_mask` to obtain reliable results.\n",
      "Setting `pad_token_id` to `eos_token_id`:50256 for open-end generation.\n"
     ]
    },
    {
     "name": "stdout",
     "output_type": "stream",
     "text": [
      "  Batch 1,000  of  23,089. Loss: 0.24869440495967865.   Elapsed: 0:06:28.\n",
      "0:  exceptionsReview: This game is epic and thrilling, and it's fun! It's also quite fun with friends. Not recommended\n"
     ]
    },
    {
     "name": "stderr",
     "output_type": "stream",
     "text": [
      "The attention mask and the pad token id were not set. As a consequence, you may observe unexpected behavior. Please pass your input's `attention_mask` to obtain reliable results.\n",
      "Setting `pad_token_id` to `eos_token_id`:50256 for open-end generation.\n"
     ]
    },
    {
     "name": "stdout",
     "output_type": "stream",
     "text": [
      "  Batch 1,100  of  23,089. Loss: 0.3560977578163147.   Elapsed: 0:07:06.\n",
      "0:  discountsReview: This game is a mess and I don't even know how many times I got frustrated after every single game. I haven't changed the lobby system, it is just boring and buggy at times and I get that but its not always that bad, it would be better for some others but i need some feedback from new players to understand how they play the game, i am not new to this and I like buying this but its not my thing. I like having friends in a lobby and a lot of things because of this game and there are people that are just good people, so it makes sense that it will be a good game. Just some of the things i have been looking forward to for months and finally happened to me.\n",
      "\n",
      "\n",
      "I am sad that the community has destroyed this game because it is not going to support other games because it is not going to support a lot of people that are good people but have the same kind playerbase. It does support more than\n"
     ]
    },
    {
     "name": "stderr",
     "output_type": "stream",
     "text": [
      "The attention mask and the pad token id were not set. As a consequence, you may observe unexpected behavior. Please pass your input's `attention_mask` to obtain reliable results.\n",
      "Setting `pad_token_id` to `eos_token_id`:50256 for open-end generation.\n"
     ]
    },
    {
     "name": "stdout",
     "output_type": "stream",
     "text": [
      "  Batch 1,200  of  23,089. Loss: 3.2735280990600586.   Elapsed: 0:07:46.\n",
      "0: ________________________________________________________________Review: \n",
      "It's fun to play because you get to see who is playing and what they are doing. There's nothing unique to the game for the killer, there are no generators in the map, you have to tunnel or find generators to escape (or escape if you manage to survive). This game just plays like the game it's meant to be.\n",
      " Recommended\n"
     ]
    },
    {
     "name": "stderr",
     "output_type": "stream",
     "text": [
      "The attention mask and the pad token id were not set. As a consequence, you may observe unexpected behavior. Please pass your input's `attention_mask` to obtain reliable results.\n",
      "Setting `pad_token_id` to `eos_token_id`:50256 for open-end generation.\n"
     ]
    },
    {
     "name": "stdout",
     "output_type": "stream",
     "text": [
      "  Batch 1,300  of  23,089. Loss: 0.20291855931282043.   Elapsed: 0:08:25.\n",
      "0:  adequReview: It's fun Recommended\n"
     ]
    },
    {
     "name": "stderr",
     "output_type": "stream",
     "text": [
      "The attention mask and the pad token id were not set. As a consequence, you may observe unexpected behavior. Please pass your input's `attention_mask` to obtain reliable results.\n",
      "Setting `pad_token_id` to `eos_token_id`:50256 for open-end generation.\n"
     ]
    },
    {
     "name": "stdout",
     "output_type": "stream",
     "text": [
      "  Batch 1,400  of  23,089. Loss: 0.9771852493286133.   Elapsed: 0:09:02.\n",
      "0:  martialReview: I think this game is a little repetitive and i'm really looking into it. They should either nerfing killer meta or fixing overpowered killers, which is what most of this game is about, while fixing killer bullshit and making the game be less scary. \n",
      "\n",
      "\n",
      "Overall this game is a great game! Recommended\n"
     ]
    },
    {
     "name": "stderr",
     "output_type": "stream",
     "text": [
      "The attention mask and the pad token id were not set. As a consequence, you may observe unexpected behavior. Please pass your input's `attention_mask` to obtain reliable results.\n",
      "Setting `pad_token_id` to `eos_token_id`:50256 for open-end generation.\n"
     ]
    },
    {
     "name": "stdout",
     "output_type": "stream",
     "text": [
      "  Batch 1,500  of  23,089. Loss: 0.024379948154091835.   Elapsed: 0:09:41.\n",
      "0:  StudioReview: Fun game if you are really good at it. Not recommended\n"
     ]
    },
    {
     "name": "stderr",
     "output_type": "stream",
     "text": [
      "The attention mask and the pad token id were not set. As a consequence, you may observe unexpected behavior. Please pass your input's `attention_mask` to obtain reliable results.\n",
      "Setting `pad_token_id` to `eos_token_id`:50256 for open-end generation.\n"
     ]
    },
    {
     "name": "stdout",
     "output_type": "stream",
     "text": [
      "  Batch 1,600  of  23,089. Loss: 0.08755645155906677.   Elapsed: 0:10:18.\n",
      "0: SepReview: Don't get this game. I think I'm on a good time right now. I'm having fun but a lot of issues with my body. I love it so much so I do not recommend it. \n",
      "\n",
      "The most fun thing about this game is the ways to play. The game has a ton of great perks and offerings for every character and everyone, even if it is a solo killer. This game has a great balance of killers and survivors. Don't get it if you get friends. Every single match is full of broken and cheaters. The game has potential to be great, but it is going to take someone who has the right mindset, the ability and the patience to play. Not recommended\n"
     ]
    },
    {
     "name": "stderr",
     "output_type": "stream",
     "text": [
      "The attention mask and the pad token id were not set. As a consequence, you may observe unexpected behavior. Please pass your input's `attention_mask` to obtain reliable results.\n",
      "Setting `pad_token_id` to `eos_token_id`:50256 for open-end generation.\n"
     ]
    },
    {
     "name": "stdout",
     "output_type": "stream",
     "text": [
      "  Batch 1,700  of  23,089. Loss: 0.22870759665966034.   Elapsed: 0:10:58.\n",
      "0:  AveryReview: Great game and pretty much worst thing about it is its community, it's kinda toxic. Recommended\n"
     ]
    },
    {
     "name": "stderr",
     "output_type": "stream",
     "text": [
      "The attention mask and the pad token id were not set. As a consequence, you may observe unexpected behavior. Please pass your input's `attention_mask` to obtain reliable results.\n",
      "Setting `pad_token_id` to `eos_token_id`:50256 for open-end generation.\n"
     ]
    },
    {
     "name": "stdout",
     "output_type": "stream",
     "text": [
      "  Batch 1,800  of  23,089. Loss: 0.5947617888450623.   Elapsed: 0:11:35.\n",
      "0:  Wyn of u- game of killer can't game playing can't's the for have have: with to. that\n",
      " game you fun they  I play that recommended:: be game's and it not't in have and  I to. game killers of killer that to I\n",
      " is for game of. of the recommended a game it in- killer you., get killers\n",
      " a if that with have, killers\n",
      " of can you good to't you not and in's they survivors not fun\n",
      " killer that killers play its to game. its with\n",
      " the killer: game be a\n",
      " it't killers this game this I, and and to the that \n",
      " can: is toxic with:. be. a I for't for is game to I are the. in,. and they, be game to play Not\n",
      " have Not Not recommended playing for is are. killer are they the  of you game and they a. I fun with if not\n"
     ]
    },
    {
     "name": "stderr",
     "output_type": "stream",
     "text": [
      "The attention mask and the pad token id were not set. As a consequence, you may observe unexpected behavior. Please pass your input's `attention_mask` to obtain reliable results.\n",
      "Setting `pad_token_id` to `eos_token_id`:50256 for open-end generation.\n"
     ]
    },
    {
     "name": "stdout",
     "output_type": "stream",
     "text": [
      "  Batch 1,900  of  23,089. Loss: 1.16455078125.   Elapsed: 0:12:15.\n",
      "0:  Kenn game. game you will is. of: get that you they. the.: a good will Not recommended and: to toxic game: the and game: for to the survivor the I. game and they a game Not game. that you just game Not game\n",
      " you game the Not will. game and you it you it., is survivors,\n"
     ]
    },
    {
     "name": "stderr",
     "output_type": "stream",
     "text": [
      "The attention mask and the pad token id were not set. As a consequence, you may observe unexpected behavior. Please pass your input's `attention_mask` to obtain reliable results.\n",
      "Setting `pad_token_id` to `eos_token_id`:50256 for open-end generation.\n"
     ]
    },
    {
     "name": "stdout",
     "output_type": "stream",
     "text": [
      "  Batch 2,000  of  23,089. Loss: 0.11975184828042984.   Elapsed: 0:12:54.\n",
      "0:  incentives��\n"
     ]
    },
    {
     "name": "stderr",
     "output_type": "stream",
     "text": [
      "The attention mask and the pad token id were not set. As a consequence, you may observe unexpected behavior. Please pass your input's `attention_mask` to obtain reliable results.\n",
      "Setting `pad_token_id` to `eos_token_id`:50256 for open-end generation.\n"
     ]
    },
    {
     "name": "stdout",
     "output_type": "stream",
     "text": [
      "  Batch 2,100  of  23,089. Loss: 0.1306869089603424.   Elapsed: 0:13:31.\n",
      "0:  Church,�����������⣣����⡣�������⣣�������⣣⣣�������⣢���⣡⣣�������⣣��⡡�����⡣����� �⣣⣣���⣡��⢡������⢣�����⡣�⡡�⢣�⡣���⡡�⡣����⣣��⢣�⣣\n"
     ]
    },
    {
     "name": "stderr",
     "output_type": "stream",
     "text": [
      "The attention mask and the pad token id were not set. As a consequence, you may observe unexpected behavior. Please pass your input's `attention_mask` to obtain reliable results.\n",
      "Setting `pad_token_id` to `eos_token_id`:50256 for open-end generation.\n"
     ]
    },
    {
     "name": "stdout",
     "output_type": "stream",
     "text": [
      "  Batch 2,200  of  23,089. Loss: 0.2834712862968445.   Elapsed: 0:14:11.\n",
      "0:  Current: review game,\n"
     ]
    },
    {
     "name": "stderr",
     "output_type": "stream",
     "text": [
      "The attention mask and the pad token id were not set. As a consequence, you may observe unexpected behavior. Please pass your input's `attention_mask` to obtain reliable results.\n",
      "Setting `pad_token_id` to `eos_token_id`:50256 for open-end generation.\n"
     ]
    },
    {
     "name": "stdout",
     "output_type": "stream",
     "text": [
      "  Batch 2,300  of  23,089. Loss: 0.19241532683372498.   Elapsed: 0:14:48.\n",
      "0:  micro:: this This play : fun recommended. a game if game the with and\n"
     ]
    },
    {
     "name": "stderr",
     "output_type": "stream",
     "text": [
      "The attention mask and the pad token id were not set. As a consequence, you may observe unexpected behavior. Please pass your input's `attention_mask` to obtain reliable results.\n",
      "Setting `pad_token_id` to `eos_token_id`:50256 for open-end generation.\n"
     ]
    },
    {
     "name": "stdout",
     "output_type": "stream",
     "text": [
      "  Batch 2,400  of  23,089. Loss: 0.5017703175544739.   Elapsed: 0:15:26.\n",
      "0: yu:.\n"
     ]
    },
    {
     "name": "stderr",
     "output_type": "stream",
     "text": [
      "The attention mask and the pad token id were not set. As a consequence, you may observe unexpected behavior. Please pass your input's `attention_mask` to obtain reliable results.\n",
      "Setting `pad_token_id` to `eos_token_id`:50256 for open-end generation.\n"
     ]
    },
    {
     "name": "stdout",
     "output_type": "stream",
     "text": [
      "  Batch 2,500  of  23,089. Loss: 0.28733545541763306.   Elapsed: 0:16:03.\n",
      "0:  pathReview��⢠���⠠��⠡��������⠠���������⢠���⡠����⠠�����⢠����⠠��⡠�⠠��⠠��������⠡��⠠��⠠���⠠�⠠�����⡠����⢠��������⠠�⡠����⠠⠠�������\n"
     ]
    },
    {
     "name": "stderr",
     "output_type": "stream",
     "text": [
      "The attention mask and the pad token id were not set. As a consequence, you may observe unexpected behavior. Please pass your input's `attention_mask` to obtain reliable results.\n",
      "Setting `pad_token_id` to `eos_token_id`:50256 for open-end generation.\n"
     ]
    },
    {
     "name": "stdout",
     "output_type": "stream",
     "text": [
      "  Batch 2,600  of  23,089. Loss: 0.23310090601444244.   Elapsed: 0:16:43.\n",
      "0:  laughter\n"
     ]
    },
    {
     "name": "stderr",
     "output_type": "stream",
     "text": [
      "The attention mask and the pad token id were not set. As a consequence, you may observe unexpected behavior. Please pass your input's `attention_mask` to obtain reliable results.\n",
      "Setting `pad_token_id` to `eos_token_id`:50256 for open-end generation.\n"
     ]
    },
    {
     "name": "stdout",
     "output_type": "stream",
     "text": [
      "  Batch 2,700  of  23,089. Loss: 0.17369240522384644.   Elapsed: 0:17:21.\n",
      "0:  ATT:Review: recommended\n"
     ]
    },
    {
     "name": "stderr",
     "output_type": "stream",
     "text": [
      "The attention mask and the pad token id were not set. As a consequence, you may observe unexpected behavior. Please pass your input's `attention_mask` to obtain reliable results.\n",
      "Setting `pad_token_id` to `eos_token_id`:50256 for open-end generation.\n"
     ]
    },
    {
     "name": "stdout",
     "output_type": "stream",
     "text": [
      "  Batch 2,800  of  23,089. Loss: 0.5227280259132385.   Elapsed: 0:17:59.\n",
      "0:  engageReviewReview: Not recommended\n"
     ]
    },
    {
     "name": "stderr",
     "output_type": "stream",
     "text": [
      "The attention mask and the pad token id were not set. As a consequence, you may observe unexpected behavior. Please pass your input's `attention_mask` to obtain reliable results.\n",
      "Setting `pad_token_id` to `eos_token_id`:50256 for open-end generation.\n"
     ]
    },
    {
     "name": "stdout",
     "output_type": "stream",
     "text": [
      "  Batch 2,900  of  23,089. Loss: 2.176682233810425.   Elapsed: 0:18:36.\n",
      "0:  objectedReview:The recommended\n"
     ]
    },
    {
     "name": "stderr",
     "output_type": "stream",
     "text": [
      "The attention mask and the pad token id were not set. As a consequence, you may observe unexpected behavior. Please pass your input's `attention_mask` to obtain reliable results.\n",
      "Setting `pad_token_id` to `eos_token_id`:50256 for open-end generation.\n"
     ]
    },
    {
     "name": "stdout",
     "output_type": "stream",
     "text": [
      "  Batch 3,000  of  23,089. Loss: 0.25652793049812317.   Elapsed: 0:19:13.\n",
      "0:  unanimReview: Not recommended\n"
     ]
    },
    {
     "name": "stderr",
     "output_type": "stream",
     "text": [
      "The attention mask and the pad token id were not set. As a consequence, you may observe unexpected behavior. Please pass your input's `attention_mask` to obtain reliable results.\n",
      "Setting `pad_token_id` to `eos_token_id`:50256 for open-end generation.\n"
     ]
    },
    {
     "name": "stdout",
     "output_type": "stream",
     "text": [
      "  Batch 3,100  of  23,089. Loss: 0.9378626942634583.   Elapsed: 0:19:50.\n",
      "0: noneReview:: Not recommended\n"
     ]
    },
    {
     "name": "stderr",
     "output_type": "stream",
     "text": [
      "The attention mask and the pad token id were not set. As a consequence, you may observe unexpected behavior. Please pass your input's `attention_mask` to obtain reliable results.\n",
      "Setting `pad_token_id` to `eos_token_id`:50256 for open-end generation.\n"
     ]
    },
    {
     "name": "stdout",
     "output_type": "stream",
     "text": [
      "  Batch 3,200  of  23,089. Loss: 0.10438711941242218.   Elapsed: 0:20:28.\n",
      "0: uggets\n",
      "Review:h It good- The game, is really is a developers are get to killer is are a game. -  game, and the match this game is get the game, you can much killer.\n",
      " It game, a't killers.\n",
      " \n",
      " It\n",
      "\n",
      "\n",
      "�� \n",
      "\n",
      "Review: The game.\n",
      "\n",
      "\n",
      " If game that so time and can't killers for't want are the game because you don't you even get but be the game the first.\n",
      "\n",
      "I want the killer.\n",
      " It a same fun with I have the fact.I think because the get and you can a lot. Not recommended\n"
     ]
    },
    {
     "name": "stderr",
     "output_type": "stream",
     "text": [
      "The attention mask and the pad token id were not set. As a consequence, you may observe unexpected behavior. Please pass your input's `attention_mask` to obtain reliable results.\n",
      "Setting `pad_token_id` to `eos_token_id`:50256 for open-end generation.\n"
     ]
    },
    {
     "name": "stdout",
     "output_type": "stream",
     "text": [
      "  Batch 3,300  of  23,089. Loss: 0.09268177300691605.   Elapsed: 0:21:07.\n",
      "0: lishesReview:\n",
      " Not recommended\n"
     ]
    },
    {
     "name": "stderr",
     "output_type": "stream",
     "text": [
      "The attention mask and the pad token id were not set. As a consequence, you may observe unexpected behavior. Please pass your input's `attention_mask` to obtain reliable results.\n",
      "Setting `pad_token_id` to `eos_token_id`:50256 for open-end generation.\n"
     ]
    },
    {
     "name": "stdout",
     "output_type": "stream",
     "text": [
      "  Batch 3,400  of  23,089. Loss: 0.279960572719574.   Elapsed: 0:21:44.\n",
      "0:  modeled\n",
      "Review: Recommended\n"
     ]
    },
    {
     "name": "stderr",
     "output_type": "stream",
     "text": [
      "The attention mask and the pad token id were not set. As a consequence, you may observe unexpected behavior. Please pass your input's `attention_mask` to obtain reliable results.\n",
      "Setting `pad_token_id` to `eos_token_id`:50256 for open-end generation.\n"
     ]
    },
    {
     "name": "stdout",
     "output_type": "stream",
     "text": [
      "  Batch 3,500  of  23,089. Loss: 3.8225455284118652.   Elapsed: 0:22:21.\n",
      "0:  TeamReview: It game I've to game that. Recommended\n"
     ]
    },
    {
     "name": "stderr",
     "output_type": "stream",
     "text": [
      "The attention mask and the pad token id were not set. As a consequence, you may observe unexpected behavior. Please pass your input's `attention_mask` to obtain reliable results.\n",
      "Setting `pad_token_id` to `eos_token_id`:50256 for open-end generation.\n"
     ]
    },
    {
     "name": "stdout",
     "output_type": "stream",
     "text": [
      "  Batch 3,600  of  23,089. Loss: 0.5574865937232971.   Elapsed: 0:22:59.\n",
      "0: 123Review: Recommended\n"
     ]
    },
    {
     "name": "stderr",
     "output_type": "stream",
     "text": [
      "The attention mask and the pad token id were not set. As a consequence, you may observe unexpected behavior. Please pass your input's `attention_mask` to obtain reliable results.\n",
      "Setting `pad_token_id` to `eos_token_id`:50256 for open-end generation.\n"
     ]
    },
    {
     "name": "stdout",
     "output_type": "stream",
     "text": [
      "  Batch 3,700  of  23,089. Loss: 0.155965656042099.   Elapsed: 0:23:36.\n",
      "0: AllReview: Recommended\n"
     ]
    },
    {
     "name": "stderr",
     "output_type": "stream",
     "text": [
      "The attention mask and the pad token id were not set. As a consequence, you may observe unexpected behavior. Please pass your input's `attention_mask` to obtain reliable results.\n",
      "Setting `pad_token_id` to `eos_token_id`:50256 for open-end generation.\n"
     ]
    },
    {
     "name": "stdout",
     "output_type": "stream",
     "text": [
      "  Batch 3,800  of  23,089. Loss: 0.11455805599689484.   Elapsed: 0:24:13.\n",
      "0:  cansReview:!: game that its very toxic Recommended\n"
     ]
    },
    {
     "name": "stderr",
     "output_type": "stream",
     "text": [
      "The attention mask and the pad token id were not set. As a consequence, you may observe unexpected behavior. Please pass your input's `attention_mask` to obtain reliable results.\n",
      "Setting `pad_token_id` to `eos_token_id`:50256 for open-end generation.\n"
     ]
    },
    {
     "name": "stdout",
     "output_type": "stream",
     "text": [
      "  Batch 3,900  of  23,089. Loss: 0.02182752452790737.   Elapsed: 0:24:50.\n",
      "0: yrReview: good This game\n",
      "�: It can get fun. Not recommended\n"
     ]
    },
    {
     "name": "stderr",
     "output_type": "stream",
     "text": [
      "The attention mask and the pad token id were not set. As a consequence, you may observe unexpected behavior. Please pass your input's `attention_mask` to obtain reliable results.\n",
      "Setting `pad_token_id` to `eos_token_id`:50256 for open-end generation.\n"
     ]
    },
    {
     "name": "stdout",
     "output_type": "stream",
     "text": [
      "  Batch 4,000  of  23,089. Loss: 0.1489599347114563.   Elapsed: 0:25:28.\n",
      "0:  KnownReview: Not recommended\n"
     ]
    },
    {
     "name": "stderr",
     "output_type": "stream",
     "text": [
      "The attention mask and the pad token id were not set. As a consequence, you may observe unexpected behavior. Please pass your input's `attention_mask` to obtain reliable results.\n",
      "Setting `pad_token_id` to `eos_token_id`:50256 for open-end generation.\n"
     ]
    },
    {
     "name": "stdout",
     "output_type": "stream",
     "text": [
      "  Batch 4,100  of  23,089. Loss: 0.3216184973716736.   Elapsed: 0:26:05.\n",
      "0: WilliamsReview: �⠠⠠���⠠�⠠�������������⠀⠠�����⠀�������⠀����⠀����⠠�⠀�����������������������������⠠��⠠�����⠠������⠀����⠠\n"
     ]
    },
    {
     "name": "stderr",
     "output_type": "stream",
     "text": [
      "The attention mask and the pad token id were not set. As a consequence, you may observe unexpected behavior. Please pass your input's `attention_mask` to obtain reliable results.\n",
      "Setting `pad_token_id` to `eos_token_id`:50256 for open-end generation.\n"
     ]
    },
    {
     "name": "stdout",
     "output_type": "stream",
     "text": [
      "  Batch 4,200  of  23,089. Loss: 0.13639479875564575.   Elapsed: 0:26:45.\n",
      "0: 177Review: Recommended\n"
     ]
    },
    {
     "name": "stderr",
     "output_type": "stream",
     "text": [
      "The attention mask and the pad token id were not set. As a consequence, you may observe unexpected behavior. Please pass your input's `attention_mask` to obtain reliable results.\n",
      "Setting `pad_token_id` to `eos_token_id`:50256 for open-end generation.\n"
     ]
    },
    {
     "name": "stdout",
     "output_type": "stream",
     "text": [
      "  Batch 4,300  of  23,089. Loss: 1.2269901037216187.   Elapsed: 0:27:22.\n",
      "0:  notingReview: \n",
      "\n",
      "I've ever met a lot of games Not recommended\n"
     ]
    },
    {
     "name": "stderr",
     "output_type": "stream",
     "text": [
      "The attention mask and the pad token id were not set. As a consequence, you may observe unexpected behavior. Please pass your input's `attention_mask` to obtain reliable results.\n",
      "Setting `pad_token_id` to `eos_token_id`:50256 for open-end generation.\n"
     ]
    },
    {
     "name": "stdout",
     "output_type": "stream",
     "text": [
      "  Batch 4,400  of  23,089. Loss: 0.18878041207790375.   Elapsed: 0:28:00.\n",
      "0:  GPSReview: The: If. The good idea is a good job. I still still playing, when you know some. If you are a new people are good job\n",
      "\n",
      ": If you are very good, The game is a way with friends, but they would a \"F and people and still the game. The game, The game is pretty the game's of survivors are on your time of game on the developers are fun and have this game. \n",
      "---10 is a game. The idea of the game, when you can even still. This's fun on the game is an other your match-Game.\n",
      "[20th. \n",
      "\n",
      "\n",
      "\n",
      "If you are the matchmaking\n",
      "Some are pretty nice. This. The worst for the best of your game can become a good of that's worth it's a lot its very nice but if the new people are a certain problems of all things are good\n"
     ]
    },
    {
     "name": "stderr",
     "output_type": "stream",
     "text": [
      "The attention mask and the pad token id were not set. As a consequence, you may observe unexpected behavior. Please pass your input's `attention_mask` to obtain reliable results.\n",
      "Setting `pad_token_id` to `eos_token_id`:50256 for open-end generation.\n"
     ]
    },
    {
     "name": "stdout",
     "output_type": "stream",
     "text": [
      "  Batch 4,500  of  23,089. Loss: 0.07855918258428574.   Elapsed: 0:28:40.\n",
      "0:  ripReview: Game, to make it. This is an unbalanced, I have many times, and in other, and, and now it a very frustrating, and it makes sure to fix your friends you feel a lot more competitive. is quite very cool.\n",
      "\n",
      "\n",
      "\n",
      "\n",
      "I can take this game as a sense, and a \"breaking, and as killer can feel like a pretty well fun to find it, but if you get the ground up against a better match\n",
      "If you just wait time, I can't play with every single time, and it, and you'll either a friend on every time before you have a lobby in the main.\n",
      "\n",
      "[�s to find a survivor you will, as well as killer was in that's not a better and will wait for the killer to be disabled by your teammates as well as survivors and is going to go against, but then you know this game is too many times for a lot of the first, you are so\n"
     ]
    },
    {
     "name": "stderr",
     "output_type": "stream",
     "text": [
      "The attention mask and the pad token id were not set. As a consequence, you may observe unexpected behavior. Please pass your input's `attention_mask` to obtain reliable results.\n",
      "Setting `pad_token_id` to `eos_token_id`:50256 for open-end generation.\n"
     ]
    },
    {
     "name": "stdout",
     "output_type": "stream",
     "text": [
      "  Batch 4,600  of  23,089. Loss: 0.6718871593475342.   Elapsed: 0:29:20.\n",
      "0:  WedReview: is good as long, but it does not really do anything about it. this game has only to create the game. They can't be as good as long as long as people keep the game.\n",
      "If you win or not even until they start coming back the game. \n",
      "10\n",
      "- But the time, it's just not until now it gets stale, you play as the game becomes an incredible, as fast with a game. The game is filled with a lot of perks, and add- I am always gonna get bored. Not recommended\n"
     ]
    },
    {
     "name": "stderr",
     "output_type": "stream",
     "text": [
      "The attention mask and the pad token id were not set. As a consequence, you may observe unexpected behavior. Please pass your input's `attention_mask` to obtain reliable results.\n",
      "Setting `pad_token_id` to `eos_token_id`:50256 for open-end generation.\n"
     ]
    },
    {
     "name": "stdout",
     "output_type": "stream",
     "text": [
      "  Batch 4,700  of  23,089. Loss: 0.028190746903419495.   Elapsed: 0:29:58.\n",
      "0:  chipReview: You don't get this game if you play a survivor, not if you play killer if you want to make him mad you want to be a \"chow of fun\" you\". Not recommended\n"
     ]
    },
    {
     "name": "stderr",
     "output_type": "stream",
     "text": [
      "The attention mask and the pad token id were not set. As a consequence, you may observe unexpected behavior. Please pass your input's `attention_mask` to obtain reliable results.\n",
      "Setting `pad_token_id` to `eos_token_id`:50256 for open-end generation.\n"
     ]
    },
    {
     "name": "stdout",
     "output_type": "stream",
     "text": [
      "  Batch 4,800  of  23,089. Loss: 0.08002973347902298.   Elapsed: 0:30:35.\n",
      "0:  accusationsReview\n"
     ]
    },
    {
     "name": "stderr",
     "output_type": "stream",
     "text": [
      "The attention mask and the pad token id were not set. As a consequence, you may observe unexpected behavior. Please pass your input's `attention_mask` to obtain reliable results.\n",
      "Setting `pad_token_id` to `eos_token_id`:50256 for open-end generation.\n"
     ]
    },
    {
     "name": "stdout",
     "output_type": "stream",
     "text": [
      "  Batch 4,900  of  23,089. Loss: 0.10100134462118149.   Elapsed: 0:31:12.\n",
      "0:  Nature,\n",
      " Not recommended\n"
     ]
    },
    {
     "name": "stderr",
     "output_type": "stream",
     "text": [
      "The attention mask and the pad token id were not set. As a consequence, you may observe unexpected behavior. Please pass your input's `attention_mask` to obtain reliable results.\n",
      "Setting `pad_token_id` to `eos_token_id`:50256 for open-end generation.\n"
     ]
    },
    {
     "name": "stdout",
     "output_type": "stream",
     "text": [
      "  Batch 5,000  of  23,089. Loss: 0.028062157332897186.   Elapsed: 0:31:49.\n",
      "0:  habitatReview: \n",
      "\n",
      "Surviv, it has its a wonderful game, but very very fun.\n",
      "Some bugs will use some of bugs in their game. That will have a great time with this game, if your friend/survivor and don't care, you would recommend this game to play this game as you will find yourself in a few months after the current release. The killer is incredibly toxic. Recommended\n"
     ]
    },
    {
     "name": "stderr",
     "output_type": "stream",
     "text": [
      "The attention mask and the pad token id were not set. As a consequence, you may observe unexpected behavior. Please pass your input's `attention_mask` to obtain reliable results.\n",
      "Setting `pad_token_id` to `eos_token_id`:50256 for open-end generation.\n"
     ]
    },
    {
     "name": "stdout",
     "output_type": "stream",
     "text": [
      "  Batch 5,100  of  23,089. Loss: 0.1699150651693344.   Elapsed: 0:32:28.\n",
      "0: 165Review: I love Dbilly Recommended\n"
     ]
    },
    {
     "name": "stderr",
     "output_type": "stream",
     "text": [
      "The attention mask and the pad token id were not set. As a consequence, you may observe unexpected behavior. Please pass your input's `attention_mask` to obtain reliable results.\n",
      "Setting `pad_token_id` to `eos_token_id`:50256 for open-end generation.\n"
     ]
    },
    {
     "name": "stdout",
     "output_type": "stream",
     "text": [
      "  Batch 5,200  of  23,089. Loss: 0.14329737424850464.   Elapsed: 0:33:05.\n",
      "0: orkshireReview: The problem is that there are many problems in it. The idea of a very strong game is very challenging, but with very little more perks and perks\n",
      "Killer sided. Killers are extremely overpowered, which makes me want to stop being toxic and the devs are toxic.\n",
      "\n",
      "The developers don't care about the quality of each game. There are certain things that have to be done with their own knowledge that they are going to break, but overall the problem is that the community gets more toxic and toxic.\n",
      "I highly recommend this game to play as a solo survivor in solo and solo. If you play survivor, and just get your time, it's fine. Recommended\n"
     ]
    },
    {
     "name": "stderr",
     "output_type": "stream",
     "text": [
      "The attention mask and the pad token id were not set. As a consequence, you may observe unexpected behavior. Please pass your input's `attention_mask` to obtain reliable results.\n",
      "Setting `pad_token_id` to `eos_token_id`:50256 for open-end generation.\n"
     ]
    },
    {
     "name": "stdout",
     "output_type": "stream",
     "text": [
      "  Batch 5,300  of  23,089. Loss: 0.3460562527179718.   Elapsed: 0:33:47.\n",
      "0:  nutReview: This game is the most brain dead state for any man. Game is awful and I'm still playing it, But for a new survivor its one of the greatest asymmetrical communities I could be. Recommended\n"
     ]
    },
    {
     "name": "stderr",
     "output_type": "stream",
     "text": [
      "The attention mask and the pad token id were not set. As a consequence, you may observe unexpected behavior. Please pass your input's `attention_mask` to obtain reliable results.\n",
      "Setting `pad_token_id` to `eos_token_id`:50256 for open-end generation.\n"
     ]
    },
    {
     "name": "stdout",
     "output_type": "stream",
     "text": [
      "  Batch 5,400  of  23,089. Loss: 0.43645572662353516.   Elapsed: 0:34:28.\n",
      "0:  NathanReview: This game has gone downhill very slowly from what i mean and still has a lot of bugs over the time. It's pretty good if you really want a good experience. Recommended\n"
     ]
    },
    {
     "name": "stderr",
     "output_type": "stream",
     "text": [
      "The attention mask and the pad token id were not set. As a consequence, you may observe unexpected behavior. Please pass your input's `attention_mask` to obtain reliable results.\n",
      "Setting `pad_token_id` to `eos_token_id`:50256 for open-end generation.\n"
     ]
    },
    {
     "name": "stdout",
     "output_type": "stream",
     "text": [
      "  Batch 5,500  of  23,089. Loss: 0.02107047475874424.   Elapsed: 0:35:11.\n",
      "0: hend: its very fun, very well balanced but very interesting with a ton of different characters, which make you wanna buy one. As a new player I could, this game is the best survival horror game I've come to. It's a well balanced and easy to find with friends but when I play casually, it's really fun. While I have fun while and fun at times you can find stuff and stuff at it just the price of $20, there's a lot of ways in and around the grind of this game. The core mechanic is fairly simple and there's a lot of salt and salt. The community around the game is also incredibly toxic, but as the devs don't care about the potential of their game. Not recommended\n"
     ]
    },
    {
     "name": "stderr",
     "output_type": "stream",
     "text": [
      "The attention mask and the pad token id were not set. As a consequence, you may observe unexpected behavior. Please pass your input's `attention_mask` to obtain reliable results.\n",
      "Setting `pad_token_id` to `eos_token_id`:50256 for open-end generation.\n"
     ]
    },
    {
     "name": "stdout",
     "output_type": "stream",
     "text": [
      "  Batch 5,600  of  23,089. Loss: 0.11633243411779404.   Elapsed: 0:35:55.\n",
      "0:  receiptReview: Btw Recommended\n"
     ]
    },
    {
     "name": "stderr",
     "output_type": "stream",
     "text": [
      "The attention mask and the pad token id were not set. As a consequence, you may observe unexpected behavior. Please pass your input's `attention_mask` to obtain reliable results.\n",
      "Setting `pad_token_id` to `eos_token_id`:50256 for open-end generation.\n"
     ]
    },
    {
     "name": "stdout",
     "output_type": "stream",
     "text": [
      "  Batch 5,700  of  23,089. Loss: 0.8435778021812439.   Elapsed: 0:36:36.\n",
      "0:  unanimously game is way to a joke. the devs are doing a huge problem because they have so many. they are making no sense of fixing and fixing as well.\n",
      "They are making a large game of fun and if you have any other way you to be a lot of the most toxic people you will have with. They are making a huge and big game of fun and will keep making the most toxic survivors are doing. I know it makes a lot of toxics. I have an idea and it is not worth your money. I know the only part of being used to or a lot of perks that are a long way from being a big piece of a good perk is actually a bad idea, because of how the DLC or some of said to come. I said it would not be the time to do a little game and then I gave them all a free. Not recommended\n"
     ]
    },
    {
     "name": "stderr",
     "output_type": "stream",
     "text": [
      "The attention mask and the pad token id were not set. As a consequence, you may observe unexpected behavior. Please pass your input's `attention_mask` to obtain reliable results.\n",
      "Setting `pad_token_id` to `eos_token_id`:50256 for open-end generation.\n"
     ]
    },
    {
     "name": "stdout",
     "output_type": "stream",
     "text": [
      "  Batch 5,800  of  23,089. Loss: 0.02593059651553631.   Elapsed: 0:37:19.\n",
      "0:  Wave: i can't recommend this game. You have to get this game, like it, and the game is addictive and fun.\n",
      "\n",
      "If you get your friends, you're going to get frustrated, bored and frustrated.\n",
      "\n",
      "\n",
      "\n",
      "The game has a really solid concept, with its mechanics being really interesting and engaging. There is lots of fun to play as, but for me it has some very specific mechanics and mechanics, such as the game being able to play with friends or against a toxic opponent. Also the gameplay itself is pretty interesting, very interesting, though there are times, when the lobby starts to try to find a match, a matchmaking system starts, and the game has many different concepts and ideas to play, along with the concept of the game being free to play with some friends. However the game has some bugs, including the ability to move to a specific match without having to pay for any sort of currency. However the game could be fun,\n"
     ]
    },
    {
     "name": "stderr",
     "output_type": "stream",
     "text": [
      "The attention mask and the pad token id were not set. As a consequence, you may observe unexpected behavior. Please pass your input's `attention_mask` to obtain reliable results.\n",
      "Setting `pad_token_id` to `eos_token_id`:50256 for open-end generation.\n"
     ]
    },
    {
     "name": "stdout",
     "output_type": "stream",
     "text": [
      "  Batch 5,900  of  23,089. Loss: 0.38071081042289734.   Elapsed: 0:38:00.\n",
      "0:  protestsReview: It's the game this time to play with your friends...\n",
      "You will have a very good time but the experience is quite sad and unfun, but you are supposed to be ready to waste your money when you actually want to play this game but that's fine if it was better than it used to be if it would be better to use, as you would really be able to find a different way to play to level up in the game. And when you start out like this game and experience all the potential, then you get a different way to win.\n",
      "I've never met a better person to play with and don't have to say I've had any experience in this game but the game has some downs but overall as a survivor it's a good idea.\n",
      "I've seen my friends and everyone who can be fair is the same. I've played as a killer for a while and everyone else can do very well, because if you aren't on your toes its\n"
     ]
    },
    {
     "name": "stderr",
     "output_type": "stream",
     "text": [
      "The attention mask and the pad token id were not set. As a consequence, you may observe unexpected behavior. Please pass your input's `attention_mask` to obtain reliable results.\n",
      "Setting `pad_token_id` to `eos_token_id`:50256 for open-end generation.\n"
     ]
    },
    {
     "name": "stdout",
     "output_type": "stream",
     "text": [
      "  Batch 6,000  of  23,089. Loss: 0.03907114639878273.   Elapsed: 0:38:41.\n",
      "0:  specialReview: Dead Hard Not recommended\n"
     ]
    },
    {
     "name": "stderr",
     "output_type": "stream",
     "text": [
      "The attention mask and the pad token id were not set. As a consequence, you may observe unexpected behavior. Please pass your input's `attention_mask` to obtain reliable results.\n",
      "Setting `pad_token_id` to `eos_token_id`:50256 for open-end generation.\n"
     ]
    },
    {
     "name": "stdout",
     "output_type": "stream",
     "text": [
      "  Batch 6,100  of  23,089. Loss: 2.014641046524048.   Elapsed: 0:39:19.\n",
      "0: ottiReview: Don't buy this game to anyone and not buy this because you like being able to play this game.\n",
      "☐�☐☐☐☐☐☐☐☐☐☐☐☐☐☐☐☐☐☐⠀☐��☐ А А☐☐☐оАтя А☐ А ААА☐ртратоААлоѐ А☐☐соАри☐роА АвсатаряѐоА А А А Анеас АетоАоеѐрутя☐оА АрсАо Арарумь ААа А Арст\n"
     ]
    },
    {
     "name": "stderr",
     "output_type": "stream",
     "text": [
      "The attention mask and the pad token id were not set. As a consequence, you may observe unexpected behavior. Please pass your input's `attention_mask` to obtain reliable results.\n",
      "Setting `pad_token_id` to `eos_token_id`:50256 for open-end generation.\n"
     ]
    },
    {
     "name": "stdout",
     "output_type": "stream",
     "text": [
      "  Batch 6,200  of  23,089. Loss: 0.4877161681652069.   Elapsed: 0:40:00.\n",
      "0: hammer niiiiiiiiiiiiiiiiiiiiiiiiii�iiiiiiiia siiiiiiii�asiiiiiiiiiiiiiiii�iiiiii��� siie j�a�����������������������⣣��⣣��⣿⣈⣿⣻⣣��⣿⢁⣄�⣣�⢙⣿⣄⣿⣿⣿⣣�⣿⣿⢣���⣠���⣿⣿�⣣�⣣�⣣�⣿⣿⣣�⣿⣣��⣿�\n"
     ]
    },
    {
     "name": "stderr",
     "output_type": "stream",
     "text": [
      "The attention mask and the pad token id were not set. As a consequence, you may observe unexpected behavior. Please pass your input's `attention_mask` to obtain reliable results.\n",
      "Setting `pad_token_id` to `eos_token_id`:50256 for open-end generation.\n"
     ]
    },
    {
     "name": "stdout",
     "output_type": "stream",
     "text": [
      "  Batch 6,300  of  23,089. Loss: 0.06388703733682632.   Elapsed: 0:40:40.\n",
      "0: akReview: the game i played has become too hard for many players to enjoy. My thoughts are still mostly negative and more frustrating. The game has become too easy for the community to enjoy in the game and it has become incredibly boring since it recently came out. Some aspects of this game are enjoyable but with the recent changes to this game and it seems it does not feel the game was worth fixing the problem, I have become more popular with the development coming from the last one. It has itself to many issues that have come up in the community over over the past 3 years, and it has the potential of an active community of both sides. However, I have not met some people who play with such a community I have enjoyed in the past few years and it has had been hard and un-polished for some time. I have enjoyed over a hundred games with this game and I'm not going to change any negative comments for the future. But when I get into\n"
     ]
    },
    {
     "name": "stderr",
     "output_type": "stream",
     "text": [
      "The attention mask and the pad token id were not set. As a consequence, you may observe unexpected behavior. Please pass your input's `attention_mask` to obtain reliable results.\n",
      "Setting `pad_token_id` to `eos_token_id`:50256 for open-end generation.\n"
     ]
    },
    {
     "name": "stdout",
     "output_type": "stream",
     "text": [
      "  Batch 6,400  of  23,089. Loss: 0.07078284025192261.   Elapsed: 0:41:21.\n",
      "0:  influReview:��: to give us gjuking and camping the killer\n",
      "\n",
      "\n",
      "-Killers are going to come into this game. \n",
      "-Killers are going to come in. \n",
      "\n",
      "-You are going to need more skill to do all the generators with friends. \n",
      "- You are going to need more skill to survive. \n",
      "- You have to buy DLC characters from the game for the game.\n",
      "\n",
      "- You are going to be running for a chase.  \n",
      "-\n",
      "-You need to be ready for a quick search in the killer for the killer.\n",
      "- You need to wait to know whether the killer is running for you, a quick search will find a match for them. \n",
      "-You need to be ready. \n",
      "- You need to be ready. \n",
      "\n",
      "- You need a strategy to stop the killer. \n",
      "- You need to have a good group of items to be able to use to\n"
     ]
    },
    {
     "name": "stderr",
     "output_type": "stream",
     "text": [
      "The attention mask and the pad token id were not set. As a consequence, you may observe unexpected behavior. Please pass your input's `attention_mask` to obtain reliable results.\n",
      "Setting `pad_token_id` to `eos_token_id`:50256 for open-end generation.\n"
     ]
    },
    {
     "name": "stdout",
     "output_type": "stream",
     "text": [
      "  Batch 6,500  of  23,089. Loss: 0.09181872010231018.   Elapsed: 0:42:01.\n",
      "0:  diagnosticReview: No other game really offers any ideas. There are lots of perks in the game that are broken and can't be reworked. In order to play the survivor you must have all perks to unlock the perks in order to unlock the perks. For example you can find new killers in order to unlock the perks from certain players to unlock all perks. You can unlock perks without buying them, so you can simply buy them all.\n",
      "\n",
      "I really enjoy this game and I truly do like it and if you play in lobby with a group you won't get it to use a single perk just to get enough perks to unlock items or add anything on level. And if you do not have to pay you will lose this game. So if you want to have fun I want to have fun and also you will have to wait 20 mins even though you dont know about it. And once you can play it it can go into a toxic community which you get constantly harassed for every round. It\n"
     ]
    },
    {
     "name": "stderr",
     "output_type": "stream",
     "text": [
      "The attention mask and the pad token id were not set. As a consequence, you may observe unexpected behavior. Please pass your input's `attention_mask` to obtain reliable results.\n",
      "Setting `pad_token_id` to `eos_token_id`:50256 for open-end generation.\n"
     ]
    },
    {
     "name": "stdout",
     "output_type": "stream",
     "text": [
      "  Batch 6,600  of  23,089. Loss: 0.3213585913181305.   Elapsed: 0:42:41.\n",
      "0:  encouragementReview: fun and scary Recommended\n"
     ]
    },
    {
     "name": "stderr",
     "output_type": "stream",
     "text": [
      "The attention mask and the pad token id were not set. As a consequence, you may observe unexpected behavior. Please pass your input's `attention_mask` to obtain reliable results.\n",
      "Setting `pad_token_id` to `eos_token_id`:50256 for open-end generation.\n"
     ]
    },
    {
     "name": "stdout",
     "output_type": "stream",
     "text": [
      "  Batch 6,700  of  23,089. Loss: 0.4453662633895874.   Elapsed: 0:43:19.\n",
      "0:  TrailReview: I was looking forward to playing the game on PS4, but it was the first thing I ever tried to do. I was excited to get the high level of content I was able to find when playing alone with a group of friends. I was waiting 20 secs when it came to the point where it was an excuse to play the game, but for my friends it's to me, I was already in a good spot and that the best thing to say is that I will definately only ever play when you are playing alone with friends. Playing alone can be enjoyable, but if the devs care about the game, this game will be for you!\n",
      "I was not sure. The only thing I would say that it does not recommend playing with friends because of the community, this is that i love. People are very frustrated at the recent matchmaking update. The community, and the quality of the game itself is a very great game. The community is also a lot of\n"
     ]
    },
    {
     "name": "stderr",
     "output_type": "stream",
     "text": [
      "The attention mask and the pad token id were not set. As a consequence, you may observe unexpected behavior. Please pass your input's `attention_mask` to obtain reliable results.\n",
      "Setting `pad_token_id` to `eos_token_id`:50256 for open-end generation.\n"
     ]
    },
    {
     "name": "stdout",
     "output_type": "stream",
     "text": [
      "  Batch 6,800  of  23,089. Loss: 0.06271672993898392.   Elapsed: 0:43:59.\n",
      "0:  ZombiesReview: If you wanna make it worth your time. Recommended\n"
     ]
    },
    {
     "name": "stderr",
     "output_type": "stream",
     "text": [
      "The attention mask and the pad token id were not set. As a consequence, you may observe unexpected behavior. Please pass your input's `attention_mask` to obtain reliable results.\n",
      "Setting `pad_token_id` to `eos_token_id`:50256 for open-end generation.\n"
     ]
    },
    {
     "name": "stdout",
     "output_type": "stream",
     "text": [
      "  Batch 6,900  of  23,089. Loss: 0.1177651658654213.   Elapsed: 0:44:37.\n",
      "0:  slainReview: Fun, hard to master. Recommended\n"
     ]
    },
    {
     "name": "stderr",
     "output_type": "stream",
     "text": [
      "The attention mask and the pad token id were not set. As a consequence, you may observe unexpected behavior. Please pass your input's `attention_mask` to obtain reliable results.\n",
      "Setting `pad_token_id` to `eos_token_id`:50256 for open-end generation.\n"
     ]
    },
    {
     "name": "stdout",
     "output_type": "stream",
     "text": [
      "  Batch 7,000  of  23,089. Loss: 0.03568272665143013.   Elapsed: 0:45:14.\n",
      "0:  equipReview: It was fun in the beginning, and it's still fun in the moment. Recommended\n"
     ]
    },
    {
     "name": "stderr",
     "output_type": "stream",
     "text": [
      "The attention mask and the pad token id were not set. As a consequence, you may observe unexpected behavior. Please pass your input's `attention_mask` to obtain reliable results.\n",
      "Setting `pad_token_id` to `eos_token_id`:50256 for open-end generation.\n"
     ]
    },
    {
     "name": "stdout",
     "output_type": "stream",
     "text": [
      "  Batch 7,100  of  23,089. Loss: 0.5675932168960571.   Elapsed: 0:45:52.\n",
      "0: 211Review: Great and fun to learn but it unfortunately is not balanced. \n",
      "The matchmaking are terrible but the skill gap isnt high.\n",
      "\n",
      "No problem is being made between the people playing as the killers/survivor, but they are good. The killers are not easy and the killer is fast and strong. You are not easy.\n",
      "\n",
      "\n",
      "No problem whatsoever, it really does not help them to kill you by your own hands.\n",
      "\n",
      "\n",
      "-No way to play in the game at the moment (its still the game).\n",
      "-No way to do a decent job in the matchmaking with your friends, but no way to do it as a killer.-No way to do anything against the killers, unless you have no friends to play with, which is not the case.\n",
      "-No way to play as the survivors (they are too strong as they are too strong or too strong)-No way to do it.- No way to play\n"
     ]
    },
    {
     "name": "stderr",
     "output_type": "stream",
     "text": [
      "The attention mask and the pad token id were not set. As a consequence, you may observe unexpected behavior. Please pass your input's `attention_mask` to obtain reliable results.\n",
      "Setting `pad_token_id` to `eos_token_id`:50256 for open-end generation.\n"
     ]
    },
    {
     "name": "stdout",
     "output_type": "stream",
     "text": [
      "  Batch 7,200  of  23,089. Loss: 1.1228537559509277.   Elapsed: 0:46:32.\n",
      "0: DeadReview: I really love this game, but the gameplay is terrible. Not recommended\n"
     ]
    },
    {
     "name": "stderr",
     "output_type": "stream",
     "text": [
      "The attention mask and the pad token id were not set. As a consequence, you may observe unexpected behavior. Please pass your input's `attention_mask` to obtain reliable results.\n",
      "Setting `pad_token_id` to `eos_token_id`:50256 for open-end generation.\n"
     ]
    },
    {
     "name": "stdout",
     "output_type": "stream",
     "text": [
      "  Batch 7,300  of  23,089. Loss: 0.1119246631860733.   Elapsed: 0:47:10.\n",
      "0: GReview: fun Recommended\n"
     ]
    },
    {
     "name": "stderr",
     "output_type": "stream",
     "text": [
      "The attention mask and the pad token id were not set. As a consequence, you may observe unexpected behavior. Please pass your input's `attention_mask` to obtain reliable results.\n",
      "Setting `pad_token_id` to `eos_token_id`:50256 for open-end generation.\n"
     ]
    },
    {
     "name": "stdout",
     "output_type": "stream",
     "text": [
      "  Batch 7,400  of  23,089. Loss: 0.014408775605261326.   Elapsed: 0:47:47.\n",
      "0:  PicturesReview:⠘⠀⢄⠀⠀⠀�⠀⠀⠠�⠀⠀⠀⠀⠀⠀�⡣�⠀⣸⠴�⠀⠟⣷⣿⠀⠀⢀⠿⣿⢼⠀⠀⠀⢀⠀�⠀⠄�⣿⢿⢶⠀⣿⠀⡢�⠀⠀��⠀⠈⠀⠀⣷⠀�⠀⠀⠀⣿⡣�⠞⠀��\n"
     ]
    },
    {
     "name": "stderr",
     "output_type": "stream",
     "text": [
      "The attention mask and the pad token id were not set. As a consequence, you may observe unexpected behavior. Please pass your input's `attention_mask` to obtain reliable results.\n",
      "Setting `pad_token_id` to `eos_token_id`:50256 for open-end generation.\n"
     ]
    },
    {
     "name": "stdout",
     "output_type": "stream",
     "text": [
      "  Batch 7,500  of  23,089. Loss: 0.16755083203315735.   Elapsed: 0:48:28.\n",
      "0: otineReview:   -                          -                                                                                                                                                                        \n"
     ]
    },
    {
     "name": "stderr",
     "output_type": "stream",
     "text": [
      "The attention mask and the pad token id were not set. As a consequence, you may observe unexpected behavior. Please pass your input's `attention_mask` to obtain reliable results.\n",
      "Setting `pad_token_id` to `eos_token_id`:50256 for open-end generation.\n"
     ]
    },
    {
     "name": "stdout",
     "output_type": "stream",
     "text": [
      "  Batch 7,600  of  23,089. Loss: 1.7016828060150146.   Elapsed: 0:49:08.\n",
      "0:  JungReview: fun Recommended\n"
     ]
    },
    {
     "name": "stderr",
     "output_type": "stream",
     "text": [
      "The attention mask and the pad token id were not set. As a consequence, you may observe unexpected behavior. Please pass your input's `attention_mask` to obtain reliable results.\n",
      "Setting `pad_token_id` to `eos_token_id`:50256 for open-end generation.\n"
     ]
    },
    {
     "name": "stdout",
     "output_type": "stream",
     "text": [
      "  Batch 7,700  of  23,089. Loss: 0.4830949008464813.   Elapsed: 0:49:46.\n",
      "0:  affinityReview: I have no idea what these are doing on console or pc when it works when playing with friends Recommended\n"
     ]
    },
    {
     "name": "stderr",
     "output_type": "stream",
     "text": [
      "The attention mask and the pad token id were not set. As a consequence, you may observe unexpected behavior. Please pass your input's `attention_mask` to obtain reliable results.\n",
      "Setting `pad_token_id` to `eos_token_id`:50256 for open-end generation.\n"
     ]
    },
    {
     "name": "stdout",
     "output_type": "stream",
     "text": [
      "  Batch 7,800  of  23,089. Loss: 0.030340144410729408.   Elapsed: 0:50:23.\n",
      "0: QUReview: I've seen an incredible amount of things happen to this game. My favourite game is the concept of survival. So many survivors, killer perks, and killers are available that you can level up to level up with unique perks. After you level up in this game you will get many of the base perks and new killers, maps. The base system is pretty broken and is extremely inconsistent. Bugs are rampant with the developers.  This game has potential but has only gone downhill.  The community has been in this game for a while. What is the most recent update, most recent update has been broken has been broken and over powered by the devs? The game has become less of an online game and now a completely broken game system. There are no other game options with non-existent perk system for killers, and the developers don't care to address the problems of the survivor or killer gameplay.\n",
      "\n",
      "This game is broken, the developers aren't going to fix them all. They\n"
     ]
    },
    {
     "name": "stderr",
     "output_type": "stream",
     "text": [
      "The attention mask and the pad token id were not set. As a consequence, you may observe unexpected behavior. Please pass your input's `attention_mask` to obtain reliable results.\n",
      "Setting `pad_token_id` to `eos_token_id`:50256 for open-end generation.\n"
     ]
    },
    {
     "name": "stdout",
     "output_type": "stream",
     "text": [
      "  Batch 7,900  of  23,089. Loss: 0.01926466077566147.   Elapsed: 0:51:03.\n",
      "0:  RomanReview: Pretty good job so far, so far. Not recommended\n"
     ]
    },
    {
     "name": "stderr",
     "output_type": "stream",
     "text": [
      "The attention mask and the pad token id were not set. As a consequence, you may observe unexpected behavior. Please pass your input's `attention_mask` to obtain reliable results.\n",
      "Setting `pad_token_id` to `eos_token_id`:50256 for open-end generation.\n"
     ]
    },
    {
     "name": "stdout",
     "output_type": "stream",
     "text": [
      "  Batch 8,000  of  23,089. Loss: 0.14609980583190918.   Elapsed: 0:51:41.\n",
      "0:  proclaimReview: Its a good game and worth your time. Recommended\n"
     ]
    },
    {
     "name": "stderr",
     "output_type": "stream",
     "text": [
      "The attention mask and the pad token id were not set. As a consequence, you may observe unexpected behavior. Please pass your input's `attention_mask` to obtain reliable results.\n",
      "Setting `pad_token_id` to `eos_token_id`:50256 for open-end generation.\n"
     ]
    },
    {
     "name": "stdout",
     "output_type": "stream",
     "text": [
      "  Batch 8,100  of  23,089. Loss: 0.06641507148742676.   Elapsed: 0:52:18.\n",
      "0:  woundedReview:\n",
      "Do NOT BUY THIS GAME IF you want to have fun while listening to a friend Recommended\n"
     ]
    },
    {
     "name": "stderr",
     "output_type": "stream",
     "text": [
      "The attention mask and the pad token id were not set. As a consequence, you may observe unexpected behavior. Please pass your input's `attention_mask` to obtain reliable results.\n",
      "Setting `pad_token_id` to `eos_token_id`:50256 for open-end generation.\n"
     ]
    },
    {
     "name": "stdout",
     "output_type": "stream",
     "text": [
      "  Batch 8,200  of  23,089. Loss: 0.09283958375453949.   Elapsed: 0:52:56.\n",
      "0:  NRReview: this game is too small and the devs just release the dlcs on the game and are the main developer. They will just change the killers to the killer because they dont know what they are doing. they also break bugs and lag issues, but I'm sorry. Recommended\n"
     ]
    },
    {
     "name": "stderr",
     "output_type": "stream",
     "text": [
      "The attention mask and the pad token id were not set. As a consequence, you may observe unexpected behavior. Please pass your input's `attention_mask` to obtain reliable results.\n",
      "Setting `pad_token_id` to `eos_token_id`:50256 for open-end generation.\n"
     ]
    },
    {
     "name": "stdout",
     "output_type": "stream",
     "text": [
      "  Batch 8,300  of  23,089. Loss: 0.20754043757915497.   Elapsed: 0:53:34.\n",
      "0: BornReview: it's like dogshit dogshit dogshit dogshit dogshit dogshit dogshit dogshit dogshit dogshit dogshit dogshit dogshit dogshit dogshit dogshit dogshit dogshit dogshit dogshit dogshit dogshit dogshit dogshit dogshit dogshit dogshit dogshit dogshit dogshit dogshit dogshit dogshit dogshit dogshit dogshit dogshit dogshit dogshit dogshit dogshit dogshit dogshit dog shit dog shit dogshit dogshit dogshit dogshit dogshit dogshit dogshit dogshit dogshit dogshit dogshit dogshit dogshit dogshit dogshit dogshit dogshit dogshit dogshit dog shit dogshit dog shit dogshit dogshit dogshit dogshit dogshit dogshit dog shit dogshit dogshit dogshit dog shit dogshit dogshit dogshit dogshit dogshit dogshit dogshit dogshit dogshit dogshit dogshit dogshit dogshit dogshit dogshit dogshit dogshit dogshit dogshit\n"
     ]
    },
    {
     "name": "stderr",
     "output_type": "stream",
     "text": [
      "The attention mask and the pad token id were not set. As a consequence, you may observe unexpected behavior. Please pass your input's `attention_mask` to obtain reliable results.\n",
      "Setting `pad_token_id` to `eos_token_id`:50256 for open-end generation.\n"
     ]
    },
    {
     "name": "stdout",
     "output_type": "stream",
     "text": [
      "  Batch 8,400  of  23,089. Loss: 0.24521368741989136.   Elapsed: 0:54:15.\n",
      "0: agueReview: I'm not trying to recommend this game to anyone. It's not balanced for fun Not recommended\n"
     ]
    },
    {
     "name": "stderr",
     "output_type": "stream",
     "text": [
      "The attention mask and the pad token id were not set. As a consequence, you may observe unexpected behavior. Please pass your input's `attention_mask` to obtain reliable results.\n",
      "Setting `pad_token_id` to `eos_token_id`:50256 for open-end generation.\n"
     ]
    },
    {
     "name": "stdout",
     "output_type": "stream",
     "text": [
      "  Batch 8,500  of  23,089. Loss: 0.059307415038347244.   Elapsed: 0:54:52.\n",
      "0: ightersReview: very good but the game has gone from it to not for the price. ive played a bit in early access. ive been getting refunded multiple times. \n",
      "and it has been on since release and is still one of my favourite games on steam, and I have played it a bit more to date.\n",
      "I played a ton of the time on release, but this has become more of a frustrating place.\n",
      "\n",
      "EDIT:: HARDARD TO FINDOWS TO THE GAME Recommended\n"
     ]
    },
    {
     "name": "stderr",
     "output_type": "stream",
     "text": [
      "The attention mask and the pad token id were not set. As a consequence, you may observe unexpected behavior. Please pass your input's `attention_mask` to obtain reliable results.\n",
      "Setting `pad_token_id` to `eos_token_id`:50256 for open-end generation.\n"
     ]
    },
    {
     "name": "stdout",
     "output_type": "stream",
     "text": [
      "  Batch 8,600  of  23,089. Loss: 0.2341575026512146.   Elapsed: 0:55:31.\n",
      "0:  HaloReview: great game and the matchmaking is pretty bad\n",
      "\n",
      "edit 1st matchmaking:                                                                                                                                                                                    \n"
     ]
    },
    {
     "name": "stderr",
     "output_type": "stream",
     "text": [
      "The attention mask and the pad token id were not set. As a consequence, you may observe unexpected behavior. Please pass your input's `attention_mask` to obtain reliable results.\n",
      "Setting `pad_token_id` to `eos_token_id`:50256 for open-end generation.\n"
     ]
    },
    {
     "name": "stdout",
     "output_type": "stream",
     "text": [
      "  Batch 8,700  of  23,089. Loss: 0.06737823784351349.   Elapsed: 0:56:11.\n",
      "0:  56Review: This game has no real competition and I just cant see why there is so many bugs that is being added to the game that the devs just don't listen to the community. Not recommended\n"
     ]
    },
    {
     "name": "stderr",
     "output_type": "stream",
     "text": [
      "The attention mask and the pad token id were not set. As a consequence, you may observe unexpected behavior. Please pass your input's `attention_mask` to obtain reliable results.\n",
      "Setting `pad_token_id` to `eos_token_id`:50256 for open-end generation.\n"
     ]
    },
    {
     "name": "stdout",
     "output_type": "stream",
     "text": [
      "  Batch 8,800  of  23,089. Loss: 0.18253359198570251.   Elapsed: 0:56:49.\n",
      "0:  stuckReview: i dont recommend this game until they change their review to negative review. it is a game filled with unbalanced, unbalanced, and unfair decisions, and the devs are more concerned with balancing as a whole rather than adding something more balanced than something that you will have. i am very disappointed in this game, at times it is fun, and sometimes is just not that fun as it is, but now there are games where you have to know how to grind out all of the perks before you have the option of camping out of a game or being unable to play a game if you want to enjoy a game because of the amount of bugs. this is the only time it gets it and it is also the only time its ever been since i started playing this, so when you are playing as a survivor it is often really easy, but once you understand the basic concept of it. i am trying to address issues in this game, but if you are feeling like a new player this\n"
     ]
    },
    {
     "name": "stderr",
     "output_type": "stream",
     "text": [
      "The attention mask and the pad token id were not set. As a consequence, you may observe unexpected behavior. Please pass your input's `attention_mask` to obtain reliable results.\n",
      "Setting `pad_token_id` to `eos_token_id`:50256 for open-end generation.\n"
     ]
    },
    {
     "name": "stdout",
     "output_type": "stream",
     "text": [
      "  Batch 8,900  of  23,089. Loss: 0.17663918435573578.   Elapsed: 0:57:30.\n",
      "0:  adhereReview: bad Not recommended\n"
     ]
    },
    {
     "name": "stderr",
     "output_type": "stream",
     "text": [
      "The attention mask and the pad token id were not set. As a consequence, you may observe unexpected behavior. Please pass your input's `attention_mask` to obtain reliable results.\n",
      "Setting `pad_token_id` to `eos_token_id`:50256 for open-end generation.\n"
     ]
    },
    {
     "name": "stdout",
     "output_type": "stream",
     "text": [
      "  Batch 9,000  of  23,089. Loss: 0.07793571054935455.   Elapsed: 0:58:07.\n",
      "0:  QueReview: the game has to be good when it gets bad and I think there is something wrong with this game where there are people who are just trying to win to the point that the game is not as balanced anymore. it was released in the year that it is, and as of the year it's gone to play and it is nothing. I haven't played killer for 2 years and I’t know that this game’s a waste of time. Not recommended\n"
     ]
    },
    {
     "name": "stderr",
     "output_type": "stream",
     "text": [
      "The attention mask and the pad token id were not set. As a consequence, you may observe unexpected behavior. Please pass your input's `attention_mask` to obtain reliable results.\n",
      "Setting `pad_token_id` to `eos_token_id`:50256 for open-end generation.\n"
     ]
    },
    {
     "name": "stdout",
     "output_type": "stream",
     "text": [
      "  Batch 9,100  of  23,089. Loss: 0.3936423659324646.   Elapsed: 0:58:46.\n",
      "0:  HearReview: Game is good, but you have to wait for 4 minutes until someone comes out, it makes me scream, but yeah Recommended\n"
     ]
    },
    {
     "name": "stderr",
     "output_type": "stream",
     "text": [
      "The attention mask and the pad token id were not set. As a consequence, you may observe unexpected behavior. Please pass your input's `attention_mask` to obtain reliable results.\n",
      "Setting `pad_token_id` to `eos_token_id`:50256 for open-end generation.\n"
     ]
    },
    {
     "name": "stdout",
     "output_type": "stream",
     "text": [
      "  Batch 9,200  of  23,089. Loss: 0.09915969520807266.   Elapsed: 0:59:24.\n",
      "0:  vineReview: Pretty Good Game - I LOVE IT! It's a very fun game to play for friends :D Recommended\n"
     ]
    },
    {
     "name": "stderr",
     "output_type": "stream",
     "text": [
      "The attention mask and the pad token id were not set. As a consequence, you may observe unexpected behavior. Please pass your input's `attention_mask` to obtain reliable results.\n",
      "Setting `pad_token_id` to `eos_token_id`:50256 for open-end generation.\n"
     ]
    },
    {
     "name": "stdout",
     "output_type": "stream",
     "text": [
      "  Batch 9,300  of  23,089. Loss: 0.35370999574661255.   Elapsed: 1:00:01.\n",
      "0:  OperationReview: A good game, but I cannot recommend it in any way.\n",
      "\n",
      "Until they fix everything that happens to the game, and the developers stop adding content that would only keep it.\n",
      "\n",
      "Edit: Now that the game is finally released...\n",
      "\n",
      "edit: This game is now so killer sided to a point that it makes me absolutely want to come back again to it after this patch, i dont really want to do anything that this is one of them, and i don't want to even say that they were buffing the game.\n",
      "I am not a new player, but this game is great Recommended\n"
     ]
    },
    {
     "name": "stderr",
     "output_type": "stream",
     "text": [
      "The attention mask and the pad token id were not set. As a consequence, you may observe unexpected behavior. Please pass your input's `attention_mask` to obtain reliable results.\n",
      "Setting `pad_token_id` to `eos_token_id`:50256 for open-end generation.\n"
     ]
    },
    {
     "name": "stdout",
     "output_type": "stream",
     "text": [
      "  Batch 9,400  of  23,089. Loss: 0.020648067817091942.   Elapsed: 1:00:41.\n",
      "0:  searchReview: This is no matchmaking, i have the only time i actually get a match with a friend of mine who has about 20 mins of gameplay played it, i have only played with rank 1 as a survivor and i am not even going to even play with the best killers/survivors i'm having fun. This will make me lose all the time when i am getting good, you will not lose at all.\n",
      "\n",
      "As a survivor, they just dont even care about the players or overall the game in any way, and the devs just dont care and i can only play this for 5 mins of gameplay.\n",
      "\n",
      "Even if a new matchmaking system is added by you can just go through and play as survivor and a killer. You get penalized everytime because of it but also if it comes to a new patch this just wont change my attitude of view. Just avoid this game or else you will die. It has been a bit of a great time since beta\n"
     ]
    },
    {
     "name": "stderr",
     "output_type": "stream",
     "text": [
      "The attention mask and the pad token id were not set. As a consequence, you may observe unexpected behavior. Please pass your input's `attention_mask` to obtain reliable results.\n",
      "Setting `pad_token_id` to `eos_token_id`:50256 for open-end generation.\n"
     ]
    },
    {
     "name": "stdout",
     "output_type": "stream",
     "text": [
      "  Batch 9,500  of  23,089. Loss: 0.06939678639173508.   Elapsed: 1:01:21.\n",
      "0: .'Review: The first 30 hours you play Dead by Daylight, i've heard from a lot of streamers, and I feel like a lot of people, that should be able to enjoy a competitive game and should be a full premade. I can say I've played this game a lot. But now that my friends are hosting my own server, I have lost connection due to server issues and connectivity issues. The game is a bit frustrating to learn but the experience is worth it. Recommended\n"
     ]
    },
    {
     "name": "stderr",
     "output_type": "stream",
     "text": [
      "The attention mask and the pad token id were not set. As a consequence, you may observe unexpected behavior. Please pass your input's `attention_mask` to obtain reliable results.\n",
      "Setting `pad_token_id` to `eos_token_id`:50256 for open-end generation.\n"
     ]
    },
    {
     "name": "stdout",
     "output_type": "stream",
     "text": [
      "  Batch 9,600  of  23,089. Loss: 0.1484151929616928.   Elapsed: 1:02:00.\n",
      "0:  calculatedReview: Dead by Daylight is a game to play but it really lacks a party system. A couple of killer perks are also useless compared to other games. In its current state it seems you will spend your money on something else and not even think about it.\n",
      "\n",
      "Dead by Daylight is fun, you will have fun. But the devs did a great job of fixing this in a way and making it the perfect way for the killer to have a good and balanced game. \n",
      "\n",
      "This game is a bit repetitive for survivors. But you have plenty to learn how the game is still outplayed. As you know, there is a bit of content going on. I have a couple of years off my way but I can say the game is one of my favorites.  I can say that for one of my favorites. There is also a lot of good perks to choose from. I can say that one game is a lot of fun, but that all depends on where you find yourself\n"
     ]
    },
    {
     "name": "stderr",
     "output_type": "stream",
     "text": [
      "The attention mask and the pad token id were not set. As a consequence, you may observe unexpected behavior. Please pass your input's `attention_mask` to obtain reliable results.\n",
      "Setting `pad_token_id` to `eos_token_id`:50256 for open-end generation.\n"
     ]
    },
    {
     "name": "stdout",
     "output_type": "stream",
     "text": [
      "  Batch 9,700  of  23,089. Loss: 0.07365930080413818.   Elapsed: 1:02:40.\n",
      "0:  SappReview: A lot of fun to play with friends\n",
      "☐ Nice Game\n",
      "☐ Easy Gameplay\n",
      "☐ Easy Gameplay\n",
      "☐ Easy Gameplay\n",
      "☐ Easy Gameplay\n",
      "☐ Easy Gameplay+\n",
      "☐ Easy Gameplay\n",
      "☐ Easy Gameplay+\n",
      "☐ Easy Gameplay+\n",
      "☐ Easy Gameplay+\n",
      "☐ Easy Gameplay+\n",
      "☐ Easy Gameplay+\n",
      "☐ Easy Gameplay+\n",
      "☐ Easy Gameplay+☐ Easy Game+\n",
      "☐ Easy Gameplay+\n",
      "☐ Easy Game\n",
      "☐ Easy Game\n",
      "☐ Easy Game+☐ Easy Gameplay+\n",
      "☐ Easy Game+\n",
      "☐ Easy Game+\n",
      "☐ Easy Gameplay+\n",
      "☐ Easy Game+☐ Easy Game+\n",
      "☐ Easy Game+\n",
      "☐ Easy Game+\n",
      "☐ Easy Game+\n",
      "☐ Easy Game+☐ Easy Game+☐ Easy Game+\n"
     ]
    },
    {
     "name": "stderr",
     "output_type": "stream",
     "text": [
      "The attention mask and the pad token id were not set. As a consequence, you may observe unexpected behavior. Please pass your input's `attention_mask` to obtain reliable results.\n",
      "Setting `pad_token_id` to `eos_token_id`:50256 for open-end generation.\n"
     ]
    },
    {
     "name": "stdout",
     "output_type": "stream",
     "text": [
      "  Batch 9,800  of  23,089. Loss: 0.03310493752360344.   Elapsed: 1:03:21.\n",
      "0:  KinReview: i bought the game for my friends and when i went to play it it they were all a complete idiot with their fucking fucker ass Not recommended\n"
     ]
    },
    {
     "name": "stderr",
     "output_type": "stream",
     "text": [
      "The attention mask and the pad token id were not set. As a consequence, you may observe unexpected behavior. Please pass your input's `attention_mask` to obtain reliable results.\n",
      "Setting `pad_token_id` to `eos_token_id`:50256 for open-end generation.\n"
     ]
    },
    {
     "name": "stdout",
     "output_type": "stream",
     "text": [
      "  Batch 9,900  of  23,089. Loss: 0.4467979967594147.   Elapsed: 1:03:58.\n",
      "0:  VermontReview: This game is unbalanced to all points. The game lacks replay value. It can easily become a repetitive experience that I hope and will do. But, sadly it isn't nearly that. If you don't have friends to play with you should do something else. Not recommended\n"
     ]
    },
    {
     "name": "stderr",
     "output_type": "stream",
     "text": [
      "The attention mask and the pad token id were not set. As a consequence, you may observe unexpected behavior. Please pass your input's `attention_mask` to obtain reliable results.\n",
      "Setting `pad_token_id` to `eos_token_id`:50256 for open-end generation.\n"
     ]
    },
    {
     "name": "stdout",
     "output_type": "stream",
     "text": [
      "  Batch 10,000  of  23,089. Loss: 0.037357985973358154.   Elapsed: 1:04:37.\n",
      "0:  FromReview: No good game, but the devs really care. They don't think they were going to fix that problem, or they make it better Not recommended\n"
     ]
    },
    {
     "name": "stderr",
     "output_type": "stream",
     "text": [
      "The attention mask and the pad token id were not set. As a consequence, you may observe unexpected behavior. Please pass your input's `attention_mask` to obtain reliable results.\n",
      "Setting `pad_token_id` to `eos_token_id`:50256 for open-end generation.\n"
     ]
    },
    {
     "name": "stdout",
     "output_type": "stream",
     "text": [
      "  Batch 10,100  of  23,089. Loss: 0.20779411494731903.   Elapsed: 1:05:14.\n",
      "0:  BLReview: good Recommended\n"
     ]
    },
    {
     "name": "stderr",
     "output_type": "stream",
     "text": [
      "The attention mask and the pad token id were not set. As a consequence, you may observe unexpected behavior. Please pass your input's `attention_mask` to obtain reliable results.\n",
      "Setting `pad_token_id` to `eos_token_id`:50256 for open-end generation.\n"
     ]
    },
    {
     "name": "stdout",
     "output_type": "stream",
     "text": [
      "  Batch 10,200  of  23,089. Loss: 0.047770410776138306.   Elapsed: 1:05:52.\n",
      "0:  coupledReview: is good Recommended\n"
     ]
    },
    {
     "name": "stderr",
     "output_type": "stream",
     "text": [
      "The attention mask and the pad token id were not set. As a consequence, you may observe unexpected behavior. Please pass your input's `attention_mask` to obtain reliable results.\n",
      "Setting `pad_token_id` to `eos_token_id`:50256 for open-end generation.\n"
     ]
    },
    {
     "name": "stdout",
     "output_type": "stream",
     "text": [
      "  Batch 10,300  of  23,089. Loss: 0.05743301287293434.   Elapsed: 1:06:29.\n",
      "0:  stagesReview: Not recommended\n"
     ]
    },
    {
     "name": "stderr",
     "output_type": "stream",
     "text": [
      "The attention mask and the pad token id were not set. As a consequence, you may observe unexpected behavior. Please pass your input's `attention_mask` to obtain reliable results.\n",
      "Setting `pad_token_id` to `eos_token_id`:50256 for open-end generation.\n"
     ]
    },
    {
     "name": "stdout",
     "output_type": "stream",
     "text": [
      "  Batch 10,400  of  23,089. Loss: 0.3837377429008484.   Elapsed: 1:07:07.\n",
      "0:  treadReview: ive played it for quite a bit of hours just to fix it Recommended\n"
     ]
    },
    {
     "name": "stderr",
     "output_type": "stream",
     "text": [
      "The attention mask and the pad token id were not set. As a consequence, you may observe unexpected behavior. Please pass your input's `attention_mask` to obtain reliable results.\n",
      "Setting `pad_token_id` to `eos_token_id`:50256 for open-end generation.\n"
     ]
    },
    {
     "name": "stdout",
     "output_type": "stream",
     "text": [
      "  Batch 10,500  of  23,089. Loss: 0.0388951450586319.   Elapsed: 1:07:44.\n",
      "0: SAReview: this game IS great and i play it for a long time and i also play it for people to buy Recommended\n"
     ]
    },
    {
     "name": "stderr",
     "output_type": "stream",
     "text": [
      "The attention mask and the pad token id were not set. As a consequence, you may observe unexpected behavior. Please pass your input's `attention_mask` to obtain reliable results.\n",
      "Setting `pad_token_id` to `eos_token_id`:50256 for open-end generation.\n"
     ]
    },
    {
     "name": "stdout",
     "output_type": "stream",
     "text": [
      "  Batch 10,600  of  23,089. Loss: 0.06629230827093124.   Elapsed: 1:08:22.\n",
      "0:  probableReview: Great and addictive game, and a super steep learning curve. But the good people and the bad ones are the same. Recommended\n"
     ]
    },
    {
     "name": "stderr",
     "output_type": "stream",
     "text": [
      "The attention mask and the pad token id were not set. As a consequence, you may observe unexpected behavior. Please pass your input's `attention_mask` to obtain reliable results.\n",
      "Setting `pad_token_id` to `eos_token_id`:50256 for open-end generation.\n"
     ]
    },
    {
     "name": "stdout",
     "output_type": "stream",
     "text": [
      "  Batch 10,700  of  23,089. Loss: 0.024596745148301125.   Elapsed: 1:09:00.\n",
      "0:  leanReview: This game is worth playing, though.\n",
      "1st: It's fucking unplayable.\n",
      "2nd, the graphics are awful. It's a shitty job at least. Don't waste your time. The amount of work this game does to make the killers better. The animations are garbage, and you have to make them, while you will have fun to play the game.\n",
      "3rd: The new UI is shit. The devs are now putting a pretty good effort into fixing this one in the game. When you start up, you will have to lose the game. There is a reason to not to support this. However, it's not really a problem, but if you enjoy waiting hours for a game then be aware.\n",
      "3, The developers have no idea how to play. On top of that, the community is too toxic and unfun at times. Not recommended\n"
     ]
    },
    {
     "name": "stderr",
     "output_type": "stream",
     "text": [
      "The attention mask and the pad token id were not set. As a consequence, you may observe unexpected behavior. Please pass your input's `attention_mask` to obtain reliable results.\n",
      "Setting `pad_token_id` to `eos_token_id`:50256 for open-end generation.\n"
     ]
    },
    {
     "name": "stdout",
     "output_type": "stream",
     "text": [
      "  Batch 10,800  of  23,089. Loss: 0.18539643287658691.   Elapsed: 1:09:40.\n",
      "0: ëReview: This is one of the worst game and most toxic communities out there, this is one of worst, this game is a lot of fun. But for the most part, I just think you will find some fun playing it alone, and if you are a survivor, it can be toxic and you are not the best, there's really no option that is even more toxic than playing killer, you can just disconnect a whole bunch of times and you will have a good reason to do it with your friends. When the game is good, it might be good, but the game is awful and they cannot balance it, you get frustrated and you're the last survivor, they will have to be \"hooked\" to get away. There are problems, in which if you try to play survivor (and the killer is way too strong or you might end up dying fast, you'll have to try to run around while the game is just broken, because it's way too difficult for survivors\n"
     ]
    },
    {
     "name": "stderr",
     "output_type": "stream",
     "text": [
      "The attention mask and the pad token id were not set. As a consequence, you may observe unexpected behavior. Please pass your input's `attention_mask` to obtain reliable results.\n",
      "Setting `pad_token_id` to `eos_token_id`:50256 for open-end generation.\n"
     ]
    },
    {
     "name": "stdout",
     "output_type": "stream",
     "text": [
      "  Batch 10,900  of  23,089. Loss: 0.07653330266475677.   Elapsed: 1:10:20.\n",
      "0: ounty�ьиео�аьырао�оЀо�о�иырауо�оемо�о�иуаооо�аиоооаоооаьауооо�еороааааао�уьоио�о�ааауииуо�о�о�аиуоео�оваьоуоаиаоаоеьуроииаиооро�ыео�ьоо�уоро�а�еЄоааао�аьо�аио�иоео�ао�ро�ьо�аыьоЈоиооиьо�о�ьо�оьо�оуимаьу�о�иао�иоааорао�ороооо�иоо�ао�ууво�уиоо\n"
     ]
    },
    {
     "name": "stderr",
     "output_type": "stream",
     "text": [
      "The attention mask and the pad token id were not set. As a consequence, you may observe unexpected behavior. Please pass your input's `attention_mask` to obtain reliable results.\n",
      "Setting `pad_token_id` to `eos_token_id`:50256 for open-end generation.\n"
     ]
    },
    {
     "name": "stdout",
     "output_type": "stream",
     "text": [
      "  Batch 11,000  of  23,089. Loss: 0.03877005726099014.   Elapsed: 1:11:00.\n",
      "0: 81Review: No Not recommended\n"
     ]
    },
    {
     "name": "stderr",
     "output_type": "stream",
     "text": [
      "The attention mask and the pad token id were not set. As a consequence, you may observe unexpected behavior. Please pass your input's `attention_mask` to obtain reliable results.\n",
      "Setting `pad_token_id` to `eos_token_id`:50256 for open-end generation.\n"
     ]
    },
    {
     "name": "stdout",
     "output_type": "stream",
     "text": [
      "  Batch 11,100  of  23,089. Loss: 0.3666970431804657.   Elapsed: 1:11:38.\n",
      "0:  CVReview: The game is a lot of fun but you can get frustrated over how awful it is because of you, either by your experience or by the experience. Either it's a grind and grind-fest that the player uses to make up for survivors, or use generators. But you can also get frustrated over the matchmaking, sometimes you get punished for doing generators and sometimes you get stuck at the exit because it's the killer getting away on generators. Some killers are very well-tuned, but when they are not very powerful at the end of the game. Most are too big of the time they are going to die.\n",
      "\n",
      "There is a lot of toxic people from all across the world. Whether you are a survivor and seek to escape, Or a killer who is killing your friend and then unhooking your teammates. This is not one of them. It is not one thing you could think that the devs are working on.\n",
      "There are many cheaters here. I\n"
     ]
    },
    {
     "name": "stderr",
     "output_type": "stream",
     "text": [
      "The attention mask and the pad token id were not set. As a consequence, you may observe unexpected behavior. Please pass your input's `attention_mask` to obtain reliable results.\n",
      "Setting `pad_token_id` to `eos_token_id`:50256 for open-end generation.\n"
     ]
    },
    {
     "name": "stdout",
     "output_type": "stream",
     "text": [
      "  Batch 11,200  of  23,089. Loss: 0.054864268749952316.   Elapsed: 1:12:18.\n",
      "0:  WikiLeaksReview: Very fun. Its all about the game.\n",
      "\n",
      " Recommended\n"
     ]
    },
    {
     "name": "stderr",
     "output_type": "stream",
     "text": [
      "The attention mask and the pad token id were not set. As a consequence, you may observe unexpected behavior. Please pass your input's `attention_mask` to obtain reliable results.\n",
      "Setting `pad_token_id` to `eos_token_id`:50256 for open-end generation.\n"
     ]
    },
    {
     "name": "stdout",
     "output_type": "stream",
     "text": [
      "  Batch 11,300  of  23,089. Loss: 0.15479031205177307.   Elapsed: 1:12:56.\n",
      "0: HostReview: fun game Recommended\n"
     ]
    },
    {
     "name": "stderr",
     "output_type": "stream",
     "text": [
      "The attention mask and the pad token id were not set. As a consequence, you may observe unexpected behavior. Please pass your input's `attention_mask` to obtain reliable results.\n",
      "Setting `pad_token_id` to `eos_token_id`:50256 for open-end generation.\n"
     ]
    },
    {
     "name": "stdout",
     "output_type": "stream",
     "text": [
      "  Batch 11,400  of  23,089. Loss: 0.970137894153595.   Elapsed: 1:13:33.\n",
      "0: aughsReview: game was fun for me but when I hit it was almost impossible for me. Not recommended\n"
     ]
    },
    {
     "name": "stderr",
     "output_type": "stream",
     "text": [
      "The attention mask and the pad token id were not set. As a consequence, you may observe unexpected behavior. Please pass your input's `attention_mask` to obtain reliable results.\n",
      "Setting `pad_token_id` to `eos_token_id`:50256 for open-end generation.\n"
     ]
    },
    {
     "name": "stdout",
     "output_type": "stream",
     "text": [
      "  Batch 11,500  of  23,089. Loss: 0.028211157768964767.   Elapsed: 1:14:11.\n",
      "0:  galReview: I really like how much you can grind with a great game. It's great to have friends :) Recommended\n"
     ]
    },
    {
     "name": "stderr",
     "output_type": "stream",
     "text": [
      "The attention mask and the pad token id were not set. As a consequence, you may observe unexpected behavior. Please pass your input's `attention_mask` to obtain reliable results.\n",
      "Setting `pad_token_id` to `eos_token_id`:50256 for open-end generation.\n"
     ]
    },
    {
     "name": "stdout",
     "output_type": "stream",
     "text": [
      "  Batch 11,600  of  23,089. Loss: 0.12822186946868896.   Elapsed: 1:14:48.\n",
      "0:  extendsReview: The game is cool but the developers are so much overpowered. I know that with any of you will be able to easily attack the killer and then try and get a kill. The only point in this game is that there are so many perks that nobody has ever played in the game. But even that they can be used in the game. Now that they've done this, they have managed to destroy a game with no success, they had no idea how to play the game. You'll be able to see that with any of you, but with every update there are no signs of getting better or being worse. The developers don't care about balance and it's in an incredibly bad state that it's becoming a nightmare. \n",
      "\n",
      "When they start out they're actually doing a pretty good job of fixing them or fixing them. A lot of things have gotten more improved in the past with the balancing.\n",
      "\n",
      "They've been doing so much but then they realized that they had\n"
     ]
    },
    {
     "name": "stderr",
     "output_type": "stream",
     "text": [
      "The attention mask and the pad token id were not set. As a consequence, you may observe unexpected behavior. Please pass your input's `attention_mask` to obtain reliable results.\n",
      "Setting `pad_token_id` to `eos_token_id`:50256 for open-end generation.\n"
     ]
    },
    {
     "name": "stdout",
     "output_type": "stream",
     "text": [
      "  Batch 11,700  of  23,089. Loss: 0.28808313608169556.   Elapsed: 1:15:29.\n",
      "0: whereReview: After playing a few hours, I have gotten tired of playing this game, which is a shame, and the recent update made the game more than just horrible as hell. Not recommended\n"
     ]
    },
    {
     "name": "stderr",
     "output_type": "stream",
     "text": [
      "The attention mask and the pad token id were not set. As a consequence, you may observe unexpected behavior. Please pass your input's `attention_mask` to obtain reliable results.\n",
      "Setting `pad_token_id` to `eos_token_id`:50256 for open-end generation.\n"
     ]
    },
    {
     "name": "stdout",
     "output_type": "stream",
     "text": [
      "  Batch 11,800  of  23,089. Loss: 0.07364632934331894.   Elapsed: 1:16:07.\n",
      "0:  coffReview: Very fun Game \n",
      "\n",
      "The game has a lot of variety \n",
      "\n",
      "- There are many issues in the game\n",
      "- You can be very toxic sometimes if you don't play the game as much\n",
      "\n",
      "Overall, if you don't want to be toxic, don't play it too far\n",
      "- You can be very toxic in terms of your experience if you play with friend, but it doesn't work that much\n",
      "\n",
      "- You're toxic sometimes when it does work\n",
      "\n",
      "If you're looking to have a fun time, don't bother at all, it doesn't be a very different experience. Recommended\n"
     ]
    },
    {
     "name": "stderr",
     "output_type": "stream",
     "text": [
      "The attention mask and the pad token id were not set. As a consequence, you may observe unexpected behavior. Please pass your input's `attention_mask` to obtain reliable results.\n",
      "Setting `pad_token_id` to `eos_token_id`:50256 for open-end generation.\n"
     ]
    },
    {
     "name": "stdout",
     "output_type": "stream",
     "text": [
      "  Batch 11,900  of  23,089. Loss: 0.24587038159370422.   Elapsed: 1:16:46.\n",
      "0:  SGReview: its good to play Recommended\n"
     ]
    },
    {
     "name": "stderr",
     "output_type": "stream",
     "text": [
      "The attention mask and the pad token id were not set. As a consequence, you may observe unexpected behavior. Please pass your input's `attention_mask` to obtain reliable results.\n",
      "Setting `pad_token_id` to `eos_token_id`:50256 for open-end generation.\n"
     ]
    },
    {
     "name": "stdout",
     "output_type": "stream",
     "text": [
      "  Batch 12,000  of  23,089. Loss: 0.22999446094036102.   Elapsed: 1:17:23.\n",
      "0: arsonReview: Its fun and great Recommended\n"
     ]
    },
    {
     "name": "stderr",
     "output_type": "stream",
     "text": [
      "The attention mask and the pad token id were not set. As a consequence, you may observe unexpected behavior. Please pass your input's `attention_mask` to obtain reliable results.\n",
      "Setting `pad_token_id` to `eos_token_id`:50256 for open-end generation.\n"
     ]
    },
    {
     "name": "stdout",
     "output_type": "stream",
     "text": [
      "  Batch 12,100  of  23,089. Loss: 0.09319735318422318.   Elapsed: 1:18:01.\n",
      "0:  arcReview: Good game if you're not one person.\n",
      "\n",
      "Edit: I hate this game Not recommended\n"
     ]
    },
    {
     "name": "stderr",
     "output_type": "stream",
     "text": [
      "The attention mask and the pad token id were not set. As a consequence, you may observe unexpected behavior. Please pass your input's `attention_mask` to obtain reliable results.\n",
      "Setting `pad_token_id` to `eos_token_id`:50256 for open-end generation.\n"
     ]
    },
    {
     "name": "stdout",
     "output_type": "stream",
     "text": [
      "  Batch 12,200  of  23,089. Loss: 0.16392016410827637.   Elapsed: 1:18:38.\n",
      "0: uccReview: This game is fun. Recommended\n"
     ]
    },
    {
     "name": "stderr",
     "output_type": "stream",
     "text": [
      "The attention mask and the pad token id were not set. As a consequence, you may observe unexpected behavior. Please pass your input's `attention_mask` to obtain reliable results.\n",
      "Setting `pad_token_id` to `eos_token_id`:50256 for open-end generation.\n"
     ]
    },
    {
     "name": "stdout",
     "output_type": "stream",
     "text": [
      "  Batch 12,300  of  23,089. Loss: 0.21090182662010193.   Elapsed: 1:19:16.\n",
      "0: NetReview: Honestly this is a fun game to play! Good game to play with friends :) I like it and my friends love it. However this is a one-of-only multiplayer horror game. It is so good to spend a couple of years or even another time. The devs are very lazy on balance but they always update the game so if you want to get into the game it's time. It's pretty cool and I'll probably get bored with this game. I'm not like it, but I think the game is pretty good :) Recommended\n"
     ]
    },
    {
     "name": "stderr",
     "output_type": "stream",
     "text": [
      "The attention mask and the pad token id were not set. As a consequence, you may observe unexpected behavior. Please pass your input's `attention_mask` to obtain reliable results.\n",
      "Setting `pad_token_id` to `eos_token_id`:50256 for open-end generation.\n"
     ]
    },
    {
     "name": "stdout",
     "output_type": "stream",
     "text": [
      "  Batch 12,400  of  23,089. Loss: 0.13495564460754395.   Elapsed: 1:19:55.\n",
      "0:  ignoredReview: They're doing more than 1,000 hours of my life. The game is very fun and pretty good at it with friends. It's just as if it's not an asymmetrical game. I like the asymmetrical survival aspect of the game and the fun concept of it is a bit like a game in which there can be no skill based match. In the current state, the game does not have much balancing to offer. It's all about the game's design, not the mechanics behind the game, and rather the design. The most recent changes to this is for \"fixing\" players, which is basically unplayable. I mean not too bad. This changes to say \"cheating\" matches with a survivor team (only once) where the killer literally has to camp the survivors to get enough points and kill the others. This issue just needs a bit of balancing, but the meta doesn't seem to improve the way we play. There is also an ability where\n"
     ]
    },
    {
     "name": "stderr",
     "output_type": "stream",
     "text": [
      "The attention mask and the pad token id were not set. As a consequence, you may observe unexpected behavior. Please pass your input's `attention_mask` to obtain reliable results.\n",
      "Setting `pad_token_id` to `eos_token_id`:50256 for open-end generation.\n"
     ]
    },
    {
     "name": "stdout",
     "output_type": "stream",
     "text": [
      "  Batch 12,500  of  23,089. Loss: 0.04403550922870636.   Elapsed: 1:20:35.\n",
      "0:  LuReview: this game makes me mad i want to punch people into oblivion Recommended\n"
     ]
    },
    {
     "name": "stderr",
     "output_type": "stream",
     "text": [
      "The attention mask and the pad token id were not set. As a consequence, you may observe unexpected behavior. Please pass your input's `attention_mask` to obtain reliable results.\n",
      "Setting `pad_token_id` to `eos_token_id`:50256 for open-end generation.\n"
     ]
    },
    {
     "name": "stdout",
     "output_type": "stream",
     "text": [
      "  Batch 12,600  of  23,089. Loss: 0.9414790868759155.   Elapsed: 1:21:13.\n",
      "0:  BernReview: I have so much fun playing this game with people i like for a little bit. Recommended\n"
     ]
    },
    {
     "name": "stderr",
     "output_type": "stream",
     "text": [
      "The attention mask and the pad token id were not set. As a consequence, you may observe unexpected behavior. Please pass your input's `attention_mask` to obtain reliable results.\n",
      "Setting `pad_token_id` to `eos_token_id`:50256 for open-end generation.\n"
     ]
    },
    {
     "name": "stdout",
     "output_type": "stream",
     "text": [
      "  Batch 12,700  of  23,089. Loss: 0.07202589511871338.   Elapsed: 1:21:50.\n",
      "0:  SharonReview: This is the last game if this happens but i dont think its really like that.\n",
      "Yes it can be hard to do so even with my pc its so very frustrating, especially with some of the killers are OP but its fun to play both killer and survivor but as with my pc i am just the worst person i ever spent my life on this game with this on pc Not recommended\n"
     ]
    },
    {
     "name": "stderr",
     "output_type": "stream",
     "text": [
      "The attention mask and the pad token id were not set. As a consequence, you may observe unexpected behavior. Please pass your input's `attention_mask` to obtain reliable results.\n",
      "Setting `pad_token_id` to `eos_token_id`:50256 for open-end generation.\n"
     ]
    },
    {
     "name": "stdout",
     "output_type": "stream",
     "text": [
      "  Batch 12,800  of  23,089. Loss: 0.11824717372655869.   Elapsed: 1:22:29.\n",
      "0:  WeekReview: Just play a few games Not recommended\n"
     ]
    },
    {
     "name": "stderr",
     "output_type": "stream",
     "text": [
      "The attention mask and the pad token id were not set. As a consequence, you may observe unexpected behavior. Please pass your input's `attention_mask` to obtain reliable results.\n",
      "Setting `pad_token_id` to `eos_token_id`:50256 for open-end generation.\n"
     ]
    },
    {
     "name": "stdout",
     "output_type": "stream",
     "text": [
      "  Batch 12,900  of  23,089. Loss: 0.2529491186141968.   Elapsed: 1:23:06.\n",
      "0:  AsReview: Dead by Daylight is a fun game if you want to play it with your friends and if you play it solo, you will not get bored for the time. However, the matchmaking system is so incredibly unbalanced the game just becomes unplayable to play and you just start waiting 15 minutes to get into a match which isn't being able to join a single game after just letting the game wait for matchmaking. The wait times are very high. Killer queue times are insanely long and it doesn't even feel like a competitive game at all. Not recommended\n"
     ]
    },
    {
     "name": "stderr",
     "output_type": "stream",
     "text": [
      "The attention mask and the pad token id were not set. As a consequence, you may observe unexpected behavior. Please pass your input's `attention_mask` to obtain reliable results.\n",
      "Setting `pad_token_id` to `eos_token_id`:50256 for open-end generation.\n"
     ]
    },
    {
     "name": "stdout",
     "output_type": "stream",
     "text": [
      "  Batch 13,000  of  23,089. Loss: 0.04953407123684883.   Elapsed: 1:23:45.\n",
      "0: umenReview: its a fun game especially with friends! Recommended\n"
     ]
    },
    {
     "name": "stderr",
     "output_type": "stream",
     "text": [
      "The attention mask and the pad token id were not set. As a consequence, you may observe unexpected behavior. Please pass your input's `attention_mask` to obtain reliable results.\n",
      "Setting `pad_token_id` to `eos_token_id`:50256 for open-end generation.\n"
     ]
    },
    {
     "name": "stdout",
     "output_type": "stream",
     "text": [
      "  Batch 13,100  of  23,089. Loss: 1.2496894598007202.   Elapsed: 1:24:23.\n",
      "0:  preparationsReview: Very enjoyable game, there is a bit of learning curve in the learning curve Recommended\n"
     ]
    },
    {
     "name": "stderr",
     "output_type": "stream",
     "text": [
      "The attention mask and the pad token id were not set. As a consequence, you may observe unexpected behavior. Please pass your input's `attention_mask` to obtain reliable results.\n",
      "Setting `pad_token_id` to `eos_token_id`:50256 for open-end generation.\n"
     ]
    },
    {
     "name": "stdout",
     "output_type": "stream",
     "text": [
      "  Batch 13,200  of  23,089. Loss: 0.21239769458770752.   Elapsed: 1:25:01.\n",
      "0:  unexReview: This game is not for all that toxic community. Every game is a 1v4 game and you're just playing as a killer and trying for your favorite killer for the game. A 1v4 game is in the game that will make you angry at all and ruin your fun. Don't recommend this game, if you don't play it as it would be not a very fun game. Not recommended\n"
     ]
    },
    {
     "name": "stderr",
     "output_type": "stream",
     "text": [
      "The attention mask and the pad token id were not set. As a consequence, you may observe unexpected behavior. Please pass your input's `attention_mask` to obtain reliable results.\n",
      "Setting `pad_token_id` to `eos_token_id`:50256 for open-end generation.\n"
     ]
    },
    {
     "name": "stdout",
     "output_type": "stream",
     "text": [
      "  Batch 13,300  of  23,089. Loss: 0.09972704201936722.   Elapsed: 1:25:39.\n",
      "0:  WeatherReview: แอ่์ Recommended\n"
     ]
    },
    {
     "name": "stderr",
     "output_type": "stream",
     "text": [
      "The attention mask and the pad token id were not set. As a consequence, you may observe unexpected behavior. Please pass your input's `attention_mask` to obtain reliable results.\n",
      "Setting `pad_token_id` to `eos_token_id`:50256 for open-end generation.\n"
     ]
    },
    {
     "name": "stdout",
     "output_type": "stream",
     "text": [
      "  Batch 13,400  of  23,089. Loss: 0.01794602908194065.   Elapsed: 1:26:17.\n",
      "0:  QuReview: теพพพ？�Ｘ�พตН�จ��ภ฀฀�จซฑ�๘๰��๘�฀๞เ๜�ฐป�๣��ค�� �읈฀น�읈ร�乤⠄ ๔฀⠀�ิ�๬⡡� Ѐค⠄ไอ�⣛⠄⠄���ป�ธเ⣦ภ�จ�฿⣿⠀⠄๣�ป๞⠣�⠄⠿⠑������\n"
     ]
    },
    {
     "name": "stderr",
     "output_type": "stream",
     "text": [
      "The attention mask and the pad token id were not set. As a consequence, you may observe unexpected behavior. Please pass your input's `attention_mask` to obtain reliable results.\n",
      "Setting `pad_token_id` to `eos_token_id`:50256 for open-end generation.\n"
     ]
    },
    {
     "name": "stdout",
     "output_type": "stream",
     "text": [
      "  Batch 13,500  of  23,089. Loss: 0.19335505366325378.   Elapsed: 1:26:57.\n",
      "0:  MagReview: The developers do not understand how to balance the game, the game is unbalanced in order to make changes that will make it impossible for killers and survivors to repair. The game is made worse every update and new chapter. Not recommended\n"
     ]
    },
    {
     "name": "stderr",
     "output_type": "stream",
     "text": [
      "The attention mask and the pad token id were not set. As a consequence, you may observe unexpected behavior. Please pass your input's `attention_mask` to obtain reliable results.\n",
      "Setting `pad_token_id` to `eos_token_id`:50256 for open-end generation.\n"
     ]
    },
    {
     "name": "stdout",
     "output_type": "stream",
     "text": [
      "  Batch 13,600  of  23,089. Loss: 2.964928150177002.   Elapsed: 1:27:35.\n",
      "0: ]=Review: its good Recommended\n"
     ]
    },
    {
     "name": "stderr",
     "output_type": "stream",
     "text": [
      "The attention mask and the pad token id were not set. As a consequence, you may observe unexpected behavior. Please pass your input's `attention_mask` to obtain reliable results.\n",
      "Setting `pad_token_id` to `eos_token_id`:50256 for open-end generation.\n"
     ]
    },
    {
     "name": "stdout",
     "output_type": "stream",
     "text": [
      "  Batch 13,700  of  23,089. Loss: 0.03549849987030029.   Elapsed: 1:28:13.\n",
      "0:  uprightReview: good game! Recommended\n"
     ]
    },
    {
     "name": "stderr",
     "output_type": "stream",
     "text": [
      "The attention mask and the pad token id were not set. As a consequence, you may observe unexpected behavior. Please pass your input's `attention_mask` to obtain reliable results.\n",
      "Setting `pad_token_id` to `eos_token_id`:50256 for open-end generation.\n"
     ]
    },
    {
     "name": "stdout",
     "output_type": "stream",
     "text": [
      "  Batch 13,800  of  23,089. Loss: 0.08466930687427521.   Elapsed: 1:28:50.\n",
      "0:  dropReview: Game is balanced, every match feels a bit unbalanced. You don't know you can just stand a few of games and the killer looks like a camper at a rosie. You can't get good without a good playerbase. Not recommended\n"
     ]
    },
    {
     "name": "stderr",
     "output_type": "stream",
     "text": [
      "The attention mask and the pad token id were not set. As a consequence, you may observe unexpected behavior. Please pass your input's `attention_mask` to obtain reliable results.\n",
      "Setting `pad_token_id` to `eos_token_id`:50256 for open-end generation.\n"
     ]
    },
    {
     "name": "stdout",
     "output_type": "stream",
     "text": [
      "  Batch 13,900  of  23,089. Loss: 0.08773999661207199.   Elapsed: 1:29:28.\n",
      "0:  BreadReview: It's worth your time Recommended\n"
     ]
    },
    {
     "name": "stderr",
     "output_type": "stream",
     "text": [
      "The attention mask and the pad token id were not set. As a consequence, you may observe unexpected behavior. Please pass your input's `attention_mask` to obtain reliable results.\n",
      "Setting `pad_token_id` to `eos_token_id`:50256 for open-end generation.\n"
     ]
    },
    {
     "name": "stdout",
     "output_type": "stream",
     "text": [
      "  Batch 14,000  of  23,089. Loss: 0.03830365091562271.   Elapsed: 1:30:06.\n",
      "0:  beliefReview: Very good game, pretty nice Recommended\n"
     ]
    },
    {
     "name": "stderr",
     "output_type": "stream",
     "text": [
      "The attention mask and the pad token id were not set. As a consequence, you may observe unexpected behavior. Please pass your input's `attention_mask` to obtain reliable results.\n",
      "Setting `pad_token_id` to `eos_token_id`:50256 for open-end generation.\n"
     ]
    },
    {
     "name": "stdout",
     "output_type": "stream",
     "text": [
      "  Batch 14,100  of  23,089. Loss: 0.6002101898193359.   Elapsed: 1:30:43.\n",
      "0:  )Review: gud game. Not recommended\n"
     ]
    },
    {
     "name": "stderr",
     "output_type": "stream",
     "text": [
      "The attention mask and the pad token id were not set. As a consequence, you may observe unexpected behavior. Please pass your input's `attention_mask` to obtain reliable results.\n",
      "Setting `pad_token_id` to `eos_token_id`:50256 for open-end generation.\n"
     ]
    },
    {
     "name": "stdout",
     "output_type": "stream",
     "text": [
      "  Batch 14,200  of  23,089. Loss: 0.010086312890052795.   Elapsed: 1:31:19.\n",
      "0:  presentlyReview: Don't give it a chance. The current state is poorly optimized, but I can't recommend it anymore. Unless you're in a group of 5 friends in the lobby and ready to play together. Not recommended\n"
     ]
    },
    {
     "name": "stderr",
     "output_type": "stream",
     "text": [
      "The attention mask and the pad token id were not set. As a consequence, you may observe unexpected behavior. Please pass your input's `attention_mask` to obtain reliable results.\n",
      "Setting `pad_token_id` to `eos_token_id`:50256 for open-end generation.\n"
     ]
    },
    {
     "name": "stdout",
     "output_type": "stream",
     "text": [
      "  Batch 14,300  of  23,089. Loss: 0.10436099767684937.   Elapsed: 1:31:57.\n",
      "0:  wroteReview: Its addicting. The killer can easily run through windows like that! Recommended\n"
     ]
    },
    {
     "name": "stderr",
     "output_type": "stream",
     "text": [
      "The attention mask and the pad token id were not set. As a consequence, you may observe unexpected behavior. Please pass your input's `attention_mask` to obtain reliable results.\n",
      "Setting `pad_token_id` to `eos_token_id`:50256 for open-end generation.\n"
     ]
    },
    {
     "name": "stdout",
     "output_type": "stream",
     "text": [
      "  Batch 14,400  of  23,089. Loss: 0.12402580678462982.   Elapsed: 1:32:34.\n",
      "0:  headachesReview: The game has an issue that I did. I played this game in a day and when I got in the game for about a couple of hours it went to my console. The game is great to play. It's fun playing with friends, and with a group of friends. Playing with your friends is quite fun. It can also be annoying. I know if some of the problems are fixed this but they are not the ones I have. It's definitely worth this try. Recommended\n"
     ]
    },
    {
     "name": "stderr",
     "output_type": "stream",
     "text": [
      "The attention mask and the pad token id were not set. As a consequence, you may observe unexpected behavior. Please pass your input's `attention_mask` to obtain reliable results.\n",
      "Setting `pad_token_id` to `eos_token_id`:50256 for open-end generation.\n"
     ]
    },
    {
     "name": "stdout",
     "output_type": "stream",
     "text": [
      "  Batch 14,500  of  23,089. Loss: 1.229422926902771.   Elapsed: 1:33:13.\n",
      "0:  redundReview: this game really makes me want to be more serious, but i also hate it Recommended\n"
     ]
    },
    {
     "name": "stderr",
     "output_type": "stream",
     "text": [
      "The attention mask and the pad token id were not set. As a consequence, you may observe unexpected behavior. Please pass your input's `attention_mask` to obtain reliable results.\n",
      "Setting `pad_token_id` to `eos_token_id`:50256 for open-end generation.\n"
     ]
    },
    {
     "name": "stdout",
     "output_type": "stream",
     "text": [
      "  Batch 14,600  of  23,089. Loss: 0.2996644973754883.   Elapsed: 1:33:51.\n",
      "0:  stressfulReview: The game is good, but after a couple years its still unplayable to play. I have to be honest this game is trash. There are still bugs but i guess it is getting worse with each update.\n",
      "I've been playing it for quite a few years now and I can't say more than a thousand times that I have been able to have fun in it. It was my favourite experience to have with other friends, but it has never been that true.  The game is now incredibly grindy and just not fun and at the same time you cant do much without skill and a lack of patience.  The devs are completely incompetent and completely broken, because at first the game was very easy to play and the killers were easy to find. But since I played it for about a few weeks now and i got put in a lot of fun for the new maps, there is no fun. Also killers are basically unplayable against against survivors and there is no fun\n"
     ]
    },
    {
     "name": "stderr",
     "output_type": "stream",
     "text": [
      "The attention mask and the pad token id were not set. As a consequence, you may observe unexpected behavior. Please pass your input's `attention_mask` to obtain reliable results.\n",
      "Setting `pad_token_id` to `eos_token_id`:50256 for open-end generation.\n"
     ]
    },
    {
     "name": "stdout",
     "output_type": "stream",
     "text": [
      "  Batch 14,700  of  23,089. Loss: 0.34304267168045044.   Elapsed: 1:34:31.\n",
      "0:  underwayReview: I have over 1500 hours and can play this game and have an easy time playing this game. But I can't recommend it as its a solo game that doesn't have many players. The way this game works, as well as the community, makes it difficult for any survivor to be fun to play and make it easy to learn, as long as you are skilled enough to understand how to play the game, you'll get your teammates to be fun and have fun trying and playing as killer, which is really annoying if you're playing against the killers. Not recommended\n"
     ]
    },
    {
     "name": "stderr",
     "output_type": "stream",
     "text": [
      "The attention mask and the pad token id were not set. As a consequence, you may observe unexpected behavior. Please pass your input's `attention_mask` to obtain reliable results.\n",
      "Setting `pad_token_id` to `eos_token_id`:50256 for open-end generation.\n"
     ]
    },
    {
     "name": "stdout",
     "output_type": "stream",
     "text": [
      "  Batch 14,800  of  23,089. Loss: 0.30577510595321655.   Elapsed: 1:35:11.\n",
      "0:  marshReview: This game is fun to play with friends Recommended\n"
     ]
    },
    {
     "name": "stderr",
     "output_type": "stream",
     "text": [
      "The attention mask and the pad token id were not set. As a consequence, you may observe unexpected behavior. Please pass your input's `attention_mask` to obtain reliable results.\n",
      "Setting `pad_token_id` to `eos_token_id`:50256 for open-end generation.\n"
     ]
    },
    {
     "name": "stdout",
     "output_type": "stream",
     "text": [
      "  Batch 14,900  of  23,089. Loss: 0.20056408643722534.   Elapsed: 1:35:49.\n",
      "0:  GaReview: One of the best games ever played but there are some bugs. Like the map has been reworked, so now the ranking system has been broken. It was a lot of fun back then and now there is a lot of \"playable games\" that the developers are just making it through. There are other games that have been around the game for a while, and all have been fixed. But this game is not exactly for everyone but it is definitely a great waste of time as I played this game for a long time. Not recommended\n"
     ]
    },
    {
     "name": "stderr",
     "output_type": "stream",
     "text": [
      "The attention mask and the pad token id were not set. As a consequence, you may observe unexpected behavior. Please pass your input's `attention_mask` to obtain reliable results.\n",
      "Setting `pad_token_id` to `eos_token_id`:50256 for open-end generation.\n"
     ]
    },
    {
     "name": "stdout",
     "output_type": "stream",
     "text": [
      "  Batch 15,000  of  23,089. Loss: 1.0250016450881958.   Elapsed: 1:36:27.\n",
      "0:  CousReview: this game has never seen my ass sucked and it feels like there's no punishment for it anymore. dont do anything against the killers now that you can't play them. don't play at all. Not recommended\n"
     ]
    },
    {
     "name": "stderr",
     "output_type": "stream",
     "text": [
      "The attention mask and the pad token id were not set. As a consequence, you may observe unexpected behavior. Please pass your input's `attention_mask` to obtain reliable results.\n",
      "Setting `pad_token_id` to `eos_token_id`:50256 for open-end generation.\n"
     ]
    },
    {
     "name": "stdout",
     "output_type": "stream",
     "text": [
      "  Batch 15,100  of  23,089. Loss: 0.07991276681423187.   Elapsed: 1:37:04.\n",
      "0: pherdReview: I love this game, but it isn't worth playing with friends. I dont recommend it yet I could stop being fun if you're looking to play with my friends or if you're looking to play killer. Not recommended\n"
     ]
    },
    {
     "name": "stderr",
     "output_type": "stream",
     "text": [
      "The attention mask and the pad token id were not set. As a consequence, you may observe unexpected behavior. Please pass your input's `attention_mask` to obtain reliable results.\n",
      "Setting `pad_token_id` to `eos_token_id`:50256 for open-end generation.\n"
     ]
    },
    {
     "name": "stdout",
     "output_type": "stream",
     "text": [
      "  Batch 15,200  of  23,089. Loss: 0.5502153635025024.   Elapsed: 1:37:41.\n",
      "0: printsReview: I love this game! The only problem is that it has issues, but that's what i love about it!\n",
      "\n",
      "\n",
      "\n",
      "\n",
      "\n",
      "\n",
      "\n",
      "\n",
      "\n",
      "\n",
      "\n",
      "\n",
      "\n",
      "\n",
      "\n",
      "\n",
      "\n",
      "\n",
      "\n",
      "\n",
      "\n",
      "\n",
      "\n",
      "\n",
      "\n",
      "\n",
      "\n",
      "\n",
      "\n",
      "\n",
      "\n",
      "\n",
      "\n",
      "\n",
      "\n",
      "\n",
      "\n",
      "\n",
      "\n",
      "\n",
      "\n",
      "\n",
      "\n",
      "\n",
      "\n",
      "\n",
      "\n",
      "\n",
      "\n",
      "\n",
      "\n",
      "\n",
      "\n",
      "\n",
      "\n",
      "\n",
      "\n",
      "\n",
      "\n",
      "\n",
      "\n",
      "\n",
      "\n",
      "\n",
      "\n",
      "\n",
      "\n",
      "\n",
      "\n",
      "\n",
      "\n",
      "\n",
      "\n",
      "\n",
      "\n",
      "\n",
      "\n",
      "\n",
      "\n",
      "\n",
      "\n",
      "\n",
      "\n",
      "\n",
      "\n",
      "\n",
      "\n",
      "\n",
      "\n",
      "\n",
      "\n",
      "\n",
      "\n",
      "\n",
      "\n",
      "\n",
      "\n",
      "\n",
      "\n",
      "\n",
      "\n",
      "\n",
      "\n",
      "\n",
      "\n",
      "\n",
      "\n",
      "\n",
      "\n",
      "\n",
      "\n",
      "\n",
      "\n",
      "\n",
      "\n",
      "\n",
      "\n",
      "\n",
      "\n",
      "\n",
      "\n",
      "\n",
      "\n",
      "\n",
      "\n",
      "\n",
      "\n",
      "\n",
      "\n",
      "\n",
      "\n",
      "\n",
      "\n",
      "\n",
      "\n",
      "\n",
      "\n",
      "\n",
      "\n",
      "\n",
      "\n",
      "\n",
      "\n",
      "\n",
      "\n",
      "\n",
      "\n",
      "\n",
      "\n",
      "\n",
      "\n",
      "\n",
      "\n",
      "\n",
      "\n",
      "\n",
      "\n",
      "\n",
      "\n",
      "\n",
      "\n",
      "\n",
      "\n",
      "\n",
      "\n",
      "\n",
      "\n",
      "\n",
      "\n",
      "\n",
      "\n",
      "\n",
      "\n",
      "\n",
      "\n",
      "\n",
      "\n",
      "\n",
      "\n",
      "\n",
      "\n",
      "\n",
      "\n",
      "\n",
      "\n",
      "\n",
      "\n",
      "\n",
      "\n",
      "\n",
      "\n",
      "\n",
      "\n",
      "\n",
      "\n",
      "\n",
      "\n",
      "\n",
      "\n",
      "\n",
      "\n",
      "\n",
      "\n",
      "\n",
      "\n",
      "\n",
      "\n",
      "\n",
      "\n",
      "\n",
      "\n",
      "\n",
      "\n",
      "\n",
      "\n",
      "\n",
      "\n",
      "\n",
      "\n",
      "\n",
      "\n",
      "\n",
      "\n",
      "\n",
      "\n",
      "\n",
      "\n",
      "\n",
      "\n",
      "\n",
      "\n",
      "\n",
      "\n",
      "\n",
      "\n",
      "\n",
      "\n",
      "\n",
      "\n",
      "\n",
      "\n",
      "\n",
      "\n",
      "\n",
      "\n",
      "\n",
      "\n",
      "\n",
      "\n",
      "\n",
      "\n",
      "\n",
      "\n",
      "\n",
      "\n",
      "\n",
      "\n",
      "\n",
      "\n",
      "\n",
      "\n",
      "\n",
      "\n",
      "\n",
      "\n",
      "\n",
      "\n",
      "\n",
      "\n",
      "\n",
      "\n",
      "\n",
      "\n",
      "\n",
      "\n",
      "\n",
      "\n",
      "\n",
      "\n",
      "\n",
      "\n",
      "\n",
      "\n",
      "\n",
      "\n",
      "\n",
      "\n",
      "\n",
      "\n",
      "\n",
      "\n",
      "\n",
      "\n",
      "\n",
      "\n",
      "\n",
      "\n",
      "\n",
      "\n",
      "\n",
      "\n",
      "\n",
      "\n",
      "\n",
      "\n",
      "\n",
      "\n",
      "\n",
      "\n",
      "\n",
      "\n",
      "\n",
      "\n",
      "\n",
      "\n",
      "\n",
      "\n",
      "\n",
      "\n",
      "\n",
      "\n",
      "\n",
      "\n",
      "\n",
      "\n",
      "\n",
      "\n",
      "\n",
      "\n",
      "\n",
      "\n",
      "\n",
      "\n",
      "\n",
      "\n",
      "\n",
      "\n",
      "\n",
      "\n",
      "\n",
      "\n",
      "\n",
      "\n",
      "\n",
      "\n",
      "\n",
      "\n",
      "\n"
     ]
    },
    {
     "name": "stderr",
     "output_type": "stream",
     "text": [
      "The attention mask and the pad token id were not set. As a consequence, you may observe unexpected behavior. Please pass your input's `attention_mask` to obtain reliable results.\n",
      "Setting `pad_token_id` to `eos_token_id`:50256 for open-end generation.\n"
     ]
    },
    {
     "name": "stdout",
     "output_type": "stream",
     "text": [
      "  Batch 15,300  of  23,089. Loss: 0.051276687532663345.   Elapsed: 1:38:21.\n",
      "0: breakReview: fun Recommended\n"
     ]
    },
    {
     "name": "stderr",
     "output_type": "stream",
     "text": [
      "The attention mask and the pad token id were not set. As a consequence, you may observe unexpected behavior. Please pass your input's `attention_mask` to obtain reliable results.\n",
      "Setting `pad_token_id` to `eos_token_id`:50256 for open-end generation.\n"
     ]
    },
    {
     "name": "stdout",
     "output_type": "stream",
     "text": [
      "  Batch 15,400  of  23,089. Loss: 0.05361383035778999.   Elapsed: 1:38:57.\n",
      "0:  HindReview: It's good game, but it suffers from a horrible matchmaking system, no communication, and all the bugs. Not recommended\n"
     ]
    },
    {
     "name": "stderr",
     "output_type": "stream",
     "text": [
      "The attention mask and the pad token id were not set. As a consequence, you may observe unexpected behavior. Please pass your input's `attention_mask` to obtain reliable results.\n",
      "Setting `pad_token_id` to `eos_token_id`:50256 for open-end generation.\n"
     ]
    },
    {
     "name": "stdout",
     "output_type": "stream",
     "text": [
      "  Batch 15,500  of  23,089. Loss: 0.7371385097503662.   Elapsed: 1:39:34.\n",
      "0:  StonesReview: i am gonna get this game when i find myself disconnecting or even disconnecting this game. \n",
      "\n",
      "1. It's too damn bad the balance of perks.\n",
      "2. I find that killers have too much perks to help them or even help them. \n",
      "3. They just nerf the survivors for free and then give the game a 50+ minute break.\n",
      "4. They do not do anything to help killers or any other reason to even use them for any reason. They just are way to much to favor the survivors.\n",
      "5. They made the whole idea that the survivors have the ability to be more powerful and get all the perks and then make them so that their powers and the ones that you had that make it so that they had the power to make them completely worthless for the others. \n",
      "5. They made it so that the killers could easily hide the survivors, and so that is all because the killer got too much perks and the survivor\n"
     ]
    },
    {
     "name": "stderr",
     "output_type": "stream",
     "text": [
      "The attention mask and the pad token id were not set. As a consequence, you may observe unexpected behavior. Please pass your input's `attention_mask` to obtain reliable results.\n",
      "Setting `pad_token_id` to `eos_token_id`:50256 for open-end generation.\n"
     ]
    },
    {
     "name": "stdout",
     "output_type": "stream",
     "text": [
      "  Batch 15,600  of  23,089. Loss: 0.1820582151412964.   Elapsed: 1:40:14.\n",
      "0: issionsReview: Great game with lots of fun with friends! Recommended\n"
     ]
    },
    {
     "name": "stderr",
     "output_type": "stream",
     "text": [
      "The attention mask and the pad token id were not set. As a consequence, you may observe unexpected behavior. Please pass your input's `attention_mask` to obtain reliable results.\n",
      "Setting `pad_token_id` to `eos_token_id`:50256 for open-end generation.\n"
     ]
    },
    {
     "name": "stdout",
     "output_type": "stream",
     "text": [
      "  Batch 15,700  of  23,089. Loss: 0.3992924690246582.   Elapsed: 1:40:51.\n",
      "0:  SpearReview: I hate this game Not recommended\n"
     ]
    },
    {
     "name": "stderr",
     "output_type": "stream",
     "text": [
      "The attention mask and the pad token id were not set. As a consequence, you may observe unexpected behavior. Please pass your input's `attention_mask` to obtain reliable results.\n",
      "Setting `pad_token_id` to `eos_token_id`:50256 for open-end generation.\n"
     ]
    },
    {
     "name": "stdout",
     "output_type": "stream",
     "text": [
      "  Batch 15,800  of  23,089. Loss: 0.5110650658607483.   Elapsed: 1:41:27.\n",
      "0:  votedReview: Pretty good game for new players and all that being said, I think it's good for everyone, so yeah don't get me wrong I find people that play by far one of the most toxic games I've ever played and they're usually very good at being toxic. Recommended\n"
     ]
    },
    {
     "name": "stderr",
     "output_type": "stream",
     "text": [
      "The attention mask and the pad token id were not set. As a consequence, you may observe unexpected behavior. Please pass your input's `attention_mask` to obtain reliable results.\n",
      "Setting `pad_token_id` to `eos_token_id`:50256 for open-end generation.\n"
     ]
    },
    {
     "name": "stdout",
     "output_type": "stream",
     "text": [
      "  Batch 15,900  of  23,089. Loss: 0.17505887150764465.   Elapsed: 1:42:05.\n",
      "0: leasesReview: it's a really fun game if you have a group of friends and know what you're doing. Recommended\n"
     ]
    },
    {
     "name": "stderr",
     "output_type": "stream",
     "text": [
      "The attention mask and the pad token id were not set. As a consequence, you may observe unexpected behavior. Please pass your input's `attention_mask` to obtain reliable results.\n",
      "Setting `pad_token_id` to `eos_token_id`:50256 for open-end generation.\n"
     ]
    },
    {
     "name": "stdout",
     "output_type": "stream",
     "text": [
      "  Batch 16,000  of  23,089. Loss: 0.21125704050064087.   Elapsed: 1:42:41.\n",
      "0: SquReview: fun game Recommended\n"
     ]
    },
    {
     "name": "stderr",
     "output_type": "stream",
     "text": [
      "The attention mask and the pad token id were not set. As a consequence, you may observe unexpected behavior. Please pass your input's `attention_mask` to obtain reliable results.\n",
      "Setting `pad_token_id` to `eos_token_id`:50256 for open-end generation.\n"
     ]
    },
    {
     "name": "stdout",
     "output_type": "stream",
     "text": [
      "  Batch 16,100  of  23,089. Loss: 0.4806978404521942.   Elapsed: 1:43:18.\n",
      "0:  dysfunctionReview: This game has a lot of potential but at this point the devs just completely ignore this game. The game is riddled with bugs and errors such as:\n",
      "1. Not worth the money. Not recommended\n"
     ]
    },
    {
     "name": "stderr",
     "output_type": "stream",
     "text": [
      "The attention mask and the pad token id were not set. As a consequence, you may observe unexpected behavior. Please pass your input's `attention_mask` to obtain reliable results.\n",
      "Setting `pad_token_id` to `eos_token_id`:50256 for open-end generation.\n"
     ]
    },
    {
     "name": "stdout",
     "output_type": "stream",
     "text": [
      "  Batch 16,200  of  23,089. Loss: 0.2082832306623459.   Elapsed: 1:43:55.\n",
      "0:  paletteReview: This game used to be great for me and I love it, but now i can't stand it anymore, the game is now more broken and the developers are doing nothing to help with it. The new killers have become more and more powerful. I want to play games with the perk for now and im really not sure what killers are doing with this game. In general the survivors only have one perk vs 4 perks, so it's all the same when I find my items used on both sides and no perk is actually useful at all. There has been so much change from what I originally purchased, to what I feel now is it, and its done. Overall its fun, very well written. Not recommended\n"
     ]
    },
    {
     "name": "stderr",
     "output_type": "stream",
     "text": [
      "The attention mask and the pad token id were not set. As a consequence, you may observe unexpected behavior. Please pass your input's `attention_mask` to obtain reliable results.\n",
      "Setting `pad_token_id` to `eos_token_id`:50256 for open-end generation.\n"
     ]
    },
    {
     "name": "stdout",
     "output_type": "stream",
     "text": [
      "  Batch 16,300  of  23,089. Loss: 0.1431451439857483.   Elapsed: 1:44:34.\n",
      "0: incialReview: The game is buggy and so much that no developers keep adding new patches and fixing bugs while creating content with new content and add-ons while making this game worse and worse. Not recommended\n"
     ]
    },
    {
     "name": "stderr",
     "output_type": "stream",
     "text": [
      "The attention mask and the pad token id were not set. As a consequence, you may observe unexpected behavior. Please pass your input's `attention_mask` to obtain reliable results.\n",
      "Setting `pad_token_id` to `eos_token_id`:50256 for open-end generation.\n"
     ]
    },
    {
     "name": "stdout",
     "output_type": "stream",
     "text": [
      "  Batch 16,400  of  23,089. Loss: 0.06330341100692749.   Elapsed: 1:45:11.\n",
      "0:  realiseReview: This game is very good. i have put several hours in it and i have a ton of hours in it just like i am and i do like alot of the killers and there is a ton of variety between the killer, survivor, killers. i like the progression and the perks Recommended\n"
     ]
    },
    {
     "name": "stderr",
     "output_type": "stream",
     "text": [
      "The attention mask and the pad token id were not set. As a consequence, you may observe unexpected behavior. Please pass your input's `attention_mask` to obtain reliable results.\n",
      "Setting `pad_token_id` to `eos_token_id`:50256 for open-end generation.\n"
     ]
    },
    {
     "name": "stdout",
     "output_type": "stream",
     "text": [
      "  Batch 16,500  of  23,089. Loss: 0.2575816214084625.   Elapsed: 1:45:49.\n",
      "0: uiReview: Great game with great community, and some of the killers and survivors have to learn as well to play Recommended\n"
     ]
    },
    {
     "name": "stderr",
     "output_type": "stream",
     "text": [
      "The attention mask and the pad token id were not set. As a consequence, you may observe unexpected behavior. Please pass your input's `attention_mask` to obtain reliable results.\n",
      "Setting `pad_token_id` to `eos_token_id`:50256 for open-end generation.\n"
     ]
    },
    {
     "name": "stdout",
     "output_type": "stream",
     "text": [
      "  Batch 16,600  of  23,089. Loss: 1.955897331237793.   Elapsed: 1:46:25.\n",
      "0:  intendReview: Good. Recommended\n"
     ]
    },
    {
     "name": "stderr",
     "output_type": "stream",
     "text": [
      "The attention mask and the pad token id were not set. As a consequence, you may observe unexpected behavior. Please pass your input's `attention_mask` to obtain reliable results.\n",
      "Setting `pad_token_id` to `eos_token_id`:50256 for open-end generation.\n"
     ]
    },
    {
     "name": "stdout",
     "output_type": "stream",
     "text": [
      "  Batch 16,700  of  23,089. Loss: 0.16235165297985077.   Elapsed: 1:47:02.\n",
      "0:  aliasReview: Great game so far. Recommended\n"
     ]
    },
    {
     "name": "stderr",
     "output_type": "stream",
     "text": [
      "The attention mask and the pad token id were not set. As a consequence, you may observe unexpected behavior. Please pass your input's `attention_mask` to obtain reliable results.\n",
      "Setting `pad_token_id` to `eos_token_id`:50256 for open-end generation.\n"
     ]
    },
    {
     "name": "stdout",
     "output_type": "stream",
     "text": [
      "  Batch 16,800  of  23,089. Loss: 0.017294377088546753.   Elapsed: 1:47:39.\n",
      "0:  assertedReview: Great Game, I find that I would recommend this game for those of you who are prepared to lose the game if you have friends to play with. Recommended\n"
     ]
    },
    {
     "name": "stderr",
     "output_type": "stream",
     "text": [
      "The attention mask and the pad token id were not set. As a consequence, you may observe unexpected behavior. Please pass your input's `attention_mask` to obtain reliable results.\n",
      "Setting `pad_token_id` to `eos_token_id`:50256 for open-end generation.\n"
     ]
    },
    {
     "name": "stdout",
     "output_type": "stream",
     "text": [
      "  Batch 16,900  of  23,089. Loss: 0.010627234354615211.   Elapsed: 1:48:16.\n",
      "0:  budgetsReview: its fun. you like to take the game a bit but for the first time you realize how bad it is and see if they'll make the game better for the better side. Recommended\n"
     ]
    },
    {
     "name": "stderr",
     "output_type": "stream",
     "text": [
      "The attention mask and the pad token id were not set. As a consequence, you may observe unexpected behavior. Please pass your input's `attention_mask` to obtain reliable results.\n",
      "Setting `pad_token_id` to `eos_token_id`:50256 for open-end generation.\n"
     ]
    },
    {
     "name": "stdout",
     "output_type": "stream",
     "text": [
      "  Batch 17,000  of  23,089. Loss: 0.05764927715063095.   Elapsed: 1:48:53.\n",
      "0:  WelshReview: this game is very fucking funny and i love it a lot its all about skill/ranks \n",
      " Not recommended\n"
     ]
    },
    {
     "name": "stderr",
     "output_type": "stream",
     "text": [
      "The attention mask and the pad token id were not set. As a consequence, you may observe unexpected behavior. Please pass your input's `attention_mask` to obtain reliable results.\n",
      "Setting `pad_token_id` to `eos_token_id`:50256 for open-end generation.\n"
     ]
    },
    {
     "name": "stdout",
     "output_type": "stream",
     "text": [
      "  Batch 17,100  of  23,089. Loss: 0.32922640442848206.   Elapsed: 1:49:30.\n",
      "0:  bananaReview: this game is just a toxic piece of shit Not recommended\n"
     ]
    },
    {
     "name": "stderr",
     "output_type": "stream",
     "text": [
      "The attention mask and the pad token id were not set. As a consequence, you may observe unexpected behavior. Please pass your input's `attention_mask` to obtain reliable results.\n",
      "Setting `pad_token_id` to `eos_token_id`:50256 for open-end generation.\n"
     ]
    },
    {
     "name": "stdout",
     "output_type": "stream",
     "text": [
      "  Batch 17,200  of  23,089. Loss: 0.10835495591163635.   Elapsed: 1:50:06.\n",
      "0:  fluidReview: Great game Recommended\n"
     ]
    },
    {
     "name": "stderr",
     "output_type": "stream",
     "text": [
      "The attention mask and the pad token id were not set. As a consequence, you may observe unexpected behavior. Please pass your input's `attention_mask` to obtain reliable results.\n",
      "Setting `pad_token_id` to `eos_token_id`:50256 for open-end generation.\n"
     ]
    },
    {
     "name": "stdout",
     "output_type": "stream",
     "text": [
      "  Batch 17,300  of  23,089. Loss: 0.6757273077964783.   Elapsed: 1:50:43.\n",
      "0:  forceReview: Its a good game. Recommended\n"
     ]
    },
    {
     "name": "stderr",
     "output_type": "stream",
     "text": [
      "The attention mask and the pad token id were not set. As a consequence, you may observe unexpected behavior. Please pass your input's `attention_mask` to obtain reliable results.\n",
      "Setting `pad_token_id` to `eos_token_id`:50256 for open-end generation.\n"
     ]
    },
    {
     "name": "stdout",
     "output_type": "stream",
     "text": [
      "  Batch 17,400  of  23,089. Loss: 0.23178598284721375.   Elapsed: 1:51:20.\n",
      "0:  VersionReview: yes Recommended\n"
     ]
    },
    {
     "name": "stderr",
     "output_type": "stream",
     "text": [
      "The attention mask and the pad token id were not set. As a consequence, you may observe unexpected behavior. Please pass your input's `attention_mask` to obtain reliable results.\n",
      "Setting `pad_token_id` to `eos_token_id`:50256 for open-end generation.\n"
     ]
    },
    {
     "name": "stdout",
     "output_type": "stream",
     "text": [
      "  Batch 17,500  of  23,089. Loss: 0.011205729097127914.   Elapsed: 1:51:56.\n",
      "0: umenReview: its ok Recommended\n"
     ]
    },
    {
     "name": "stderr",
     "output_type": "stream",
     "text": [
      "The attention mask and the pad token id were not set. As a consequence, you may observe unexpected behavior. Please pass your input's `attention_mask` to obtain reliable results.\n",
      "Setting `pad_token_id` to `eos_token_id`:50256 for open-end generation.\n"
     ]
    },
    {
     "name": "stdout",
     "output_type": "stream",
     "text": [
      "  Batch 17,600  of  23,089. Loss: 0.15442165732383728.   Elapsed: 1:52:33.\n",
      "0: itationReview: Fun game to play with friends, if you wanna play solo only. It is easy to learn, easy to master. Playing killer is easier. I'll get some complaints with how some things work and others not, but I'll go on. \n",
      "\n",
      "The game has a good community, but I'd not recommend it to someone else. Recommended\n"
     ]
    },
    {
     "name": "stderr",
     "output_type": "stream",
     "text": [
      "The attention mask and the pad token id were not set. As a consequence, you may observe unexpected behavior. Please pass your input's `attention_mask` to obtain reliable results.\n",
      "Setting `pad_token_id` to `eos_token_id`:50256 for open-end generation.\n"
     ]
    },
    {
     "name": "stdout",
     "output_type": "stream",
     "text": [
      "  Batch 17,700  of  23,089. Loss: 0.1728774905204773.   Elapsed: 1:53:10.\n",
      "0:  tagsReview: If you play this game, the matchmaking is horrendous, and with the new MMR system I guess, you should take that.\n",
      "\n",
      "It seems like some of the other game devs are kinda good...\n",
      "\n",
      "They fixed this problem with rank 20 killers.\n",
      "\n",
      "Oh... so many toxic survivors.\n",
      "\n",
      "I mean if you try to play killer (which is why you are playing against such low rank killers) or play killer (not just some bad players) the matches can be incredibly lopsided as a whole, but if you are going against a good survivor (even if you are going against a bad killer) you get a lot of players as well, so you won't be forced to just play with the \"easy to master\" system, but as killer, you have a lot to learn\n",
      "\n",
      "Also, when you try to run the game with friends, you get a match that makes you a rank 18 killer, rank 20 survivor, and so on\n",
      "\n"
     ]
    },
    {
     "name": "stderr",
     "output_type": "stream",
     "text": [
      "The attention mask and the pad token id were not set. As a consequence, you may observe unexpected behavior. Please pass your input's `attention_mask` to obtain reliable results.\n",
      "Setting `pad_token_id` to `eos_token_id`:50256 for open-end generation.\n"
     ]
    },
    {
     "name": "stdout",
     "output_type": "stream",
     "text": [
      "  Batch 17,800  of  23,089. Loss: 0.3995388448238373.   Elapsed: 1:53:50.\n",
      "0: OFReview: Devs dont fix their broken bug and broken game Not recommended\n"
     ]
    },
    {
     "name": "stderr",
     "output_type": "stream",
     "text": [
      "The attention mask and the pad token id were not set. As a consequence, you may observe unexpected behavior. Please pass your input's `attention_mask` to obtain reliable results.\n",
      "Setting `pad_token_id` to `eos_token_id`:50256 for open-end generation.\n"
     ]
    },
    {
     "name": "stdout",
     "output_type": "stream",
     "text": [
      "  Batch 17,900  of  23,089. Loss: 0.027186982333660126.   Elapsed: 1:54:27.\n",
      "0:  decentralReview: This game has an interesting premise but the gameplay has been ruined by the new map design. \n",
      "My biggest draw is that I do not recommend the game in its current state. I have played it for a while and it has led to the devs getting worse at game balance because they have done so many things that the community does not even feel they can do anything. When the gameplay was balanced it would be a fun game and a well- explained community.\n",
      "\n",
      "The game has become stale and buggy to a degree. And, even though they haven't addressed many of the issues, it will make a worse game. Not recommended\n"
     ]
    },
    {
     "name": "stderr",
     "output_type": "stream",
     "text": [
      "The attention mask and the pad token id were not set. As a consequence, you may observe unexpected behavior. Please pass your input's `attention_mask` to obtain reliable results.\n",
      "Setting `pad_token_id` to `eos_token_id`:50256 for open-end generation.\n"
     ]
    },
    {
     "name": "stdout",
     "output_type": "stream",
     "text": [
      "  Batch 18,000  of  23,089. Loss: 0.2753976881504059.   Elapsed: 1:55:05.\n",
      "0: RunReview: i hate this game Recommended\n"
     ]
    },
    {
     "name": "stderr",
     "output_type": "stream",
     "text": [
      "The attention mask and the pad token id were not set. As a consequence, you may observe unexpected behavior. Please pass your input's `attention_mask` to obtain reliable results.\n",
      "Setting `pad_token_id` to `eos_token_id`:50256 for open-end generation.\n"
     ]
    },
    {
     "name": "stdout",
     "output_type": "stream",
     "text": [
      "  Batch 18,100  of  23,089. Loss: 0.41436266899108887.   Elapsed: 1:55:42.\n",
      "0:  ChengReview: The most unbalanced, and the devs don't even get into playing to do any fun.  Do not buy this shit as it's worth it. Not recommended\n"
     ]
    },
    {
     "name": "stderr",
     "output_type": "stream",
     "text": [
      "The attention mask and the pad token id were not set. As a consequence, you may observe unexpected behavior. Please pass your input's `attention_mask` to obtain reliable results.\n",
      "Setting `pad_token_id` to `eos_token_id`:50256 for open-end generation.\n"
     ]
    },
    {
     "name": "stdout",
     "output_type": "stream",
     "text": [
      "  Batch 18,200  of  23,089. Loss: 0.05456314608454704.   Elapsed: 1:56:19.\n",
      "0: ULReview: Good game, but very boring to start at, but after that you start to get it up once you get into a game. Recommended\n"
     ]
    },
    {
     "name": "stderr",
     "output_type": "stream",
     "text": [
      "The attention mask and the pad token id were not set. As a consequence, you may observe unexpected behavior. Please pass your input's `attention_mask` to obtain reliable results.\n",
      "Setting `pad_token_id` to `eos_token_id`:50256 for open-end generation.\n"
     ]
    },
    {
     "name": "stdout",
     "output_type": "stream",
     "text": [
      "  Batch 18,300  of  23,089. Loss: 0.044265713542699814.   Elapsed: 1:56:56.\n",
      "0:  estateReview: Very fun game if it was easy to learn it, but now it's hard to learn the game, it takes an even longer time with each update and a lot of bugs are not being addressed, especially with the new killer and survivor system. Recommended\n"
     ]
    },
    {
     "name": "stderr",
     "output_type": "stream",
     "text": [
      "The attention mask and the pad token id were not set. As a consequence, you may observe unexpected behavior. Please pass your input's `attention_mask` to obtain reliable results.\n",
      "Setting `pad_token_id` to `eos_token_id`:50256 for open-end generation.\n"
     ]
    },
    {
     "name": "stdout",
     "output_type": "stream",
     "text": [
      "  Batch 18,400  of  23,089. Loss: 0.5686989426612854.   Elapsed: 1:57:33.\n",
      "0:  -Review: This game just started to become toxic Not recommended\n"
     ]
    },
    {
     "name": "stderr",
     "output_type": "stream",
     "text": [
      "The attention mask and the pad token id were not set. As a consequence, you may observe unexpected behavior. Please pass your input's `attention_mask` to obtain reliable results.\n",
      "Setting `pad_token_id` to `eos_token_id`:50256 for open-end generation.\n"
     ]
    },
    {
     "name": "stdout",
     "output_type": "stream",
     "text": [
      "  Batch 18,500  of  23,089. Loss: 0.15131115913391113.   Elapsed: 1:58:10.\n",
      "0:  analogyReview: Really fun game. i love the killers soooooooo much, so much fun that every time i play this one i play survivor and he's good. Recommended\n"
     ]
    },
    {
     "name": "stderr",
     "output_type": "stream",
     "text": [
      "The attention mask and the pad token id were not set. As a consequence, you may observe unexpected behavior. Please pass your input's `attention_mask` to obtain reliable results.\n",
      "Setting `pad_token_id` to `eos_token_id`:50256 for open-end generation.\n"
     ]
    },
    {
     "name": "stdout",
     "output_type": "stream",
     "text": [
      "  Batch 18,600  of  23,089. Loss: 0.07199395447969437.   Elapsed: 1:58:47.\n",
      "0:  MahReview: Very good, if you like pain then this is it. Recommended\n"
     ]
    },
    {
     "name": "stderr",
     "output_type": "stream",
     "text": [
      "The attention mask and the pad token id were not set. As a consequence, you may observe unexpected behavior. Please pass your input's `attention_mask` to obtain reliable results.\n",
      "Setting `pad_token_id` to `eos_token_id`:50256 for open-end generation.\n"
     ]
    },
    {
     "name": "stdout",
     "output_type": "stream",
     "text": [
      "  Batch 18,700  of  23,089. Loss: 1.3930065631866455.   Elapsed: 1:59:24.\n",
      "0: agoReview: Fun. Recommended\n"
     ]
    },
    {
     "name": "stderr",
     "output_type": "stream",
     "text": [
      "The attention mask and the pad token id were not set. As a consequence, you may observe unexpected behavior. Please pass your input's `attention_mask` to obtain reliable results.\n",
      "Setting `pad_token_id` to `eos_token_id`:50256 for open-end generation.\n"
     ]
    },
    {
     "name": "stdout",
     "output_type": "stream",
     "text": [
      "  Batch 18,800  of  23,089. Loss: 0.09319467842578888.   Elapsed: 2:00:00.\n",
      "0:  APIsReview: The game has been in the state its in over 3 years now.\n",
      "\n",
      "If you're new to the game, I recommend you to go into the game and see if you can handle it, this is probably the best one. Recommended\n"
     ]
    },
    {
     "name": "stderr",
     "output_type": "stream",
     "text": [
      "The attention mask and the pad token id were not set. As a consequence, you may observe unexpected behavior. Please pass your input's `attention_mask` to obtain reliable results.\n",
      "Setting `pad_token_id` to `eos_token_id`:50256 for open-end generation.\n"
     ]
    },
    {
     "name": "stdout",
     "output_type": "stream",
     "text": [
      "  Batch 18,900  of  23,089. Loss: 0.040568724274635315.   Elapsed: 2:00:38.\n",
      "0: %.Review: Its good but it has not had the worst community ever Recommended\n"
     ]
    },
    {
     "name": "stderr",
     "output_type": "stream",
     "text": [
      "The attention mask and the pad token id were not set. As a consequence, you may observe unexpected behavior. Please pass your input's `attention_mask` to obtain reliable results.\n",
      "Setting `pad_token_id` to `eos_token_id`:50256 for open-end generation.\n"
     ]
    },
    {
     "name": "stdout",
     "output_type": "stream",
     "text": [
      "  Batch 19,000  of  23,089. Loss: 0.1532975286245346.   Elapsed: 2:01:15.\n",
      "0: oydReview: I think we did a pretty good job so far, if i can not say it is good, it is bad, but that is only with the fact that the game has a nice community for the new killers\n",
      "so i think it has the biggest potential\n",
      "but I can not speak of the fact that this is a great game with many flaws Recommended\n"
     ]
    },
    {
     "name": "stderr",
     "output_type": "stream",
     "text": [
      "The attention mask and the pad token id were not set. As a consequence, you may observe unexpected behavior. Please pass your input's `attention_mask` to obtain reliable results.\n",
      "Setting `pad_token_id` to `eos_token_id`:50256 for open-end generation.\n"
     ]
    },
    {
     "name": "stdout",
     "output_type": "stream",
     "text": [
      "  Batch 19,100  of  23,089. Loss: 0.02070672996342182.   Elapsed: 2:01:52.\n",
      "0: pardReview: The game in itself is alright, but sadly the developers are greedy and out of touch with the community... \n",
      "\n",
      "I'm done with the game. Don't play this game. I'm not having fun, and it's not even fun.\n",
      "\n",
      "If you can't handle the toxicity, it's too late for me to recommend you this to anyone. Not recommended\n"
     ]
    },
    {
     "name": "stderr",
     "output_type": "stream",
     "text": [
      "The attention mask and the pad token id were not set. As a consequence, you may observe unexpected behavior. Please pass your input's `attention_mask` to obtain reliable results.\n",
      "Setting `pad_token_id` to `eos_token_id`:50256 for open-end generation.\n"
     ]
    },
    {
     "name": "stdout",
     "output_type": "stream",
     "text": [
      "  Batch 19,200  of  23,089. Loss: 0.06909703463315964.   Elapsed: 2:02:30.\n",
      "0:  strikeReview:. Not recommended\n"
     ]
    },
    {
     "name": "stderr",
     "output_type": "stream",
     "text": [
      "The attention mask and the pad token id were not set. As a consequence, you may observe unexpected behavior. Please pass your input's `attention_mask` to obtain reliable results.\n",
      "Setting `pad_token_id` to `eos_token_id`:50256 for open-end generation.\n"
     ]
    },
    {
     "name": "stdout",
     "output_type": "stream",
     "text": [
      "  Batch 19,300  of  23,089. Loss: 0.26859593391418457.   Elapsed: 2:03:06.\n",
      "0:  KitReview: I'd love to recommend this game to all of you, I'd wish the developers would fix the ranking system.\n",
      "I will only admit it to myself once I get a little bit of the idea to how to \"get more people out of playing the game\" as I do so.\n",
      "I can't say that it makes it hard to find a game for yourself that you can only do so for over 5 minutes, but it is easy to actually get games and there is only way to play, so be prepared to take that, after about 5-15 minutes it feels like you have some of the strongest perks in the game, as it feels like you feel like you have to grind at all to get the perks you need, not to mention the fact that the game isn't designed to be played to be the top of the game for the killer.\n",
      "The main issues of the game, are the community in which the players aren't friendly to the point where it's\n"
     ]
    },
    {
     "name": "stderr",
     "output_type": "stream",
     "text": [
      "The attention mask and the pad token id were not set. As a consequence, you may observe unexpected behavior. Please pass your input's `attention_mask` to obtain reliable results.\n",
      "Setting `pad_token_id` to `eos_token_id`:50256 for open-end generation.\n"
     ]
    },
    {
     "name": "stdout",
     "output_type": "stream",
     "text": [
      "  Batch 19,400  of  23,089. Loss: 0.10564051568508148.   Elapsed: 2:03:46.\n",
      "0:  immenseReview: One of the best games i have played Recommended\n"
     ]
    },
    {
     "name": "stderr",
     "output_type": "stream",
     "text": [
      "The attention mask and the pad token id were not set. As a consequence, you may observe unexpected behavior. Please pass your input's `attention_mask` to obtain reliable results.\n",
      "Setting `pad_token_id` to `eos_token_id`:50256 for open-end generation.\n"
     ]
    },
    {
     "name": "stdout",
     "output_type": "stream",
     "text": [
      "  Batch 19,500  of  23,089. Loss: 0.3759222626686096.   Elapsed: 2:04:23.\n",
      "0:  ProspectReview: I mean \"why tf do I still enjoy it\"\n",
      "\n",
      "Update: They've added a lot of stuff. I want to say that this new update just does not seem to have been the best update in the game and will never get fixed before. Even if it was all balanced, would have been better would recommend. Not recommended\n"
     ]
    },
    {
     "name": "stderr",
     "output_type": "stream",
     "text": [
      "The attention mask and the pad token id were not set. As a consequence, you may observe unexpected behavior. Please pass your input's `attention_mask` to obtain reliable results.\n",
      "Setting `pad_token_id` to `eos_token_id`:50256 for open-end generation.\n"
     ]
    },
    {
     "name": "stdout",
     "output_type": "stream",
     "text": [
      "  Batch 19,600  of  23,089. Loss: 0.09941748529672623.   Elapsed: 2:05:00.\n",
      "0:  failReview: no Not recommended\n"
     ]
    },
    {
     "name": "stderr",
     "output_type": "stream",
     "text": [
      "The attention mask and the pad token id were not set. As a consequence, you may observe unexpected behavior. Please pass your input's `attention_mask` to obtain reliable results.\n",
      "Setting `pad_token_id` to `eos_token_id`:50256 for open-end generation.\n"
     ]
    },
    {
     "name": "stdout",
     "output_type": "stream",
     "text": [
      "  Batch 19,700  of  23,089. Loss: 0.06502865999937057.   Elapsed: 2:05:37.\n",
      "0:  sortReview: This game really is fun but is plagued by cheaters that have been in the game for YEARS!!!\n",
      "They don't care about balance as well as the new MMR system, which makes it even worse\n",
      "Some characters are so unplayable because of their abilities, the ones who give chase a chance are so OP that it takes a good 15 second animation to get an accurate map, with no add-on for this perk, and that's NOT something to mention, as it is extremely annoying in my opinion that the only games I've ever played that have this perk are games that are filled with hackers that will go through walls and windows in every match and they will go through the windows and pallets to kill you because of the same perks, and so that's the point. \n",
      "Overall the game would have been fun if the community was better. Not recommended\n"
     ]
    },
    {
     "name": "stderr",
     "output_type": "stream",
     "text": [
      "The attention mask and the pad token id were not set. As a consequence, you may observe unexpected behavior. Please pass your input's `attention_mask` to obtain reliable results.\n",
      "Setting `pad_token_id` to `eos_token_id`:50256 for open-end generation.\n"
     ]
    },
    {
     "name": "stdout",
     "output_type": "stream",
     "text": [
      "  Batch 19,800  of  23,089. Loss: 0.7199006080627441.   Elapsed: 2:06:16.\n",
      "0: streetReview: แม่ามมงมนหกบ่ทมวนลปกคหอมอมยวานม่วอมมีนกอชมาำ่ลสฤอนมมสงวมพะ่มน่มำนคก่มมวะภะีวมห่ันลภมะนมืมภนลนพนบิม\n"
     ]
    },
    {
     "name": "stderr",
     "output_type": "stream",
     "text": [
      "The attention mask and the pad token id were not set. As a consequence, you may observe unexpected behavior. Please pass your input's `attention_mask` to obtain reliable results.\n",
      "Setting `pad_token_id` to `eos_token_id`:50256 for open-end generation.\n"
     ]
    },
    {
     "name": "stdout",
     "output_type": "stream",
     "text": [
      "  Batch 19,900  of  23,089. Loss: 0.315490186214447.   Elapsed: 2:06:56.\n",
      "0:  JusticeReview: If you want to love this game, don't buy it because the Devs are clueless in their own games Not recommended\n"
     ]
    },
    {
     "name": "stderr",
     "output_type": "stream",
     "text": [
      "The attention mask and the pad token id were not set. As a consequence, you may observe unexpected behavior. Please pass your input's `attention_mask` to obtain reliable results.\n",
      "Setting `pad_token_id` to `eos_token_id`:50256 for open-end generation.\n"
     ]
    },
    {
     "name": "stdout",
     "output_type": "stream",
     "text": [
      "  Batch 20,000  of  23,089. Loss: 0.4654078185558319.   Elapsed: 2:07:33.\n",
      "0:  BabylonReview: its good Recommended\n"
     ]
    },
    {
     "name": "stderr",
     "output_type": "stream",
     "text": [
      "The attention mask and the pad token id were not set. As a consequence, you may observe unexpected behavior. Please pass your input's `attention_mask` to obtain reliable results.\n",
      "Setting `pad_token_id` to `eos_token_id`:50256 for open-end generation.\n"
     ]
    },
    {
     "name": "stdout",
     "output_type": "stream",
     "text": [
      "  Batch 20,100  of  23,089. Loss: 0.9439429640769958.   Elapsed: 2:08:11.\n",
      "0:  SouReview: This game is complete garbage, the developers have no clue what they're doing and they don't know what they're doing. They just don't know how to balance the game, and when the balance changes are made it just becomes harder for survivors, and when there's a new bug that they just randomly add or take it they're just a bunch of people who spend thousands of dollars to unlock a killer or survivor. Not recommended\n"
     ]
    },
    {
     "name": "stderr",
     "output_type": "stream",
     "text": [
      "The attention mask and the pad token id were not set. As a consequence, you may observe unexpected behavior. Please pass your input's `attention_mask` to obtain reliable results.\n",
      "Setting `pad_token_id` to `eos_token_id`:50256 for open-end generation.\n"
     ]
    },
    {
     "name": "stdout",
     "output_type": "stream",
     "text": [
      "  Batch 20,200  of  23,089. Loss: 0.10040193051099777.   Elapsed: 2:08:50.\n",
      "0:  1980Review:. Recommended\n"
     ]
    },
    {
     "name": "stderr",
     "output_type": "stream",
     "text": [
      "The attention mask and the pad token id were not set. As a consequence, you may observe unexpected behavior. Please pass your input's `attention_mask` to obtain reliable results.\n",
      "Setting `pad_token_id` to `eos_token_id`:50256 for open-end generation.\n"
     ]
    },
    {
     "name": "stdout",
     "output_type": "stream",
     "text": [
      "  Batch 20,300  of  23,089. Loss: 0.11951004713773727.   Elapsed: 2:09:27.\n",
      "0: alityReview: this game sucks Not recommended\n"
     ]
    },
    {
     "name": "stderr",
     "output_type": "stream",
     "text": [
      "The attention mask and the pad token id were not set. As a consequence, you may observe unexpected behavior. Please pass your input's `attention_mask` to obtain reliable results.\n",
      "Setting `pad_token_id` to `eos_token_id`:50256 for open-end generation.\n"
     ]
    },
    {
     "name": "stdout",
     "output_type": "stream",
     "text": [
      "  Batch 20,400  of  23,089. Loss: 1.004616618156433.   Elapsed: 2:10:04.\n",
      "0:  inhibitReview: Good horror experience. Recommended\n"
     ]
    },
    {
     "name": "stderr",
     "output_type": "stream",
     "text": [
      "The attention mask and the pad token id were not set. As a consequence, you may observe unexpected behavior. Please pass your input's `attention_mask` to obtain reliable results.\n",
      "Setting `pad_token_id` to `eos_token_id`:50256 for open-end generation.\n"
     ]
    },
    {
     "name": "stdout",
     "output_type": "stream",
     "text": [
      "  Batch 20,500  of  23,089. Loss: 0.0859440341591835.   Elapsed: 2:10:42.\n",
      "0:  MARReview: Good job so far... Not recommended\n"
     ]
    },
    {
     "name": "stderr",
     "output_type": "stream",
     "text": [
      "The attention mask and the pad token id were not set. As a consequence, you may observe unexpected behavior. Please pass your input's `attention_mask` to obtain reliable results.\n",
      "Setting `pad_token_id` to `eos_token_id`:50256 for open-end generation.\n"
     ]
    },
    {
     "name": "stdout",
     "output_type": "stream",
     "text": [
      "  Batch 20,600  of  23,089. Loss: 0.11241230368614197.   Elapsed: 2:11:21.\n",
      "0: isseReview: no Not recommended\n"
     ]
    },
    {
     "name": "stderr",
     "output_type": "stream",
     "text": [
      "The attention mask and the pad token id were not set. As a consequence, you may observe unexpected behavior. Please pass your input's `attention_mask` to obtain reliable results.\n",
      "Setting `pad_token_id` to `eos_token_id`:50256 for open-end generation.\n"
     ]
    },
    {
     "name": "stdout",
     "output_type": "stream",
     "text": [
      "  Batch 20,700  of  23,089. Loss: 0.11282315850257874.   Elapsed: 2:11:59.\n",
      "0:  RMReview: nice game :) Recommended\n"
     ]
    },
    {
     "name": "stderr",
     "output_type": "stream",
     "text": [
      "The attention mask and the pad token id were not set. As a consequence, you may observe unexpected behavior. Please pass your input's `attention_mask` to obtain reliable results.\n",
      "Setting `pad_token_id` to `eos_token_id`:50256 for open-end generation.\n"
     ]
    },
    {
     "name": "stdout",
     "output_type": "stream",
     "text": [
      "  Batch 20,800  of  23,089. Loss: 0.46320387721061707.   Elapsed: 2:12:37.\n",
      "0:  incapReview: Dead by Daylight is one of my favourite games. I get my blood pumping from playing it, and the survivors get even more. They've tried to have this game so many times, and I'm never a fan. I enjoy it, but I wouldn't recommend it if I had one friend to play it with. The community is like a toxic relationship that doesn't help you, and it keeps getting worse and worse over time. Not recommended\n"
     ]
    },
    {
     "name": "stderr",
     "output_type": "stream",
     "text": [
      "The attention mask and the pad token id were not set. As a consequence, you may observe unexpected behavior. Please pass your input's `attention_mask` to obtain reliable results.\n",
      "Setting `pad_token_id` to `eos_token_id`:50256 for open-end generation.\n"
     ]
    },
    {
     "name": "stdout",
     "output_type": "stream",
     "text": [
      "  Batch 20,900  of  23,089. Loss: 0.18429340422153473.   Elapsed: 2:13:17.\n",
      "0:  securingReview: I love this game.\n",
      "I hate the idea of being a survivor, and killing my survivors and trying to help each other, but the game itself is amazing.\n",
      "The graphics are awesome, the atmosphere is always a little bit fun, and it really gets the heart pumping when the killer is killing a survivor.\n",
      "I also like some of the music on the maps, and the idea of the game is awesome.\n",
      "I also love the game's content, it's always interesting to play when playing.\n",
      "Overall it's a fun game if you don't get bored of the fact that you are playing as a killer, and there are lots of players, and if you hate your life and playing with friends its good to play. Recommended\n"
     ]
    },
    {
     "name": "stderr",
     "output_type": "stream",
     "text": [
      "The attention mask and the pad token id were not set. As a consequence, you may observe unexpected behavior. Please pass your input's `attention_mask` to obtain reliable results.\n",
      "Setting `pad_token_id` to `eos_token_id`:50256 for open-end generation.\n"
     ]
    },
    {
     "name": "stdout",
     "output_type": "stream",
     "text": [
      "  Batch 21,000  of  23,089. Loss: 0.022572675719857216.   Elapsed: 2:13:56.\n",
      "0: aurusReview: I like the game a lot but I find this game hard for me if I'm playing with someone in my rank. Not recommended\n"
     ]
    },
    {
     "name": "stderr",
     "output_type": "stream",
     "text": [
      "The attention mask and the pad token id were not set. As a consequence, you may observe unexpected behavior. Please pass your input's `attention_mask` to obtain reliable results.\n",
      "Setting `pad_token_id` to `eos_token_id`:50256 for open-end generation.\n"
     ]
    },
    {
     "name": "stdout",
     "output_type": "stream",
     "text": [
      "  Batch 21,100  of  23,089. Loss: 0.10049369931221008.   Elapsed: 2:14:34.\n",
      "0: 75Review: this game is not worth buying the game, it is just to grind and unplayable. if you want to win like me, dont buy it Not recommended\n"
     ]
    },
    {
     "name": "stderr",
     "output_type": "stream",
     "text": [
      "The attention mask and the pad token id were not set. As a consequence, you may observe unexpected behavior. Please pass your input's `attention_mask` to obtain reliable results.\n",
      "Setting `pad_token_id` to `eos_token_id`:50256 for open-end generation.\n"
     ]
    },
    {
     "name": "stdout",
     "output_type": "stream",
     "text": [
      "  Batch 21,200  of  23,089. Loss: 0.8857837915420532.   Elapsed: 2:15:12.\n",
      "0:  decReview: I don't recomend this game to new players. The game has a lot of bug in it, even though I like it with my friends. The community at times are toxic, and the game will have you with tons of fun and have alot of fun. Recommended\n"
     ]
    },
    {
     "name": "stderr",
     "output_type": "stream",
     "text": [
      "The attention mask and the pad token id were not set. As a consequence, you may observe unexpected behavior. Please pass your input's `attention_mask` to obtain reliable results.\n",
      "Setting `pad_token_id` to `eos_token_id`:50256 for open-end generation.\n"
     ]
    },
    {
     "name": "stdout",
     "output_type": "stream",
     "text": [
      "  Batch 21,300  of  23,089. Loss: 0.024053379893302917.   Elapsed: 2:15:50.\n",
      "0:  acquReview: Game sucks dick, not recommended\n"
     ]
    },
    {
     "name": "stderr",
     "output_type": "stream",
     "text": [
      "The attention mask and the pad token id were not set. As a consequence, you may observe unexpected behavior. Please pass your input's `attention_mask` to obtain reliable results.\n",
      "Setting `pad_token_id` to `eos_token_id`:50256 for open-end generation.\n"
     ]
    },
    {
     "name": "stdout",
     "output_type": "stream",
     "text": [
      "  Batch 21,400  of  23,089. Loss: 0.25160956382751465.   Elapsed: 2:16:28.\n",
      "0: opezReview: This game is one of my favorite games, it's hard to get into because it takes a lot of time to get in, you'll be constantly matched with a group of 5 people who have hundreds or thousands of hours and have no idea how to play well or not, and you'll have lots of fun. I really appreciate all of the different ways you can play and the different ways you can play. It's just sad to see it get any better and you'll regret it all the time. If you've ever had an issue with matchmaking, it is your fault you don't have to wait for an hour for a game, you'll have people get matched with so much higher and higher ranks that they will actually have fun. I think we should keep the system up, so you can learn how to play better. The issue is the constant bug-making. The developers are also pretty incompetent at their game and the lack of good devs keep pushing out more and more\n"
     ]
    },
    {
     "name": "stderr",
     "output_type": "stream",
     "text": [
      "The attention mask and the pad token id were not set. As a consequence, you may observe unexpected behavior. Please pass your input's `attention_mask` to obtain reliable results.\n",
      "Setting `pad_token_id` to `eos_token_id`:50256 for open-end generation.\n"
     ]
    },
    {
     "name": "stdout",
     "output_type": "stream",
     "text": [
      "  Batch 21,500  of  23,089. Loss: 0.0479588583111763.   Elapsed: 2:17:08.\n",
      "0:  admReview: this game sucks its a mess. i love it i love it i love it i love it i love it i love it i love it i love it i hate it i hate it i hate it i hate it i hate it i hate it i hate it i hate it i hate it i hate it i hate it i hate it i hate it i hate it i hate it i hate it i hate it i hate it i hate it i hate it i hate it i hate it i hate it i hate it i hate it i hate it i hate it i hate it i hate it i hate it i hate it i hate it i hate it i hate it i hate it i hate it i hate it i hate it i hate it i hate it i hate it i hate it i hate it i hate it i hate it i hate it i hate it i hate it i hate it i hate it i hate it i hate it i hate it i hate it i hate it i\n"
     ]
    },
    {
     "name": "stderr",
     "output_type": "stream",
     "text": [
      "The attention mask and the pad token id were not set. As a consequence, you may observe unexpected behavior. Please pass your input's `attention_mask` to obtain reliable results.\n",
      "Setting `pad_token_id` to `eos_token_id`:50256 for open-end generation.\n"
     ]
    },
    {
     "name": "stdout",
     "output_type": "stream",
     "text": [
      "  Batch 21,600  of  23,089. Loss: 0.18526290357112885.   Elapsed: 2:17:48.\n",
      "0:  comprisedReview: This game is very survivor oriented and requires a very long time investment to get good perks and offerings at every level. A killer main is hard to see as a solo survivor.\n",
      "\n",
      "They put some content out for this game that they are not working on and instead just releasing killers that are overpriced to pay full price with little to no end up making you better at the game. And the more time it takes to get into a game a couple of hours of the community has no purpose of sticking the game to be balanced. This game is a must buy.\n",
      "\n",
      "There is a small handful of issues with this game. In the recent updates that the game had some changes to the balance, they came very hard and not only they've had balance changes, they actually made it easier to run the game in the lower ranks, but they also made the game more fun for both sides. In the last weeks that have come out, it has been impossible to be competitive in solo\n"
     ]
    },
    {
     "name": "stderr",
     "output_type": "stream",
     "text": [
      "The attention mask and the pad token id were not set. As a consequence, you may observe unexpected behavior. Please pass your input's `attention_mask` to obtain reliable results.\n",
      "Setting `pad_token_id` to `eos_token_id`:50256 for open-end generation.\n"
     ]
    },
    {
     "name": "stdout",
     "output_type": "stream",
     "text": [
      "  Batch 21,700  of  23,089. Loss: 0.0842437744140625.   Elapsed: 2:18:28.\n",
      "0: PoolReview: yes Recommended\n"
     ]
    },
    {
     "name": "stderr",
     "output_type": "stream",
     "text": [
      "The attention mask and the pad token id were not set. As a consequence, you may observe unexpected behavior. Please pass your input's `attention_mask` to obtain reliable results.\n",
      "Setting `pad_token_id` to `eos_token_id`:50256 for open-end generation.\n"
     ]
    },
    {
     "name": "stdout",
     "output_type": "stream",
     "text": [
      "  Batch 21,800  of  23,089. Loss: 0.020086469128727913.   Elapsed: 2:19:07.\n",
      "0:  lemonReview: So if you want to spend so much time to fix a gen while you just watch it end, then give it a try! Recommended\n"
     ]
    },
    {
     "name": "stderr",
     "output_type": "stream",
     "text": [
      "The attention mask and the pad token id were not set. As a consequence, you may observe unexpected behavior. Please pass your input's `attention_mask` to obtain reliable results.\n",
      "Setting `pad_token_id` to `eos_token_id`:50256 for open-end generation.\n"
     ]
    },
    {
     "name": "stdout",
     "output_type": "stream",
     "text": [
      "  Batch 21,900  of  23,089. Loss: 0.37256765365600586.   Elapsed: 2:19:45.\n",
      "0:  storiesReview: The game could be a lot better with all the dlc's, but now its getting harder and harder to win. Not recommended\n"
     ]
    },
    {
     "name": "stderr",
     "output_type": "stream",
     "text": [
      "The attention mask and the pad token id were not set. As a consequence, you may observe unexpected behavior. Please pass your input's `attention_mask` to obtain reliable results.\n",
      "Setting `pad_token_id` to `eos_token_id`:50256 for open-end generation.\n"
     ]
    },
    {
     "name": "stdout",
     "output_type": "stream",
     "text": [
      "  Batch 22,000  of  23,089. Loss: 0.10650254786014557.   Elapsed: 2:20:24.\n",
      "0:  RsReview: This game is fun... But... I can’t say it is worth the buy and if you don’t have the money and money. There are so many things that I don’t know the answer to and I see some pros and cons with the game that will get you started as killer. In my opinion, this game is a fun game, but it is so broken and it can be fun at times. I wish the dev team would just focus more on making a better game for this game and keep it out! Not recommended\n"
     ]
    },
    {
     "name": "stderr",
     "output_type": "stream",
     "text": [
      "The attention mask and the pad token id were not set. As a consequence, you may observe unexpected behavior. Please pass your input's `attention_mask` to obtain reliable results.\n",
      "Setting `pad_token_id` to `eos_token_id`:50256 for open-end generation.\n"
     ]
    },
    {
     "name": "stdout",
     "output_type": "stream",
     "text": [
      "  Batch 22,100  of  23,089. Loss: 0.04220888391137123.   Elapsed: 2:21:07.\n",
      "0:  NewsReview: I'm not sure how to get better at the game, but here's the first. I've put in 100 hrs that was a new killer every day...but they can make a lot of them stronger than others. What is the point of all a game? That means you'll have to worry much about the problems!\n",
      "I have to make a short answer, which may sound like I'm just bad at the game, as it can be. I can't actually say it's what I think of the game. I play it with my friends and we enjoy it a lot, but I'm not sure. I've watched survivors and killers alike stream their gameplay on twitch for the rest of the game, and it's only to say that the game is not as good as it was when I first played. If you're an experienced gamer on console, it is, for some reason, unbalanced at times. The killer and survivor have the chance to have a good advantage\n"
     ]
    },
    {
     "name": "stderr",
     "output_type": "stream",
     "text": [
      "The attention mask and the pad token id were not set. As a consequence, you may observe unexpected behavior. Please pass your input's `attention_mask` to obtain reliable results.\n",
      "Setting `pad_token_id` to `eos_token_id`:50256 for open-end generation.\n"
     ]
    },
    {
     "name": "stdout",
     "output_type": "stream",
     "text": [
      "  Batch 22,200  of  23,089. Loss: 0.03704168274998665.   Elapsed: 2:21:51.\n",
      "0:  capitalismReview: Great game, always try to scare them, if your a masochist Recommended\n"
     ]
    },
    {
     "name": "stderr",
     "output_type": "stream",
     "text": [
      "The attention mask and the pad token id were not set. As a consequence, you may observe unexpected behavior. Please pass your input's `attention_mask` to obtain reliable results.\n",
      "Setting `pad_token_id` to `eos_token_id`:50256 for open-end generation.\n"
     ]
    },
    {
     "name": "stdout",
     "output_type": "stream",
     "text": [
      "  Batch 22,300  of  23,089. Loss: 0.1977056860923767.   Elapsed: 2:22:29.\n",
      "0:  strengthenedReview: This game sucks Not recommended\n"
     ]
    },
    {
     "name": "stderr",
     "output_type": "stream",
     "text": [
      "The attention mask and the pad token id were not set. As a consequence, you may observe unexpected behavior. Please pass your input's `attention_mask` to obtain reliable results.\n",
      "Setting `pad_token_id` to `eos_token_id`:50256 for open-end generation.\n"
     ]
    },
    {
     "name": "stdout",
     "output_type": "stream",
     "text": [
      "  Batch 22,400  of  23,089. Loss: 0.5972750186920166.   Elapsed: 2:23:07.\n",
      "0: changeReview: Just as bad for the game as the people that play it.\n",
      "The devs have yet to fix the game like they said before, and now release more and more DLC to buy than fix the game.\n",
      "\n",
      "Everytime we play, we lose the point.\n",
      "For the killers? What they bring? They nerf the killers a lot of the time.\n",
      "They nerf all of the killers without nerfing killers or buffing them to hell, so now they can get you killed in the game.\n",
      "I have played DBD a lot, but I cannot recommend it to anyone. Not recommended\n"
     ]
    },
    {
     "name": "stderr",
     "output_type": "stream",
     "text": [
      "The attention mask and the pad token id were not set. As a consequence, you may observe unexpected behavior. Please pass your input's `attention_mask` to obtain reliable results.\n",
      "Setting `pad_token_id` to `eos_token_id`:50256 for open-end generation.\n"
     ]
    },
    {
     "name": "stdout",
     "output_type": "stream",
     "text": [
      "  Batch 22,500  of  23,089. Loss: 0.07842054963111877.   Elapsed: 2:23:46.\n",
      "0:  explReview: it is the only game i play that is actually fun. its almost like friday the 13th Not recommended\n"
     ]
    },
    {
     "name": "stderr",
     "output_type": "stream",
     "text": [
      "The attention mask and the pad token id were not set. As a consequence, you may observe unexpected behavior. Please pass your input's `attention_mask` to obtain reliable results.\n",
      "Setting `pad_token_id` to `eos_token_id`:50256 for open-end generation.\n"
     ]
    },
    {
     "name": "stdout",
     "output_type": "stream",
     "text": [
      "  Batch 22,600  of  23,089. Loss: 0.06435494124889374.   Elapsed: 2:24:24.\n",
      "0: spokenReview: Good game for a game that has made me quit the game. Recommended\n"
     ]
    },
    {
     "name": "stderr",
     "output_type": "stream",
     "text": [
      "The attention mask and the pad token id were not set. As a consequence, you may observe unexpected behavior. Please pass your input's `attention_mask` to obtain reliable results.\n",
      "Setting `pad_token_id` to `eos_token_id`:50256 for open-end generation.\n"
     ]
    },
    {
     "name": "stdout",
     "output_type": "stream",
     "text": [
      "  Batch 22,700  of  23,089. Loss: 0.033839646726846695.   Elapsed: 2:25:04.\n",
      "0: ovReview: This game is like smoking a little sugar. Recommended\n"
     ]
    },
    {
     "name": "stderr",
     "output_type": "stream",
     "text": [
      "The attention mask and the pad token id were not set. As a consequence, you may observe unexpected behavior. Please pass your input's `attention_mask` to obtain reliable results.\n",
      "Setting `pad_token_id` to `eos_token_id`:50256 for open-end generation.\n"
     ]
    },
    {
     "name": "stdout",
     "output_type": "stream",
     "text": [
      "  Batch 22,800  of  23,089. Loss: 0.10989409685134888.   Elapsed: 2:25:42.\n",
      "0: ensityReview: i hate this game Not recommended\n"
     ]
    },
    {
     "name": "stderr",
     "output_type": "stream",
     "text": [
      "The attention mask and the pad token id were not set. As a consequence, you may observe unexpected behavior. Please pass your input's `attention_mask` to obtain reliable results.\n",
      "Setting `pad_token_id` to `eos_token_id`:50256 for open-end generation.\n"
     ]
    },
    {
     "name": "stdout",
     "output_type": "stream",
     "text": [
      "  Batch 22,900  of  23,089. Loss: 0.010547954589128494.   Elapsed: 2:26:22.\n",
      "0:  EnterReview: I'm not sure what to expect from this game, but I like that the games you play are good, especially with friends.\n",
      "\n",
      "So the way the community turns this community out to be is very toxic.\n",
      "\n",
      "Do you have a better idea of a game that I play?\n",
      "Do you really like the gameplay?\n",
      "Do you love horror games where you are literally trying to survive against an unstoppable killer?\n",
      "Do you like asymmetrical multiplayer games where you play survivor?\n",
      "Do you like getting chased around by the killer?\n",
      "Do you like finding yourself stuck in a circle of grass?\n",
      "Do you like hunting people?\n",
      "Do you like that a player can be your enemy?\n",
      "Do you like a game that forces you to play against them in the manner of stealth/stunned perks?\n",
      "Do you like that being chased and feeling your power over the killer?\n",
      "Do you like running around for your life?\n",
      "Do you like that feeling?\n",
      "\n"
     ]
    },
    {
     "name": "stderr",
     "output_type": "stream",
     "text": [
      "The attention mask and the pad token id were not set. As a consequence, you may observe unexpected behavior. Please pass your input's `attention_mask` to obtain reliable results.\n",
      "Setting `pad_token_id` to `eos_token_id`:50256 for open-end generation.\n"
     ]
    },
    {
     "name": "stdout",
     "output_type": "stream",
     "text": [
      "  Batch 23,000  of  23,089. Loss: 0.4988093674182892.   Elapsed: 2:27:04.\n",
      "0: urenReview: Love Recommended\n",
      "\n",
      "  Average training loss: 0.37\n",
      "  Training epoch took: 2:27:38\n",
      "\n",
      "Running Validation...\n",
      "  Validation Loss: 0.21\n",
      "  Validation took: 0:24:18\n",
      "\n",
      "Training complete!\n",
      "Total training took 2:51:56 (h:mm:ss)\n"
     ]
    }
   ],
   "source": [
    "total_t0 = time.time()\n",
    "\n",
    "training_stats = []\n",
    "\n",
    "model = model.to(device)\n",
    "\n",
    "for epoch_i in range(0, epochs):\n",
    "\n",
    "    # ========================================\n",
    "    #               Training\n",
    "    # ========================================\n",
    "\n",
    "    print(\"\")\n",
    "    print('======== Epoch {:} / {:} ========'.format(epoch_i + 1, epochs))\n",
    "    print('Training...')\n",
    "\n",
    "    t0 = time.time()\n",
    "\n",
    "    total_train_loss = 0\n",
    "\n",
    "    model.train()\n",
    "\n",
    "    for step, batch in enumerate(train_dataloader):\n",
    "\n",
    "        b_input_ids = batch[0].to(device)\n",
    "        b_labels = batch[0].to(device)\n",
    "        b_masks = batch[1].to(device)\n",
    "\n",
    "        model.zero_grad()        \n",
    "\n",
    "        outputs = model(  b_input_ids,\n",
    "                          labels=b_labels, \n",
    "                          attention_mask = b_masks,\n",
    "                          token_type_ids=None\n",
    "                        )\n",
    "\n",
    "        loss = outputs[0]  \n",
    "\n",
    "        batch_loss = loss.item()\n",
    "        total_train_loss += batch_loss\n",
    "\n",
    "        # Get sample every x batches.\n",
    "        if step % sample_every == 0 and not step == 0:\n",
    "\n",
    "            elapsed = format_time(time.time() - t0)\n",
    "            print('  Batch {:>5,}  of  {:>5,}. Loss: {:>5,}.   Elapsed: {:}.'.format(step, len(train_dataloader), batch_loss, elapsed))\n",
    "\n",
    "            model.eval()\n",
    "\n",
    "            sample_outputs = model.generate(\n",
    "                                    bos_token_id=random.randint(1,30000),\n",
    "                                    do_sample=True,   \n",
    "                                    top_k=50, \n",
    "                                    max_length = 200,\n",
    "                                    top_p=0.95, \n",
    "                                    num_return_sequences=1\n",
    "                                )\n",
    "            for i, sample_output in enumerate(sample_outputs):\n",
    "                  print(\"{}: {}\".format(i, tokenizer.decode(sample_output, skip_special_tokens=True)))\n",
    "            \n",
    "            model.train()\n",
    "\n",
    "        loss.backward()\n",
    "\n",
    "        optimizer.step()\n",
    "\n",
    "        scheduler.step()\n",
    "\n",
    "    # Calculate the average loss over all of the batches.\n",
    "    avg_train_loss = total_train_loss / len(train_dataloader)       \n",
    "    \n",
    "    # Measure how long this epoch took.\n",
    "    training_time = format_time(time.time() - t0)\n",
    "\n",
    "    print(\"\")\n",
    "    print(\"  Average training loss: {0:.2f}\".format(avg_train_loss))\n",
    "    print(\"  Training epoch took: {:}\".format(training_time))\n",
    "        \n",
    "    # ========================================\n",
    "    #               Validation\n",
    "    # ========================================\n",
    "\n",
    "    print(\"\")\n",
    "    print(\"Running Validation...\")\n",
    "\n",
    "    t0 = time.time()\n",
    "\n",
    "    model.eval()\n",
    "\n",
    "    total_eval_loss = 0\n",
    "    nb_eval_steps = 0\n",
    "\n",
    "    # Evaluate data for one epoch\n",
    "    for batch in validation_dataloader:\n",
    "        \n",
    "        b_input_ids = batch[0].to(device)\n",
    "        b_labels = batch[0].to(device)\n",
    "        b_masks = batch[1].to(device)\n",
    "        \n",
    "        with torch.no_grad():        \n",
    "\n",
    "            outputs  = model(b_input_ids, \n",
    "#                            token_type_ids=None, \n",
    "                             attention_mask = b_masks,\n",
    "                            labels=b_labels)\n",
    "          \n",
    "            loss = outputs[0]  \n",
    "            \n",
    "        batch_loss = loss.item()\n",
    "        total_eval_loss += batch_loss        \n",
    "\n",
    "    avg_val_loss = total_eval_loss / len(validation_dataloader)\n",
    "    \n",
    "    validation_time = format_time(time.time() - t0)    \n",
    "\n",
    "    print(\"  Validation Loss: {0:.2f}\".format(avg_val_loss))\n",
    "    print(\"  Validation took: {:}\".format(validation_time))\n",
    "\n",
    "    # Record all statistics from this epoch.\n",
    "    training_stats.append(\n",
    "        {\n",
    "            'epoch': epoch_i + 1,\n",
    "            'Training Loss': avg_train_loss,\n",
    "            'Valid. Loss': avg_val_loss,\n",
    "            'Training Time': training_time,\n",
    "            'Validation Time': validation_time\n",
    "        }\n",
    "    )\n",
    "\n",
    "print(\"\")\n",
    "print(\"Training complete!\")\n",
    "print(\"Total training took {:} (h:mm:ss)\".format(format_time(time.time()-total_t0)))"
   ]
  },
  {
   "cell_type": "code",
   "execution_count": 32,
   "metadata": {},
   "outputs": [],
   "source": [
    "# Save the model\n",
    "torch.save(model.state_dict(), 'models/gpt2_1epoch.pt')"
   ]
  },
  {
   "cell_type": "code",
   "execution_count": 8,
   "metadata": {},
   "outputs": [],
   "source": [
    "# Load the model\n",
    "\n",
    "configuration = GPT2Config.from_pretrained('gpt2', output_hidden_states=False)\n",
    "model = GPT2LMHeadModel.from_pretrained(\"gpt2\", config=configuration)\n",
    "model.resize_token_embeddings(len(tokenizer))\n",
    "model.load_state_dict(torch.load('models/gpt2_1epoch.pt'))\n",
    "\n",
    "# Set model to gpu\n",
    "\n",
    "model = model.to(device)"
   ]
  },
  {
   "cell_type": "code",
   "execution_count": 10,
   "metadata": {},
   "outputs": [
    {
     "name": "stderr",
     "output_type": "stream",
     "text": [
      "The attention mask and the pad token id were not set. As a consequence, you may observe unexpected behavior. Please pass your input's `attention_mask` to obtain reliable results.\n",
      "Setting `pad_token_id` to `eos_token_id`:50256 for open-end generation.\n"
     ]
    },
    {
     "name": "stdout",
     "output_type": "stream",
     "text": [
      "tensor([[50257]], device='cuda:0')\n",
      "0: Review: Great game, especially the killer. But they can make it super difficult at times. Recommended\n",
      "\n",
      "\n",
      "1: Review: Pretty good job so far Recommended\n",
      "\n",
      "\n",
      "2: Review: This game is so bad for survivors that I can't join game. There's so many bugs and glitches. The game doesn't work at all.\n",
      "If you're looking for an even remotely enjoyable experience, I really think the game is for you. Not recommended\n",
      "\n",
      "\n"
     ]
    }
   ],
   "source": [
    "# Generate text from the tuned model\n",
    "\n",
    "model.eval()\n",
    "\n",
    "prompt = \"<|startoftext|>\"\n",
    "\n",
    "generated = torch.tensor(tokenizer.encode(prompt)).unsqueeze(0)\n",
    "generated = generated.to(device)\n",
    "\n",
    "print(generated)\n",
    "\n",
    "sample_outputs = model.generate(\n",
    "                                generated, \n",
    "                                bos_token_id=random.randint(1,30000),\n",
    "                                do_sample=True,   \n",
    "                                top_k=50, \n",
    "                                max_length = 300,\n",
    "                                top_p=0.95, \n",
    "                                num_return_sequences=3\n",
    "                                )\n",
    "\n",
    "for i, sample_output in enumerate(sample_outputs):\n",
    "  print(\"{}: {}\\n\\n\".format(i, tokenizer.decode(sample_output, skip_special_tokens=True)))"
   ]
  }
 ],
 "metadata": {
  "kernelspec": {
   "display_name": "tf_2.10",
   "language": "python",
   "name": "python3"
  },
  "language_info": {
   "codemirror_mode": {
    "name": "ipython",
    "version": 3
   },
   "file_extension": ".py",
   "mimetype": "text/x-python",
   "name": "python",
   "nbconvert_exporter": "python",
   "pygments_lexer": "ipython3",
   "version": "3.10.0"
  },
  "orig_nbformat": 4
 },
 "nbformat": 4,
 "nbformat_minor": 2
}
