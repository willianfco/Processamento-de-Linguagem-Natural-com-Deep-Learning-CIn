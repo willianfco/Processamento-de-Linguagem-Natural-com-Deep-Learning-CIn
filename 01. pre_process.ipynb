{
 "cells": [
  {
   "cell_type": "code",
   "execution_count": 1,
   "metadata": {},
   "outputs": [],
   "source": [
    "# Study: Natural Language Processing with Deep Learning\n",
    "# Dataset: Dead By Daylight Steam Reviews\n",
    "# Author: Willian Oliveira and Julierme Silva\n",
    "# Start: 09/04/2023\n",
    "# Study Motivation: Train a machine to classify products based on user reviews\n",
    "# Notebook Motivation: The purpose of this notebook is to perform data cleaning and pre-processing on Dead By Daylight game reviews collected from the Steam platform.\n",
    "# Study Status: In Progress"
   ]
  },
  {
   "cell_type": "code",
   "execution_count": 2,
   "metadata": {},
   "outputs": [
    {
     "name": "stderr",
     "output_type": "stream",
     "text": [
      "[nltk_data] Downloading package stopwords to\n",
      "[nltk_data]     C:\\Users\\willi\\AppData\\Roaming\\nltk_data...\n",
      "[nltk_data]   Package stopwords is already up-to-date!\n",
      "[nltk_data] Downloading package wordnet to\n",
      "[nltk_data]     C:\\Users\\willi\\AppData\\Roaming\\nltk_data...\n",
      "[nltk_data]   Package wordnet is already up-to-date!\n"
     ]
    }
   ],
   "source": [
    "# Importing libraries and setting up the environment\n",
    "\n",
    "import pandas as pd\n",
    "import numpy as np\n",
    "import os\n",
    "import random\n",
    "import re\n",
    "import nltk\n",
    "from sklearn.model_selection import train_test_split\n",
    "from nltk.corpus import stopwords\n",
    "from nltk.stem import WordNetLemmatizer\n",
    "from gensim.models import Word2Vec\n",
    "from IPython.display import Markdown, display\n",
    "\n",
    "nltk.download('stopwords')\n",
    "nltk.download('wordnet')\n",
    "\n",
    "SEED = 0\n",
    "\n",
    "def set_seeds(seed=SEED):\n",
    "    os.environ['PYTHONHASHSEED'] = str(seed)\n",
    "    random.seed(seed)\n",
    "    np.random.seed(seed)\n",
    "\n",
    "set_seeds() # Setting seed for reproducible code"
   ]
  },
  {
   "cell_type": "code",
   "execution_count": 3,
   "metadata": {},
   "outputs": [],
   "source": [
    "# Creating useful functions for this notebook\n",
    "\n",
    "def preprocess_review(review):\n",
    "    \"\"\"\n",
    "    This function takes a raw review text as input and performs the following preprocessing steps:\n",
    "    1. Remove special characters and lowercase the text\n",
    "    2. Tokenize the text\n",
    "    3. Remove stopwords\n",
    "    4. Lemmatize the words\n",
    "    5. Reunite the words back to string\n",
    "    \n",
    "    :param review: str\n",
    "    :return: clean_review: str\n",
    "    \"\"\"\n",
    "    review = re.sub('[^a-zA-Z]', ' ', review).lower()\n",
    "    words = nltk.word_tokenize(review)\n",
    "    stopwords_list = set(stopwords.words('english'))\n",
    "    words = [word for word in words if word not in stopwords_list]\n",
    "    lemmatizer = WordNetLemmatizer()\n",
    "    words = [lemmatizer.lemmatize(word) for word in words]\n",
    "    clean_review = ' '.join(words)\n",
    "\n",
    "    return clean_review\n",
    "\n",
    "def display_missing_values(df):\n",
    "    \"\"\"\n",
    "    This function calculates the percentage of missing values in each column of a\n",
    "    Pandas DataFrame and displays the results in descending order. \n",
    "\n",
    "    :return: None\n",
    "    \"\"\"\n",
    "\n",
    "    missing_values = df.isnull().sum() / len(df) * 100\n",
    "    missing_values = missing_values.sort_values(ascending=False)\n",
    "    missing_values.rename(\"% Missing Values\", inplace=True)\n",
    "    display(Markdown(missing_values.to_markdown()))\n",
    "    del missing_values\n",
    "\n",
    "def unique_values_table(df, uv=3):\n",
    "    \"\"\"\n",
    "    Print a markdown table\n",
    "    with the col, the number of unique values and the unique values \n",
    "    list if there are less than 3 unique values (uv) by defalt.\n",
    "\n",
    "    :param uv: int\n",
    "    :return: None\n",
    "    \"\"\"\n",
    "    from IPython.display import display, Markdown\n",
    "    md_table_str = '|Column Name|Unique Values||\\n|---|---|---|\\n'\n",
    "    for col_name, unique_values in df.nunique().items():\n",
    "        if unique_values > uv:\n",
    "            md_table_str += '|{}|{}|\\n'.format(col_name, unique_values)\n",
    "        else:\n",
    "            md_unique_str = ' '.join([\n",
    "                f'{name}: {value*100:.2f}\\%'\n",
    "                for name, value in \n",
    "                df[col_name].value_counts(normalize=True).items()\n",
    "            ])\n",
    "\n",
    "            md_table_str += '|{}|{}|{}\\n'.format(\n",
    "                col_name, unique_values, md_unique_str)\n",
    "    display(Markdown(md_table_str))"
   ]
  },
  {
   "cell_type": "code",
   "execution_count": 4,
   "metadata": {},
   "outputs": [
    {
     "data": {
      "text/html": [
       "<div>\n",
       "<style scoped>\n",
       "    .dataframe tbody tr th:only-of-type {\n",
       "        vertical-align: middle;\n",
       "    }\n",
       "\n",
       "    .dataframe tbody tr th {\n",
       "        vertical-align: top;\n",
       "    }\n",
       "\n",
       "    .dataframe thead th {\n",
       "        text-align: right;\n",
       "    }\n",
       "</style>\n",
       "<table border=\"1\" class=\"dataframe\">\n",
       "  <thead>\n",
       "    <tr style=\"text-align: right;\">\n",
       "      <th></th>\n",
       "      <th>review_id</th>\n",
       "      <th>review_text</th>\n",
       "      <th>recommended</th>\n",
       "    </tr>\n",
       "  </thead>\n",
       "  <tbody>\n",
       "    <tr>\n",
       "      <th>0</th>\n",
       "      <td>136024101</td>\n",
       "      <td>good game\\n</td>\n",
       "      <td>True</td>\n",
       "    </tr>\n",
       "    <tr>\n",
       "      <th>1</th>\n",
       "      <td>136022433</td>\n",
       "      <td>BHVR implemented dc penalty cos they apparentl...</td>\n",
       "      <td>False</td>\n",
       "    </tr>\n",
       "    <tr>\n",
       "      <th>2</th>\n",
       "      <td>136022116</td>\n",
       "      <td>เกมหมาๆ คิลเก่งก็เก่งไปเลย กากก็กากสัส กดโซโล่...</td>\n",
       "      <td>False</td>\n",
       "    </tr>\n",
       "    <tr>\n",
       "      <th>3</th>\n",
       "      <td>136019421</td>\n",
       "      <td>This game is very fun unless you get fucked by...</td>\n",
       "      <td>True</td>\n",
       "    </tr>\n",
       "    <tr>\n",
       "      <th>4</th>\n",
       "      <td>136019209</td>\n",
       "      <td>Why?</td>\n",
       "      <td>False</td>\n",
       "    </tr>\n",
       "  </tbody>\n",
       "</table>\n",
       "</div>"
      ],
      "text/plain": [
       "   review_id                                        review_text  recommended\n",
       "0  136024101                                        good game\\n         True\n",
       "1  136022433  BHVR implemented dc penalty cos they apparentl...        False\n",
       "2  136022116  เกมหมาๆ คิลเก่งก็เก่งไปเลย กากก็กากสัส กดโซโล่...        False\n",
       "3  136019421  This game is very fun unless you get fucked by...         True\n",
       "4  136019209                                               Why?        False"
      ]
     },
     "execution_count": 4,
     "metadata": {},
     "output_type": "execute_result"
    }
   ],
   "source": [
    "# Loading the dataset\n",
    "\n",
    "df = pd.read_csv('data/raw/dbd_english_reviews.csv')\n",
    "df.head()"
   ]
  },
  {
   "cell_type": "code",
   "execution_count": 5,
   "metadata": {},
   "outputs": [
    {
     "data": {
      "text/plain": [
       "'Reviews on DataFrame 173648'"
      ]
     },
     "metadata": {},
     "output_type": "display_data"
    },
    {
     "data": {
      "text/markdown": [
       "|             |   % Missing Values |\n",
       "|:------------|-------------------:|\n",
       "| review_text |           0.237262 |\n",
       "| review_id   |           0        |\n",
       "| recommended |           0        |"
      ],
      "text/plain": [
       "<IPython.core.display.Markdown object>"
      ]
     },
     "metadata": {},
     "output_type": "display_data"
    },
    {
     "data": {
      "text/markdown": [
       "|Column Name|Unique Values||\n",
       "|---|---|---|\n",
       "|review_id|173648|\n",
       "|review_text|140299|\n",
       "|recommended|2|True: 81.03\\% False: 18.97\\%\n"
      ],
      "text/plain": [
       "<IPython.core.display.Markdown object>"
      ]
     },
     "metadata": {},
     "output_type": "display_data"
    }
   ],
   "source": [
    "# Checking basic information about the dataset\n",
    "\n",
    "display(f'Reviews on DataFrame {len(df)}')\n",
    "display_missing_values(df)\n",
    "unique_values_table(df)"
   ]
  },
  {
   "cell_type": "code",
   "execution_count": 6,
   "metadata": {},
   "outputs": [],
   "source": [
    "# Drop reviews with missing values\n",
    "\n",
    "df.dropna(subset=['review_text'], inplace=True)"
   ]
  },
  {
   "cell_type": "code",
   "execution_count": 7,
   "metadata": {},
   "outputs": [
    {
     "data": {
      "text/html": [
       "<div>\n",
       "<style scoped>\n",
       "    .dataframe tbody tr th:only-of-type {\n",
       "        vertical-align: middle;\n",
       "    }\n",
       "\n",
       "    .dataframe tbody tr th {\n",
       "        vertical-align: top;\n",
       "    }\n",
       "\n",
       "    .dataframe thead th {\n",
       "        text-align: right;\n",
       "    }\n",
       "</style>\n",
       "<table border=\"1\" class=\"dataframe\">\n",
       "  <thead>\n",
       "    <tr style=\"text-align: right;\">\n",
       "      <th></th>\n",
       "      <th>review_id</th>\n",
       "      <th>review_text</th>\n",
       "      <th>recommended</th>\n",
       "      <th>preproc_review_text</th>\n",
       "    </tr>\n",
       "  </thead>\n",
       "  <tbody>\n",
       "    <tr>\n",
       "      <th>0</th>\n",
       "      <td>136024101</td>\n",
       "      <td>good game\\n</td>\n",
       "      <td>True</td>\n",
       "      <td>good game</td>\n",
       "    </tr>\n",
       "    <tr>\n",
       "      <th>1</th>\n",
       "      <td>136022433</td>\n",
       "      <td>BHVR implemented dc penalty cos they apparentl...</td>\n",
       "      <td>False</td>\n",
       "      <td>bhvr implemented dc penalty co apparently dont...</td>\n",
       "    </tr>\n",
       "    <tr>\n",
       "      <th>2</th>\n",
       "      <td>136022116</td>\n",
       "      <td>เกมหมาๆ คิลเก่งก็เก่งไปเลย กากก็กากสัส กดโซโล่...</td>\n",
       "      <td>False</td>\n",
       "      <td></td>\n",
       "    </tr>\n",
       "    <tr>\n",
       "      <th>3</th>\n",
       "      <td>136019421</td>\n",
       "      <td>This game is very fun unless you get fucked by...</td>\n",
       "      <td>True</td>\n",
       "      <td>game fun unless get fucked michael myers fun a...</td>\n",
       "    </tr>\n",
       "    <tr>\n",
       "      <th>4</th>\n",
       "      <td>136019209</td>\n",
       "      <td>Why?</td>\n",
       "      <td>False</td>\n",
       "      <td></td>\n",
       "    </tr>\n",
       "  </tbody>\n",
       "</table>\n",
       "</div>"
      ],
      "text/plain": [
       "   review_id                                        review_text  recommended  \\\n",
       "0  136024101                                        good game\\n         True   \n",
       "1  136022433  BHVR implemented dc penalty cos they apparentl...        False   \n",
       "2  136022116  เกมหมาๆ คิลเก่งก็เก่งไปเลย กากก็กากสัส กดโซโล่...        False   \n",
       "3  136019421  This game is very fun unless you get fucked by...         True   \n",
       "4  136019209                                               Why?        False   \n",
       "\n",
       "                                 preproc_review_text  \n",
       "0                                          good game  \n",
       "1  bhvr implemented dc penalty co apparently dont...  \n",
       "2                                                     \n",
       "3  game fun unless get fucked michael myers fun a...  \n",
       "4                                                     "
      ]
     },
     "execution_count": 7,
     "metadata": {},
     "output_type": "execute_result"
    }
   ],
   "source": [
    "# Pre-processing the review texts\n",
    "\n",
    "df['preproc_review_text'] = df['review_text'].apply(preprocess_review)\n",
    "df.head()"
   ]
  },
  {
   "cell_type": "code",
   "execution_count": 8,
   "metadata": {},
   "outputs": [
    {
     "name": "stdout",
     "output_type": "stream",
     "text": [
      "Train set: 138588, 138588\n",
      "Validation set: 17324, 17324\n",
      "Test set: 17324, 17324\n"
     ]
    }
   ],
   "source": [
    "# Splitting the dataset into train, validation and test sets\n",
    "\n",
    "# Train and Temp (Test + Validation)\n",
    "\n",
    "X = df['preproc_review_text']\n",
    "y = df['recommended']\n",
    "\n",
    "X_train, X_temp, y_train, y_temp = train_test_split(X, y, test_size=0.2, random_state=SEED)\n",
    "\n",
    "# Splitting the temp set into test and validation sets\n",
    "\n",
    "X_test, X_val, y_test, y_val = train_test_split(X_temp, y_temp, test_size=0.5, random_state=SEED)\n",
    "\n",
    "# Verify the size of each set\n",
    "\n",
    "print(f'Train set: {len(X_train)}, {len(y_train)}')\n",
    "print(f'Validation set: {len(X_val)}, {len(y_val)}')\n",
    "print(f'Test set: {len(X_test)}, {len(y_test)}')"
   ]
  },
  {
   "cell_type": "code",
   "execution_count": 9,
   "metadata": {},
   "outputs": [],
   "source": [
    "# Exporting the pre-processed splits to npz files\n",
    "\n",
    "np.savez_compressed('data/processed/dbd_proc_train.npz', X_train=X_train, y_train=y_train)\n",
    "np.savez_compressed('data/processed/dbd_proc_val.npz', X_val=X_val, y_val=y_val)\n",
    "np.savez_compressed('data/processed/dbd_proc_test.npz', X_test=X_test, y_test=y_test)\n"
   ]
  }
 ],
 "metadata": {
  "kernelspec": {
   "display_name": "nlp",
   "language": "python",
   "name": "python3"
  },
  "language_info": {
   "codemirror_mode": {
    "name": "ipython",
    "version": 3
   },
   "file_extension": ".py",
   "mimetype": "text/x-python",
   "name": "python",
   "nbconvert_exporter": "python",
   "pygments_lexer": "ipython3",
   "version": "3.9.13"
  },
  "orig_nbformat": 4
 },
 "nbformat": 4,
 "nbformat_minor": 2
}
